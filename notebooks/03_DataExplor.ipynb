{
 "cells": [
  {
   "attachments": {},
   "cell_type": "markdown",
   "metadata": {},
   "source": [
    "# 3 Hands On: Data Exploration"
   ]
  },
  {
   "attachments": {},
   "cell_type": "markdown",
   "metadata": {},
   "source": [
    "## 1 Summarization\n",
    "Load the data set carIns final. It already has the imputation of missing values"
   ]
  },
  {
   "attachments": {},
   "cell_type": "markdown",
   "metadata": {},
   "source": [
    "### 1. Using the package dplyr, answer the following questions:"
   ]
  },
  {
   "cell_type": "code",
   "execution_count": 2,
   "metadata": {
    "vscode": {
     "languageId": "r"
    }
   },
   "outputs": [
    {
     "name": "stderr",
     "output_type": "stream",
     "text": [
      "\n",
      "Attaching package: 'dplyr'\n",
      "\n",
      "\n",
      "The following objects are masked from 'package:stats':\n",
      "\n",
      "    filter, lag\n",
      "\n",
      "\n",
      "The following objects are masked from 'package:base':\n",
      "\n",
      "    intersect, setdiff, setequal, union\n",
      "\n",
      "\n"
     ]
    }
   ],
   "source": [
    "library(\"dplyr\")"
   ]
  },
  {
   "attachments": {},
   "cell_type": "markdown",
   "metadata": {},
   "source": [
    "(a) Obtain the number of cars by bodyStyle"
   ]
  },
  {
   "cell_type": "code",
   "execution_count": 3,
   "metadata": {
    "vscode": {
     "languageId": "r"
    }
   },
   "outputs": [
    {
     "data": {
      "text/html": [
       "<table class=\"dataframe\">\n",
       "<caption>A grouped_df: 5 × 2</caption>\n",
       "<thead>\n",
       "\t<tr><th scope=col>bodyStyle</th><th scope=col>n</th></tr>\n",
       "\t<tr><th scope=col>&lt;fct&gt;</th><th scope=col>&lt;int&gt;</th></tr>\n",
       "</thead>\n",
       "<tbody>\n",
       "\t<tr><td>convertible</td><td> 6</td></tr>\n",
       "\t<tr><td>hardtop    </td><td> 8</td></tr>\n",
       "\t<tr><td>hatchback  </td><td>70</td></tr>\n",
       "\t<tr><td>sedan      </td><td>96</td></tr>\n",
       "\t<tr><td>wagon      </td><td>25</td></tr>\n",
       "</tbody>\n",
       "</table>\n"
      ],
      "text/latex": [
       "A grouped\\_df: 5 × 2\n",
       "\\begin{tabular}{ll}\n",
       " bodyStyle & n\\\\\n",
       " <fct> & <int>\\\\\n",
       "\\hline\n",
       "\t convertible &  6\\\\\n",
       "\t hardtop     &  8\\\\\n",
       "\t hatchback   & 70\\\\\n",
       "\t sedan       & 96\\\\\n",
       "\t wagon       & 25\\\\\n",
       "\\end{tabular}\n"
      ],
      "text/markdown": [
       "\n",
       "A grouped_df: 5 × 2\n",
       "\n",
       "| bodyStyle &lt;fct&gt; | n &lt;int&gt; |\n",
       "|---|---|\n",
       "| convertible |  6 |\n",
       "| hardtop     |  8 |\n",
       "| hatchback   | 70 |\n",
       "| sedan       | 96 |\n",
       "| wagon       | 25 |\n",
       "\n"
      ],
      "text/plain": [
       "  bodyStyle   n \n",
       "1 convertible  6\n",
       "2 hardtop      8\n",
       "3 hatchback   70\n",
       "4 sedan       96\n",
       "5 wagon       25"
      ]
     },
     "metadata": {},
     "output_type": "display_data"
    }
   ],
   "source": [
    "df <- load(\"../data/03_dataexplor/carIns_final.Rdata\")\n",
    "\n",
    "carIns_final %>%\n",
    "   group_by(bodyStyle) %>%\n",
    "   count()\n",
    "\n"
   ]
  },
  {
   "attachments": {},
   "cell_type": "markdown",
   "metadata": {},
   "source": [
    "(b) Obtain the number of cars by bodyStyle and fuelType."
   ]
  },
  {
   "cell_type": "code",
   "execution_count": 4,
   "metadata": {
    "vscode": {
     "languageId": "r"
    }
   },
   "outputs": [
    {
     "data": {
      "text/html": [
       "<table class=\"dataframe\">\n",
       "<caption>A grouped_df: 9 × 3</caption>\n",
       "<thead>\n",
       "\t<tr><th scope=col>bodyStyle</th><th scope=col>fuelType</th><th scope=col>n</th></tr>\n",
       "\t<tr><th scope=col>&lt;fct&gt;</th><th scope=col>&lt;fct&gt;</th><th scope=col>&lt;int&gt;</th></tr>\n",
       "</thead>\n",
       "<tbody>\n",
       "\t<tr><td>convertible</td><td>gas   </td><td> 6</td></tr>\n",
       "\t<tr><td>hardtop    </td><td>diesel</td><td> 1</td></tr>\n",
       "\t<tr><td>hardtop    </td><td>gas   </td><td> 7</td></tr>\n",
       "\t<tr><td>hatchback  </td><td>diesel</td><td> 1</td></tr>\n",
       "\t<tr><td>hatchback  </td><td>gas   </td><td>69</td></tr>\n",
       "\t<tr><td>sedan      </td><td>diesel</td><td>15</td></tr>\n",
       "\t<tr><td>sedan      </td><td>gas   </td><td>81</td></tr>\n",
       "\t<tr><td>wagon      </td><td>diesel</td><td> 3</td></tr>\n",
       "\t<tr><td>wagon      </td><td>gas   </td><td>22</td></tr>\n",
       "</tbody>\n",
       "</table>\n"
      ],
      "text/latex": [
       "A grouped\\_df: 9 × 3\n",
       "\\begin{tabular}{lll}\n",
       " bodyStyle & fuelType & n\\\\\n",
       " <fct> & <fct> & <int>\\\\\n",
       "\\hline\n",
       "\t convertible & gas    &  6\\\\\n",
       "\t hardtop     & diesel &  1\\\\\n",
       "\t hardtop     & gas    &  7\\\\\n",
       "\t hatchback   & diesel &  1\\\\\n",
       "\t hatchback   & gas    & 69\\\\\n",
       "\t sedan       & diesel & 15\\\\\n",
       "\t sedan       & gas    & 81\\\\\n",
       "\t wagon       & diesel &  3\\\\\n",
       "\t wagon       & gas    & 22\\\\\n",
       "\\end{tabular}\n"
      ],
      "text/markdown": [
       "\n",
       "A grouped_df: 9 × 3\n",
       "\n",
       "| bodyStyle &lt;fct&gt; | fuelType &lt;fct&gt; | n &lt;int&gt; |\n",
       "|---|---|---|\n",
       "| convertible | gas    |  6 |\n",
       "| hardtop     | diesel |  1 |\n",
       "| hardtop     | gas    |  7 |\n",
       "| hatchback   | diesel |  1 |\n",
       "| hatchback   | gas    | 69 |\n",
       "| sedan       | diesel | 15 |\n",
       "| sedan       | gas    | 81 |\n",
       "| wagon       | diesel |  3 |\n",
       "| wagon       | gas    | 22 |\n",
       "\n"
      ],
      "text/plain": [
       "  bodyStyle   fuelType n \n",
       "1 convertible gas       6\n",
       "2 hardtop     diesel    1\n",
       "3 hardtop     gas       7\n",
       "4 hatchback   diesel    1\n",
       "5 hatchback   gas      69\n",
       "6 sedan       diesel   15\n",
       "7 sedan       gas      81\n",
       "8 wagon       diesel    3\n",
       "9 wagon       gas      22"
      ]
     },
     "metadata": {},
     "output_type": "display_data"
    }
   ],
   "source": [
    "carIns_final %>%\n",
    "   group_by(bodyStyle, fuelType) %>%\n",
    "   count()"
   ]
  },
  {
   "attachments": {},
   "cell_type": "markdown",
   "metadata": {},
   "source": [
    "(c) Obtain the mean and the standard deviation of the attribute cityMpg by bodyStyle in ascending order."
   ]
  },
  {
   "cell_type": "code",
   "execution_count": 5,
   "metadata": {
    "vscode": {
     "languageId": "r"
    }
   },
   "outputs": [
    {
     "data": {
      "text/html": [
       "<table class=\"dataframe\">\n",
       "<caption>A tibble: 5 × 3</caption>\n",
       "<thead>\n",
       "\t<tr><th scope=col>bodyStyle</th><th scope=col>cityMpg.mean</th><th scope=col>cityMpg.sd</th></tr>\n",
       "\t<tr><th scope=col>&lt;fct&gt;</th><th scope=col>&lt;dbl&gt;</th><th scope=col>&lt;dbl&gt;</th></tr>\n",
       "</thead>\n",
       "<tbody>\n",
       "\t<tr><td>convertible</td><td>20.50000</td><td>3.391165</td></tr>\n",
       "\t<tr><td>hardtop    </td><td>21.62500</td><td>5.423165</td></tr>\n",
       "\t<tr><td>hatchback  </td><td>26.31429</td><td>7.169870</td></tr>\n",
       "\t<tr><td>sedan      </td><td>25.32292</td><td>6.599035</td></tr>\n",
       "\t<tr><td>wagon      </td><td>24.04000</td><td>4.217819</td></tr>\n",
       "</tbody>\n",
       "</table>\n"
      ],
      "text/latex": [
       "A tibble: 5 × 3\n",
       "\\begin{tabular}{lll}\n",
       " bodyStyle & cityMpg.mean & cityMpg.sd\\\\\n",
       " <fct> & <dbl> & <dbl>\\\\\n",
       "\\hline\n",
       "\t convertible & 20.50000 & 3.391165\\\\\n",
       "\t hardtop     & 21.62500 & 5.423165\\\\\n",
       "\t hatchback   & 26.31429 & 7.169870\\\\\n",
       "\t sedan       & 25.32292 & 6.599035\\\\\n",
       "\t wagon       & 24.04000 & 4.217819\\\\\n",
       "\\end{tabular}\n"
      ],
      "text/markdown": [
       "\n",
       "A tibble: 5 × 3\n",
       "\n",
       "| bodyStyle &lt;fct&gt; | cityMpg.mean &lt;dbl&gt; | cityMpg.sd &lt;dbl&gt; |\n",
       "|---|---|---|\n",
       "| convertible | 20.50000 | 3.391165 |\n",
       "| hardtop     | 21.62500 | 5.423165 |\n",
       "| hatchback   | 26.31429 | 7.169870 |\n",
       "| sedan       | 25.32292 | 6.599035 |\n",
       "| wagon       | 24.04000 | 4.217819 |\n",
       "\n"
      ],
      "text/plain": [
       "  bodyStyle   cityMpg.mean cityMpg.sd\n",
       "1 convertible 20.50000     3.391165  \n",
       "2 hardtop     21.62500     5.423165  \n",
       "3 hatchback   26.31429     7.169870  \n",
       "4 sedan       25.32292     6.599035  \n",
       "5 wagon       24.04000     4.217819  "
      ]
     },
     "metadata": {},
     "output_type": "display_data"
    }
   ],
   "source": [
    "carIns_final %>%\n",
    "   group_by(bodyStyle) %>%\n",
    "   summarise(\n",
    "      cityMpg.mean=mean(cityMpg), \n",
    "      cityMpg.sd = sd(cityMpg)\n",
    "   )"
   ]
  },
  {
   "attachments": {},
   "cell_type": "markdown",
   "metadata": {},
   "source": [
    "(d) Also by bodyStyle, and for the attributes cityMpg and highwayMpg, obtain the mean, the standard deviation, the median and the inter-quartile range."
   ]
  },
  {
   "cell_type": "code",
   "execution_count": 6,
   "metadata": {
    "vscode": {
     "languageId": "r"
    }
   },
   "outputs": [
    {
     "data": {
      "text/html": [
       "<table class=\"dataframe\">\n",
       "<caption>A tibble: 5 × 8</caption>\n",
       "<thead>\n",
       "\t<tr><th scope=col>bodyStyle</th><th scope=col>cityMpg.mean</th><th scope=col>cityMpg.sd</th><th scope=col>cityMpg.median</th><th scope=col>highwayMpg.mean</th><th scope=col>highwayMpg.sd</th><th scope=col>highwayMpg.median</th><th scope=col>carretera</th></tr>\n",
       "\t<tr><th scope=col>&lt;fct&gt;</th><th scope=col>&lt;dbl&gt;</th><th scope=col>&lt;dbl&gt;</th><th scope=col>&lt;dbl&gt;</th><th scope=col>&lt;dbl&gt;</th><th scope=col>&lt;dbl&gt;</th><th scope=col>&lt;dbl&gt;</th><th scope=col>&lt;dbl&gt;</th></tr>\n",
       "</thead>\n",
       "<tbody>\n",
       "\t<tr><td>convertible</td><td>20.50000</td><td>3.391165</td><td>21</td><td>26.00000</td><td>4.289522</td><td>27.0</td><td> 3.00</td></tr>\n",
       "\t<tr><td>hardtop    </td><td>21.62500</td><td>5.423165</td><td>23</td><td>27.25000</td><td>6.088631</td><td>27.5</td><td> 5.00</td></tr>\n",
       "\t<tr><td>hatchback  </td><td>26.31429</td><td>7.169870</td><td>26</td><td>32.17143</td><td>7.044314</td><td>31.5</td><td>11.75</td></tr>\n",
       "\t<tr><td>sedan      </td><td>25.32292</td><td>6.599035</td><td>25</td><td>30.83333</td><td>7.174027</td><td>30.5</td><td>11.25</td></tr>\n",
       "\t<tr><td>wagon      </td><td>24.04000</td><td>4.217819</td><td>24</td><td>28.72000</td><td>4.703899</td><td>29.0</td><td> 7.00</td></tr>\n",
       "</tbody>\n",
       "</table>\n"
      ],
      "text/latex": [
       "A tibble: 5 × 8\n",
       "\\begin{tabular}{llllllll}\n",
       " bodyStyle & cityMpg.mean & cityMpg.sd & cityMpg.median & highwayMpg.mean & highwayMpg.sd & highwayMpg.median & carretera\\\\\n",
       " <fct> & <dbl> & <dbl> & <dbl> & <dbl> & <dbl> & <dbl> & <dbl>\\\\\n",
       "\\hline\n",
       "\t convertible & 20.50000 & 3.391165 & 21 & 26.00000 & 4.289522 & 27.0 &  3.00\\\\\n",
       "\t hardtop     & 21.62500 & 5.423165 & 23 & 27.25000 & 6.088631 & 27.5 &  5.00\\\\\n",
       "\t hatchback   & 26.31429 & 7.169870 & 26 & 32.17143 & 7.044314 & 31.5 & 11.75\\\\\n",
       "\t sedan       & 25.32292 & 6.599035 & 25 & 30.83333 & 7.174027 & 30.5 & 11.25\\\\\n",
       "\t wagon       & 24.04000 & 4.217819 & 24 & 28.72000 & 4.703899 & 29.0 &  7.00\\\\\n",
       "\\end{tabular}\n"
      ],
      "text/markdown": [
       "\n",
       "A tibble: 5 × 8\n",
       "\n",
       "| bodyStyle &lt;fct&gt; | cityMpg.mean &lt;dbl&gt; | cityMpg.sd &lt;dbl&gt; | cityMpg.median &lt;dbl&gt; | highwayMpg.mean &lt;dbl&gt; | highwayMpg.sd &lt;dbl&gt; | highwayMpg.median &lt;dbl&gt; | carretera &lt;dbl&gt; |\n",
       "|---|---|---|---|---|---|---|---|\n",
       "| convertible | 20.50000 | 3.391165 | 21 | 26.00000 | 4.289522 | 27.0 |  3.00 |\n",
       "| hardtop     | 21.62500 | 5.423165 | 23 | 27.25000 | 6.088631 | 27.5 |  5.00 |\n",
       "| hatchback   | 26.31429 | 7.169870 | 26 | 32.17143 | 7.044314 | 31.5 | 11.75 |\n",
       "| sedan       | 25.32292 | 6.599035 | 25 | 30.83333 | 7.174027 | 30.5 | 11.25 |\n",
       "| wagon       | 24.04000 | 4.217819 | 24 | 28.72000 | 4.703899 | 29.0 |  7.00 |\n",
       "\n"
      ],
      "text/plain": [
       "  bodyStyle   cityMpg.mean cityMpg.sd cityMpg.median highwayMpg.mean\n",
       "1 convertible 20.50000     3.391165   21             26.00000       \n",
       "2 hardtop     21.62500     5.423165   23             27.25000       \n",
       "3 hatchback   26.31429     7.169870   26             32.17143       \n",
       "4 sedan       25.32292     6.599035   25             30.83333       \n",
       "5 wagon       24.04000     4.217819   24             28.72000       \n",
       "  highwayMpg.sd highwayMpg.median carretera\n",
       "1 4.289522      27.0               3.00    \n",
       "2 6.088631      27.5               5.00    \n",
       "3 7.044314      31.5              11.75    \n",
       "4 7.174027      30.5              11.25    \n",
       "5 4.703899      29.0               7.00    "
      ]
     },
     "metadata": {},
     "output_type": "display_data"
    }
   ],
   "source": [
    "carIns_final %>%\n",
    "   group_by(bodyStyle) %>%\n",
    "   summarise(\n",
    "      cityMpg.mean=mean(cityMpg), \n",
    "      cityMpg.sd = sd(cityMpg),\n",
    "      cityMpg.median = median(cityMpg),\n",
    "      highwayMpg.mean = mean(highwayMpg),\n",
    "      highwayMpg.sd = sd(highwayMpg),\n",
    "      highwayMpg.median = median(highwayMpg),\n",
    "      carretera = IQR(highwayMpg)\n",
    "   )\n"
   ]
  },
  {
   "attachments": {},
   "cell_type": "markdown",
   "metadata": {},
   "source": [
    "# 2 Visualization"
   ]
  },
  {
   "attachments": {},
   "cell_type": "markdown",
   "metadata": {},
   "source": [
    "## 2. Using the package ggplot2, create graphs that you find adequate to answer the following questions."
   ]
  },
  {
   "attachments": {},
   "cell_type": "markdown",
   "metadata": {},
   "source": [
    "(e) Show the relationship between the attributes cityMpg and highwayMpg"
   ]
  },
  {
   "cell_type": "code",
   "execution_count": 7,
   "metadata": {
    "vscode": {
     "languageId": "r"
    }
   },
   "outputs": [
    {
     "data": {
      "image/png": "[encoded data removed]",
      "text/plain": [
       "plot without title"
      ]
     },
     "metadata": {
      "image/png": {
       "height": 420,
       "width": 420
      }
     },
     "output_type": "display_data"
    }
   ],
   "source": [
    "library(\"ggplot2\")\n",
    "\n",
    "ggplot(carIns_final, aes(x = cityMpg, y=highwayMpg)) +\n",
    "   geom_point() +\n",
    "   ggtitle(\"Relationship between city and highway\")"
   ]
  },
  {
   "attachments": {},
   "cell_type": "markdown",
   "metadata": {},
   "source": [
    "(f) Show the distribution of cars by bodyStyle."
   ]
  },
  {
   "cell_type": "code",
   "execution_count": 8,
   "metadata": {
    "vscode": {
     "languageId": "r"
    }
   },
   "outputs": [
    {
     "data": {
      "image/png": "[encoded data removed]",
      "text/plain": [
       "plot without title"
      ]
     },
     "metadata": {
      "image/png": {
       "height": 420,
       "width": 420
      }
     },
     "output_type": "display_data"
    }
   ],
   "source": [
    "ggplot(carIns_final, aes(x = bodyStyle, fill=bodyStyle)) +\n",
    "   geom_bar() +\n",
    "   ggtitle(\"Distribution of cars by bodyStyle\")+\n",
    "   xlab(\"bodyStyle\") + ylab(\"Cars\") "
   ]
  },
  {
   "attachments": {},
   "cell_type": "markdown",
   "metadata": {},
   "source": [
    "(g) Show the distribution of cars by price. Suggestion: create bins of width equal to 5000."
   ]
  },
  {
   "cell_type": "code",
   "execution_count": 9,
   "metadata": {
    "vscode": {
     "languageId": "r"
    }
   },
   "outputs": [
    {
     "data": {
      "image/png": "[encoded data removed]",
      "text/plain": [
       "plot without title"
      ]
     },
     "metadata": {
      "image/png": {
       "height": 420,
       "width": 420
      }
     },
     "output_type": "display_data"
    }
   ],
   "source": [
    "carIns_final <- carIns_final %>%\n",
    "   mutate(price.bins = cut(price, breaks= 5000*(0:10),dig.lab=5))\n",
    "\n",
    "disCarByPrice <- carIns_final %>%\n",
    "   ggplot(aes(x = price.bins, fill=price.bins)) +\n",
    "   geom_bar(position=\"stack\") +\n",
    "   ggtitle(\"Distribution of cars by price\") +\n",
    "   xlab(\"Price\") + ylab(\"Cars\") \n",
    "\n",
    "disCarByPrice"
   ]
  },
  {
   "attachments": {},
   "cell_type": "markdown",
   "metadata": {},
   "source": [
    "(h) Add the information of the density estimation to the previous graph."
   ]
  },
  {
   "cell_type": "code",
   "execution_count": 10,
   "metadata": {
    "vscode": {
     "languageId": "r"
    }
   },
   "outputs": [
    {
     "name": "stderr",
     "output_type": "stream",
     "text": [
      "Warning message:\n",
      "\"\u001b[1m\u001b[22mGroups with fewer than two data points have been dropped.\"\n",
      "Warning message in max(ids, na.rm = TRUE):\n",
      "\"no non-missing arguments to max; returning -Inf\"\n",
      "Warning message:\n",
      "\"\u001b[1m\u001b[22mGroups with fewer than two data points have been dropped.\"\n",
      "Warning message in max(ids, na.rm = TRUE):\n",
      "\"no non-missing arguments to max; returning -Inf\"\n"
     ]
    },
    {
     "data": {
      "image/png": "[encoded data removed]",
      "text/plain": [
       "plot without title"
      ]
     },
     "metadata": {
      "image/png": {
       "height": 420,
       "width": 420
      }
     },
     "output_type": "display_data"
    },
    {
     "data": {
      "image/png": "[encoded data removed]",
      "text/plain": [
       "plot without title"
      ]
     },
     "metadata": {
      "image/png": {
       "height": 420,
       "width": 420
      }
     },
     "output_type": "display_data"
    }
   ],
   "source": [
    "disCarByPrice +\n",
    "   geom_density() \n",
    "\n",
    "carIns_final %>%\n",
    "   ggplot(aes(x = price.bins, fill=price.bins)) +\n",
    "   geom_density() +\n",
    "   ggtitle(\"Distribution of cars by price\") +\n",
    "   xlab(\"Price\") + ylab(\"Cars\") "
   ]
  },
  {
   "attachments": {},
   "cell_type": "markdown",
   "metadata": {},
   "source": [
    "(i) Check (visually) if it is plausible to consider that price follows a normal distribution."
   ]
  },
  {
   "attachments": {},
   "cell_type": "markdown",
   "metadata": {},
   "source": [
    "(j) Show the distribution of price by make attribute. Suggestion: use boxplots and the function coord_flip()."
   ]
  },
  {
   "cell_type": "code",
   "execution_count": 11,
   "metadata": {
    "vscode": {
     "languageId": "r"
    }
   },
   "outputs": [
    {
     "data": {
      "image/png": "[encoded data removed]",
      "text/plain": [
       "plot without title"
      ]
     },
     "metadata": {
      "image/png": {
       "height": 420,
       "width": 420
      }
     },
     "output_type": "display_data"
    }
   ],
   "source": [
    "carIns_final %>%\n",
    "   ggplot(aes(x = make,price, fill=price.bins)) +\n",
    "   geom_boxplot() +\n",
    "   ggtitle(\"Distribution of price by make\") +\n",
    "   coord_flip()"
   ]
  },
  {
   "attachments": {},
   "cell_type": "markdown",
   "metadata": {},
   "source": [
    "(k) Show the distribution of price by nDoors attribute. Suggestion: use histograms."
   ]
  },
  {
   "cell_type": "code",
   "execution_count": 12,
   "metadata": {
    "vscode": {
     "languageId": "r"
    }
   },
   "outputs": [
    {
     "name": "stderr",
     "output_type": "stream",
     "text": [
      "\u001b[1m\u001b[22m`stat_bin()` using `bins = 30`. Pick better value with `binwidth`.\n"
     ]
    },
    {
     "data": {
      "image/png": "[encoded data removed]",
      "text/plain": [
       "plot without title"
      ]
     },
     "metadata": {
      "image/png": {
       "height": 420,
       "width": 420
      }
     },
     "output_type": "display_data"
    }
   ],
   "source": [
    "carIns_final %>%\n",
    "   ggplot(aes(x = price, fill=nDoors)) +\n",
    "   geom_histogram() +\n",
    "   ggtitle(\"Distribution of price by nDoors\")"
   ]
  },
  {
   "attachments": {},
   "cell_type": "markdown",
   "metadata": {},
   "source": [
    "(l) Show the distribution of price by bodyStyle and nDoors attributes. Suggestion: use histograms."
   ]
  },
  {
   "cell_type": "code",
   "execution_count": 13,
   "metadata": {
    "vscode": {
     "languageId": "r"
    }
   },
   "outputs": [
    {
     "name": "stderr",
     "output_type": "stream",
     "text": [
      "Warning message:\n",
      "\"\u001b[1m\u001b[22mUsing alpha for a discrete variable is not advised.\"\n"
     ]
    },
    {
     "name": "stderr",
     "output_type": "stream",
     "text": [
      "\u001b[1m\u001b[22m`stat_bin()` using `bins = 30`. Pick better value with `binwidth`.\n"
     ]
    },
    {
     "data": {
      "image/png": "[encoded data removed]",
      "text/plain": [
       "plot without title"
      ]
     },
     "metadata": {
      "image/png": {
       "height": 420,
       "width": 420
      }
     },
     "output_type": "display_data"
    }
   ],
   "source": [
    "carIns_final %>%\n",
    "   ggplot(aes(x = price, fill=bodyStyle, alpha=nDoors)) +\n",
    "   geom_histogram() +\n",
    "   ggtitle(\"Distribution of price by bodyStyly and nDoors\")"
   ]
  },
  {
   "attachments": {},
   "cell_type": "markdown",
   "metadata": {},
   "source": [
    "(m) Add the parameter scales=\"free_y\" to the facet function in the previous graph."
   ]
  },
  {
   "cell_type": "code",
   "execution_count": 14,
   "metadata": {
    "vscode": {
     "languageId": "r"
    }
   },
   "outputs": [
    {
     "name": "stderr",
     "output_type": "stream",
     "text": [
      "Warning message:\n",
      "\"\u001b[1m\u001b[22mUsing alpha for a discrete variable is not advised.\"\n",
      "\u001b[1m\u001b[22m`stat_bin()` using `bins = 30`. Pick better value with `binwidth`.\n"
     ]
    },
    {
     "data": {
      "image/png": "[encoded data removed]",
      "text/plain": [
       "plot without title"
      ]
     },
     "metadata": {
      "image/png": {
       "height": 420,
       "width": 420
      }
     },
     "output_type": "display_data"
    }
   ],
   "source": [
    "last_plot() + facet_grid(bodyStyle ~ nDoors, scales='free_y')"
   ]
  }
 ],
 "metadata": {
  "kernelspec": {
   "display_name": "R",
   "language": "R",
   "name": "ir"
  },
  "language_info": {
   "codemirror_mode": "r",
   "file_extension": ".r",
   "mimetype": "text/x-r-source",
   "name": "R",
   "pygments_lexer": "r",
   "version": "4.3.0"
  },
  "orig_nbformat": 4
 },
 "nbformat": 4,
 "nbformat_minor": 2
}
