{
 "cells": [
  {
   "cell_type": "code",
   "execution_count": 490,
   "metadata": {},
   "outputs": [],
   "source": [
    "from transformers import AutoTokenizer,AutoModelForCausalLM,AutoModelForSequenceClassification, GPT2Tokenizer, GPT2ForSequenceClassification, TextDataset, DataCollatorForLanguageModeling, Trainer, TrainingArguments\n",
    "from datasets import load_dataset, Dataset, DatasetDict\n",
    "import pandas as pd"
   ]
  },
  {
   "cell_type": "markdown",
   "metadata": {},
   "source": [
    "Initialize the GPT-2 tokenizer and model"
   ]
  },
  {
   "cell_type": "code",
   "execution_count": 555,
   "metadata": {},
   "outputs": [
    {
     "data": {
      "application/vnd.jupyter.widget-view+json": {
       "model_id": "00bd9722c49d4c579877d1f9f62abf94",
       "version_major": 2,
       "version_minor": 0
      },
      "text/plain": [
       "Downloading (…)/main/tokenizer.json:   0%|          | 0.00/1.36M [00:00<?, ?B/s]"
      ]
     },
     "metadata": {},
     "output_type": "display_data"
    }
   ],
   "source": [
    "tokenizer = AutoTokenizer.from_pretrained(\"gpt2-medium\")\n",
    "model = AutoModelForCausalLM.from_pretrained(\"gpt2-medium\")"
   ]
  },
  {
   "cell_type": "code",
   "execution_count": 517,
   "metadata": {},
   "outputs": [],
   "source": [
    "df = pd.read_csv('../data/corpus_turims.csv', encoding='utf8')"
   ]
  },
  {
   "cell_type": "code",
   "execution_count": 518,
   "metadata": {},
   "outputs": [],
   "source": [
    "df['words'] =  [item.split() for item in df['Respuesta']]"
   ]
  },
  {
   "cell_type": "code",
   "execution_count": 519,
   "metadata": {},
   "outputs": [
    {
     "data": {
      "text/html": [
       "<div>\n",
       "<style scoped>\n",
       "    .dataframe tbody tr th:only-of-type {\n",
       "        vertical-align: middle;\n",
       "    }\n",
       "\n",
       "    .dataframe tbody tr th {\n",
       "        vertical-align: top;\n",
       "    }\n",
       "\n",
       "    .dataframe thead th {\n",
       "        text-align: right;\n",
       "    }\n",
       "</style>\n",
       "<table border=\"1\" class=\"dataframe\">\n",
       "  <thead>\n",
       "    <tr style=\"text-align: right;\">\n",
       "      <th></th>\n",
       "      <th>Pregunta</th>\n",
       "      <th>Respuesta</th>\n",
       "      <th>words</th>\n",
       "    </tr>\n",
       "  </thead>\n",
       "  <tbody>\n",
       "    <tr>\n",
       "      <th>0</th>\n",
       "      <td>¿Cuál es el lugar turístico más visitado en Ec...</td>\n",
       "      <td>Las Islas Galápagos son el destino más popular...</td>\n",
       "      <td>[Las, Islas, Galápagos, son, el, destino, más,...</td>\n",
       "    </tr>\n",
       "    <tr>\n",
       "      <th>1</th>\n",
       "      <td>¿Qué se puede hacer en las Islas Galápagos?</td>\n",
       "      <td>En las Islas Galápagos, puedes hacer buceo, sn...</td>\n",
       "      <td>[En, las, Islas, Galápagos,, puedes, hacer, bu...</td>\n",
       "    </tr>\n",
       "    <tr>\n",
       "      <th>2</th>\n",
       "      <td>¿Cuál es el volcán más alto de Ecuador?</td>\n",
       "      <td>El volcán Chimborazo es el pico más alto de Ec...</td>\n",
       "      <td>[El, volcán, Chimborazo, es, el, pico, más, al...</td>\n",
       "    </tr>\n",
       "    <tr>\n",
       "      <th>3</th>\n",
       "      <td>¿Qué ciudades coloniales son famosas en Ecuador?</td>\n",
       "      <td>Quito y Cuenca son conocidas por sus hermosos ...</td>\n",
       "      <td>[Quito, y, Cuenca, son, conocidas, por, sus, h...</td>\n",
       "    </tr>\n",
       "    <tr>\n",
       "      <th>4</th>\n",
       "      <td>¿Cuál es el monumento más famoso en Quito?</td>\n",
       "      <td>La Basílica del Voto Nacional es uno de los mo...</td>\n",
       "      <td>[La, Basílica, del, Voto, Nacional, es, uno, d...</td>\n",
       "    </tr>\n",
       "    <tr>\n",
       "      <th>5</th>\n",
       "      <td>¿Dónde se encuentra la mitad del mundo en Ecua...</td>\n",
       "      <td>La Mitad del Mundo está cerca de Quito, en la ...</td>\n",
       "      <td>[La, Mitad, del, Mundo, está, cerca, de, Quito...</td>\n",
       "    </tr>\n",
       "    <tr>\n",
       "      <th>6</th>\n",
       "      <td>¿Cuáles son las playas más hermosas de la cost...</td>\n",
       "      <td>Las playas de Salinas, Montañita y Ayangue son...</td>\n",
       "      <td>[Las, playas, de, Salinas,, Montañita, y, Ayan...</td>\n",
       "    </tr>\n",
       "    <tr>\n",
       "      <th>7</th>\n",
       "      <td>¿Qué parque nacional es conocido por su selva ...</td>\n",
       "      <td>El Parque Nacional Yasuní es famoso por su bio...</td>\n",
       "      <td>[El, Parque, Nacional, Yasuní, es, famoso, por...</td>\n",
       "    </tr>\n",
       "    <tr>\n",
       "      <th>8</th>\n",
       "      <td>¿Qué animales se pueden ver en el Parque Nacio...</td>\n",
       "      <td>En Yasuní, puedes ver monos aulladores, jaguar...</td>\n",
       "      <td>[En, Yasuní,, puedes, ver, monos, aulladores,,...</td>\n",
       "    </tr>\n",
       "    <tr>\n",
       "      <th>9</th>\n",
       "      <td>¿Qué actividades se pueden hacer en el Parque ...</td>\n",
       "      <td>En el Parque Nacional Cajas, puedes hacer send...</td>\n",
       "      <td>[En, el, Parque, Nacional, Cajas,, puedes, hac...</td>\n",
       "    </tr>\n",
       "  </tbody>\n",
       "</table>\n",
       "</div>"
      ],
      "text/plain": [
       "                                            Pregunta  \\\n",
       "0  ¿Cuál es el lugar turístico más visitado en Ec...   \n",
       "1        ¿Qué se puede hacer en las Islas Galápagos?   \n",
       "2            ¿Cuál es el volcán más alto de Ecuador?   \n",
       "3   ¿Qué ciudades coloniales son famosas en Ecuador?   \n",
       "4         ¿Cuál es el monumento más famoso en Quito?   \n",
       "5  ¿Dónde se encuentra la mitad del mundo en Ecua...   \n",
       "6  ¿Cuáles son las playas más hermosas de la cost...   \n",
       "7  ¿Qué parque nacional es conocido por su selva ...   \n",
       "8  ¿Qué animales se pueden ver en el Parque Nacio...   \n",
       "9  ¿Qué actividades se pueden hacer en el Parque ...   \n",
       "\n",
       "                                           Respuesta  \\\n",
       "0  Las Islas Galápagos son el destino más popular...   \n",
       "1  En las Islas Galápagos, puedes hacer buceo, sn...   \n",
       "2  El volcán Chimborazo es el pico más alto de Ec...   \n",
       "3  Quito y Cuenca son conocidas por sus hermosos ...   \n",
       "4  La Basílica del Voto Nacional es uno de los mo...   \n",
       "5  La Mitad del Mundo está cerca de Quito, en la ...   \n",
       "6  Las playas de Salinas, Montañita y Ayangue son...   \n",
       "7  El Parque Nacional Yasuní es famoso por su bio...   \n",
       "8  En Yasuní, puedes ver monos aulladores, jaguar...   \n",
       "9  En el Parque Nacional Cajas, puedes hacer send...   \n",
       "\n",
       "                                               words  \n",
       "0  [Las, Islas, Galápagos, son, el, destino, más,...  \n",
       "1  [En, las, Islas, Galápagos,, puedes, hacer, bu...  \n",
       "2  [El, volcán, Chimborazo, es, el, pico, más, al...  \n",
       "3  [Quito, y, Cuenca, son, conocidas, por, sus, h...  \n",
       "4  [La, Basílica, del, Voto, Nacional, es, uno, d...  \n",
       "5  [La, Mitad, del, Mundo, está, cerca, de, Quito...  \n",
       "6  [Las, playas, de, Salinas,, Montañita, y, Ayan...  \n",
       "7  [El, Parque, Nacional, Yasuní, es, famoso, por...  \n",
       "8  [En, Yasuní,, puedes, ver, monos, aulladores,,...  \n",
       "9  [En, el, Parque, Nacional, Cajas,, puedes, hac...  "
      ]
     },
     "execution_count": 519,
     "metadata": {},
     "output_type": "execute_result"
    }
   ],
   "source": [
    "df.head(10)"
   ]
  },
  {
   "cell_type": "code",
   "execution_count": 520,
   "metadata": {},
   "outputs": [],
   "source": [
    "dataset = (load_dataset('csv', data_files='../data/corpus_turims.csv', encoding='utf8', split='train').train_test_split(train_size=.8, test_size=.2))"
   ]
  },
  {
   "cell_type": "code",
   "execution_count": 521,
   "metadata": {},
   "outputs": [],
   "source": [
    "dataset = (Dataset.from_pandas(df, split='train').train_test_split(train_size=.8, test_size=.2))"
   ]
  },
  {
   "cell_type": "code",
   "execution_count": 522,
   "metadata": {},
   "outputs": [
    {
     "data": {
      "text/plain": [
       "DatasetDict({\n",
       "    train: Dataset({\n",
       "        features: ['Pregunta', 'Respuesta', 'words'],\n",
       "        num_rows: 47\n",
       "    })\n",
       "    test: Dataset({\n",
       "        features: ['Pregunta', 'Respuesta', 'words'],\n",
       "        num_rows: 12\n",
       "    })\n",
       "})"
      ]
     },
     "execution_count": 522,
     "metadata": {},
     "output_type": "execute_result"
    }
   ],
   "source": [
    "dataset"
   ]
  },
  {
   "cell_type": "code",
   "execution_count": 506,
   "metadata": {},
   "outputs": [],
   "source": [
    "def subfinder(words_list, answer_list):\n",
    "    matches = []\n",
    "    start_indices = []\n",
    "    end_indices = []\n",
    "    for idx, i in enumerate(range(len(words_list))):\n",
    "        if words_list[i] == answer_list[0] and words_list[i : i + len(answer_list)] == answer_list:\n",
    "            matches.append(answer_list)\n",
    "            start_indices.append(idx)\n",
    "            end_indices.append(idx + len(answer_list) - 1)\n",
    "    if matches:\n",
    "        return matches[0], start_indices[0], end_indices[0]\n",
    "    else:\n",
    "        return None, 0, 0"
   ]
  },
  {
   "cell_type": "code",
   "execution_count": 507,
   "metadata": {},
   "outputs": [],
   "source": [
    "def encode_dataset(examples, max_length=512):\n",
    "    questions = examples[\"Pregunta\"]\n",
    "    words = examples[\"words\"]\n",
    "    answers = examples[\"Respuesta\"]\n",
    "\n",
    "    # encode the batch of examples and initialize the start_positions and end_positions\n",
    "    encoding = tokenizer(questions, words, max_length=max_length, padding=\"max_length\", truncation=True)\n",
    "    start_positions = []\n",
    "    end_positions = []\n",
    "\n",
    "    # loop through the examples in the batch\n",
    "    for i in range(len(questions)):\n",
    "        cls_index = encoding[\"input_ids\"][i].index(tokenizer.cls_token_id)\n",
    "\n",
    "        # find the position of the answer in example's words\n",
    "        words_example = [word.lower() for word in words[i]]\n",
    "        answer = answers[i]\n",
    "        match, word_idx_start, word_idx_end = subfinder(words_example, answer.lower().split())\n",
    "\n",
    "        if match:\n",
    "            # if match is found, use `token_type_ids` to find where words start in the encoding\n",
    "            token_type_ids = encoding[\"token_type_ids\"][i]\n",
    "            token_start_index = 0\n",
    "            while token_type_ids[token_start_index] != 1:\n",
    "                token_start_index += 1\n",
    "\n",
    "            token_end_index = len(encoding[\"input_ids\"][i]) - 1\n",
    "            while token_type_ids[token_end_index] != 1:\n",
    "                token_end_index -= 1\n",
    "\n",
    "            word_ids = encoding.word_ids(i)[token_start_index : token_end_index + 1]\n",
    "            start_position = cls_index\n",
    "            end_position = cls_index\n",
    "\n",
    "            # loop over word_ids and increase `token_start_index` until it matches the answer position in words\n",
    "            # once it matches, save the `token_start_index` as the `start_position` of the answer in the encoding\n",
    "            for id in word_ids:\n",
    "                if id == word_idx_start:\n",
    "                    start_position = token_start_index\n",
    "                else:\n",
    "                    token_start_index += 1\n",
    "\n",
    "            # similarly loop over `word_ids` starting from the end to find the `end_position` of the answer\n",
    "            for id in word_ids[::-1]:\n",
    "                if id == word_idx_end:\n",
    "                    end_position = token_end_index\n",
    "                else:\n",
    "                    token_end_index -= 1\n",
    "\n",
    "            start_positions.append(start_position)\n",
    "            end_positions.append(end_position)\n",
    "\n",
    "        else:\n",
    "            start_positions.append(cls_index)\n",
    "            end_positions.append(cls_index)\n",
    "\n",
    "    encoding[\"start_positions\"] = start_positions\n",
    "    encoding[\"end_positions\"] = end_positions\n",
    "\n",
    "    return encoding"
   ]
  },
  {
   "cell_type": "code",
   "execution_count": 523,
   "metadata": {},
   "outputs": [],
   "source": [
    "def tokenize_function(examples):\n",
    "    output_dict = tokenizer([\" \".join(x) for x in examples[\"Pregunta\"]],[\" \".join(x) for x in examples[\"words\"]],  max_length=512, truncation=True)\n",
    "    return output_dict "
   ]
  },
  {
   "cell_type": "code",
   "execution_count": 524,
   "metadata": {},
   "outputs": [],
   "source": [
    "block_size = 1024\n",
    "\n",
    "\n",
    "def group_texts(examples):\n",
    "    # Concatenate all texts.\n",
    "    concatenated_examples = {k: sum(examples[k], []) for k in examples.keys()}\n",
    "    total_length = len(concatenated_examples[list(examples.keys())[0]])\n",
    "    # We drop the small remainder, we could add padding if the model supported it instead of this drop, you can\n",
    "    # customize this part to your needs.\n",
    "    if total_length >= block_size:\n",
    "        total_length = (total_length // block_size) * block_size\n",
    "    # Split by chunks of block_size.\n",
    "    result = {\n",
    "        k: [t[i : i + block_size] for i in range(0, total_length, block_size)]\n",
    "        for k, t in concatenated_examples.items()\n",
    "    }\n",
    "    result[\"labels\"] = result[\"input_ids\"].copy()\n",
    "    return result"
   ]
  },
  {
   "cell_type": "code",
   "execution_count": 469,
   "metadata": {},
   "outputs": [],
   "source": [
    "def tokenize_and_align_labels(examples):\n",
    "    tokenized_inputs = tokenizer(examples[\"Pregunta\"], truncation=True)\n",
    "\n",
    "    labels = []\n",
    "    for i, label in enumerate(examples[f\"Respuesta\"]):\n",
    "        word_ids = tokenized_inputs.word_ids(batch_index=i)  # Map tokens to their respective word.\n",
    "        previous_word_idx = None\n",
    "        label_ids = []\n",
    "        for word_idx in word_ids:  # Set the special tokens to -100.\n",
    "            if word_idx is None:\n",
    "                label_ids.append(-100)\n",
    "            elif word_idx != previous_word_idx:  # Only label the first token of a given word.\n",
    "                label_ids.append(label[word_idx])\n",
    "            else:\n",
    "                label_ids.append(-100)\n",
    "            previous_word_idx = word_idx\n",
    "        labels.append(label_ids)\n",
    "\n",
    "    tokenized_inputs[\"labels\"] = labels\n",
    "    return tokenized_inputs"
   ]
  },
  {
   "cell_type": "code",
   "execution_count": 445,
   "metadata": {},
   "outputs": [],
   "source": [
    "tokenizer.pad_token = tokenizer.eos_token"
   ]
  },
  {
   "cell_type": "code",
   "execution_count": 444,
   "metadata": {},
   "outputs": [
    {
     "data": {
      "text/plain": [
       "0"
      ]
     },
     "execution_count": 444,
     "metadata": {},
     "output_type": "execute_result"
    }
   ],
   "source": [
    "tokenizer.add_special_tokens({'eos_token': '[PAD]'})"
   ]
  },
  {
   "cell_type": "code",
   "execution_count": 556,
   "metadata": {},
   "outputs": [
    {
     "data": {
      "application/vnd.jupyter.widget-view+json": {
       "model_id": "f5ac5a396a6b4d18ac46b2e4b6f2d82a",
       "version_major": 2,
       "version_minor": 0
      },
      "text/plain": [
       "Map:   0%|          | 0/47 [00:00<?, ? examples/s]"
      ]
     },
     "metadata": {},
     "output_type": "display_data"
    },
    {
     "data": {
      "application/vnd.jupyter.widget-view+json": {
       "model_id": "f2dd9117ca424a67bdee252984f286bb",
       "version_major": 2,
       "version_minor": 0
      },
      "text/plain": [
       "Map:   0%|          | 0/12 [00:00<?, ? examples/s]"
      ]
     },
     "metadata": {},
     "output_type": "display_data"
    }
   ],
   "source": [
    "tokenized_datasets = dataset.map(\n",
    "    tokenize_function, \n",
    "    batched=True,\n",
    "    remove_columns=dataset[\"train\"].column_names,\n",
    "    )"
   ]
  },
  {
   "cell_type": "code",
   "execution_count": 526,
   "metadata": {},
   "outputs": [
    {
     "data": {
      "text/plain": [
       "DatasetDict({\n",
       "    train: Dataset({\n",
       "        features: ['input_ids', 'attention_mask'],\n",
       "        num_rows: 47\n",
       "    })\n",
       "    test: Dataset({\n",
       "        features: ['input_ids', 'attention_mask'],\n",
       "        num_rows: 12\n",
       "    })\n",
       "})"
      ]
     },
     "execution_count": 526,
     "metadata": {},
     "output_type": "execute_result"
    }
   ],
   "source": [
    "tokenized_datasets"
   ]
  },
  {
   "cell_type": "code",
   "execution_count": 557,
   "metadata": {},
   "outputs": [
    {
     "data": {
      "application/vnd.jupyter.widget-view+json": {
       "model_id": "eb556cae078b479192e1ec612ff93a53",
       "version_major": 2,
       "version_minor": 0
      },
      "text/plain": [
       "Map:   0%|          | 0/47 [00:00<?, ? examples/s]"
      ]
     },
     "metadata": {},
     "output_type": "display_data"
    },
    {
     "data": {
      "application/vnd.jupyter.widget-view+json": {
       "model_id": "d10f4b27714b438cbf7868ffb6bbb832",
       "version_major": 2,
       "version_minor": 0
      },
      "text/plain": [
       "Map:   0%|          | 0/12 [00:00<?, ? examples/s]"
      ]
     },
     "metadata": {},
     "output_type": "display_data"
    }
   ],
   "source": [
    "lm_dataset = tokenized_datasets.map(\n",
    "    group_texts, \n",
    "    batched=True,\n",
    "    remove_columns=tokenized_datasets[\"train\"].column_names,\n",
    "    )"
   ]
  },
  {
   "cell_type": "code",
   "execution_count": 534,
   "metadata": {},
   "outputs": [
    {
     "data": {
      "text/plain": [
       "DatasetDict({\n",
       "    train: Dataset({\n",
       "        features: ['input_ids', 'attention_mask', 'labels'],\n",
       "        num_rows: 3\n",
       "    })\n",
       "    test: Dataset({\n",
       "        features: ['input_ids', 'attention_mask', 'labels'],\n",
       "        num_rows: 1\n",
       "    })\n",
       "})"
      ]
     },
     "execution_count": 534,
     "metadata": {},
     "output_type": "execute_result"
    }
   ],
   "source": [
    "lm_dataset"
   ]
  },
  {
   "cell_type": "code",
   "execution_count": 558,
   "metadata": {},
   "outputs": [],
   "source": [
    "tokenizer.pad_token = tokenizer.eos_token\n",
    "data_collator = DataCollatorForLanguageModeling(tokenizer, mlm=False)"
   ]
  },
  {
   "cell_type": "code",
   "execution_count": 548,
   "metadata": {},
   "outputs": [],
   "source": [
    "training_args = TrainingArguments(\n",
    "    output_dir=\"./my_awesome_model\",\n",
    "    learning_rate=2e-5,\n",
    "    weight_decay=0.01,\n",
    "    evaluation_strategy=\"epoch\",\n",
    "    save_strategy=\"epoch\",\n",
    "    load_best_model_at_end=True,\n",
    ")"
   ]
  },
  {
   "cell_type": "code",
   "execution_count": 549,
   "metadata": {},
   "outputs": [],
   "source": [
    "trainer = Trainer(\n",
    "    model=model,\n",
    "    args=training_args,\n",
    "    data_collator=data_collator,\n",
    "    train_dataset=tokenized_datasets['train'],\n",
    "    eval_dataset=tokenized_datasets['test'],\n",
    ")"
   ]
  },
  {
   "cell_type": "code",
   "execution_count": 559,
   "metadata": {},
   "outputs": [
    {
     "data": {
      "application/vnd.jupyter.widget-view+json": {
       "model_id": "d399aa8a1aa14fb0a9aa8492f2e02cff",
       "version_major": 2,
       "version_minor": 0
      },
      "text/plain": [
       "  0%|          | 0/18 [00:00<?, ?it/s]"
      ]
     },
     "metadata": {},
     "output_type": "display_data"
    },
    {
     "data": {
      "application/vnd.jupyter.widget-view+json": {
       "model_id": "a5fdefb5965746b5b8ac47e5da2bdd4b",
       "version_major": 2,
       "version_minor": 0
      },
      "text/plain": [
       "  0%|          | 0/2 [00:00<?, ?it/s]"
      ]
     },
     "metadata": {},
     "output_type": "display_data"
    },
    {
     "name": "stdout",
     "output_type": "stream",
     "text": [
      "{'eval_loss': 2.3149704933166504, 'eval_runtime': 2.922, 'eval_samples_per_second': 4.107, 'eval_steps_per_second': 0.684, 'epoch': 1.0}\n"
     ]
    },
    {
     "data": {
      "application/vnd.jupyter.widget-view+json": {
       "model_id": "532d096b841e4a869972e2fa27ad5a15",
       "version_major": 2,
       "version_minor": 0
      },
      "text/plain": [
       "  0%|          | 0/2 [00:00<?, ?it/s]"
      ]
     },
     "metadata": {},
     "output_type": "display_data"
    },
    {
     "name": "stdout",
     "output_type": "stream",
     "text": [
      "{'eval_loss': 2.237075090408325, 'eval_runtime': 2.937, 'eval_samples_per_second': 4.086, 'eval_steps_per_second': 0.681, 'epoch': 2.0}\n"
     ]
    },
    {
     "data": {
      "application/vnd.jupyter.widget-view+json": {
       "model_id": "256039fb09d345cdae6e31f5508e19a9",
       "version_major": 2,
       "version_minor": 0
      },
      "text/plain": [
       "  0%|          | 0/2 [00:00<?, ?it/s]"
      ]
     },
     "metadata": {},
     "output_type": "display_data"
    },
    {
     "name": "stdout",
     "output_type": "stream",
     "text": [
      "{'eval_loss': 2.2130930423736572, 'eval_runtime': 2.915, 'eval_samples_per_second': 4.117, 'eval_steps_per_second': 0.686, 'epoch': 3.0}\n",
      "{'train_runtime': 119.031, 'train_samples_per_second': 1.185, 'train_steps_per_second': 0.151, 'train_loss': 2.398239347669813, 'epoch': 3.0}\n"
     ]
    },
    {
     "data": {
      "text/plain": [
       "TrainOutput(global_step=18, training_loss=2.398239347669813, metrics={'train_runtime': 119.031, 'train_samples_per_second': 1.185, 'train_steps_per_second': 0.151, 'train_loss': 2.398239347669813, 'epoch': 3.0})"
      ]
     },
     "execution_count": 559,
     "metadata": {},
     "output_type": "execute_result"
    }
   ],
   "source": [
    "trainer.train()"
   ]
  },
  {
   "cell_type": "code",
   "execution_count": 560,
   "metadata": {},
   "outputs": [],
   "source": [
    "trainer.save_model()"
   ]
  },
  {
   "cell_type": "code",
   "execution_count": 138,
   "metadata": {},
   "outputs": [],
   "source": [
    "prompt = \"Cuál es el lugar turístico más visitado en Ecuador\""
   ]
  },
  {
   "cell_type": "code",
   "execution_count": 561,
   "metadata": {},
   "outputs": [],
   "source": [
    "model = AutoModelForCausalLM.from_pretrained(\"./my_awesome_model\")"
   ]
  },
  {
   "cell_type": "code",
   "execution_count": 574,
   "metadata": {},
   "outputs": [
    {
     "ename": "AttributeError",
     "evalue": "'GPT2LMHeadModel' object has no attribute 'predict'",
     "output_type": "error",
     "traceback": [
      "\u001b[1;31m---------------------------------------------------------------------------\u001b[0m",
      "\u001b[1;31mAttributeError\u001b[0m                            Traceback (most recent call last)",
      "Cell \u001b[1;32mIn[574], line 3\u001b[0m\n\u001b[0;32m      1\u001b[0m input_question \u001b[39m=\u001b[39m \u001b[39m\"\u001b[39m\u001b[39m¿Que puedo hacer en quito?\u001b[39m\u001b[39m\"\u001b[39m\n\u001b[0;32m      2\u001b[0m input_tokens \u001b[39m=\u001b[39m tokenizer(input_question, padding\u001b[39m=\u001b[39m\u001b[39mTrue\u001b[39;00m, truncation\u001b[39m=\u001b[39m\u001b[39mTrue\u001b[39;00m, return_tensors\u001b[39m=\u001b[39m\u001b[39m\"\u001b[39m\u001b[39mpt\u001b[39m\u001b[39m\"\u001b[39m)\n\u001b[1;32m----> 3\u001b[0m output \u001b[39m=\u001b[39m model\u001b[39m.\u001b[39;49mpredict(input_tokens\u001b[39m.\u001b[39minput_ids,max_new_tokens\u001b[39m=\u001b[39m\u001b[39m50\u001b[39m)\n\u001b[0;32m      5\u001b[0m \u001b[39m# Decode and print the generated answer\u001b[39;00m\n\u001b[0;32m      6\u001b[0m generated_answer \u001b[39m=\u001b[39m tokenizer\u001b[39m.\u001b[39mdecode(output[\u001b[39m0\u001b[39m], skip_special_tokens\u001b[39m=\u001b[39m\u001b[39mTrue\u001b[39;00m)\n",
      "File \u001b[1;32mc:\\Python39\\lib\\site-packages\\torch\\nn\\modules\\module.py:1614\u001b[0m, in \u001b[0;36mModule.__getattr__\u001b[1;34m(self, name)\u001b[0m\n\u001b[0;32m   1612\u001b[0m     \u001b[39mif\u001b[39;00m name \u001b[39min\u001b[39;00m modules:\n\u001b[0;32m   1613\u001b[0m         \u001b[39mreturn\u001b[39;00m modules[name]\n\u001b[1;32m-> 1614\u001b[0m \u001b[39mraise\u001b[39;00m \u001b[39mAttributeError\u001b[39;00m(\u001b[39m\"\u001b[39m\u001b[39m'\u001b[39m\u001b[39m{}\u001b[39;00m\u001b[39m'\u001b[39m\u001b[39m object has no attribute \u001b[39m\u001b[39m'\u001b[39m\u001b[39m{}\u001b[39;00m\u001b[39m'\u001b[39m\u001b[39m\"\u001b[39m\u001b[39m.\u001b[39mformat(\n\u001b[0;32m   1615\u001b[0m     \u001b[39mtype\u001b[39m(\u001b[39mself\u001b[39m)\u001b[39m.\u001b[39m\u001b[39m__name__\u001b[39m, name))\n",
      "\u001b[1;31mAttributeError\u001b[0m: 'GPT2LMHeadModel' object has no attribute 'predict'"
     ]
    }
   ],
   "source": [
    "input_question = \"¿Que puedo hacer en quito?\"\n",
    "input_tokens = tokenizer(input_question, padding=True, truncation=True, return_tensors=\"pt\")\n",
    "output = model.generate(input_tokens.input_ids,max_new_tokens=50)\n",
    "\n",
    "# Decode and print the generated answer\n",
    "generated_answer = tokenizer.decode(output[0], skip_special_tokens=True)\n",
    "print(\"Generated Answer:\", generated_answer)"
   ]
  },
  {
   "cell_type": "code",
   "execution_count": 271,
   "metadata": {},
   "outputs": [
    {
     "data": {
      "application/vnd.jupyter.widget-view+json": {
       "model_id": "4a766a484adb41b983a68d81fbe0a0a7",
       "version_major": 2,
       "version_minor": 0
      },
      "text/plain": [
       "Downloading builder script:   0%|          | 0.00/4.20k [00:00<?, ?B/s]"
      ]
     },
     "metadata": {},
     "output_type": "display_data"
    }
   ],
   "source": [
    "import evaluate\n",
    "\n",
    "accuracy = evaluate.load(\"accuracy\")"
   ]
  },
  {
   "cell_type": "code",
   "execution_count": 274,
   "metadata": {},
   "outputs": [],
   "source": [
    "import numpy as np\n",
    "\n",
    "\n",
    "def compute_metrics(eval_pred):\n",
    "    predictions, labels = eval_pred\n",
    "    predictions = np.argmax(predictions, axis=1)\n",
    "    return accuracy.compute(predictions=predictions, references=labels)"
   ]
  },
  {
   "cell_type": "code",
   "execution_count": 571,
   "metadata": {},
   "outputs": [],
   "source": [
    "def get_response_from_corpus(user_input, corpus_df, tokenizer):\n",
    "    \"\"\"Buscar la respuesta en el corpus basada en la pregunta del usuario.\"\"\"\n",
    "    user_tokens = tokenizer.encode(user_input.lower(), add_special_tokens=False)\n",
    "\n",
    "    for index, row in corpus_df.iterrows():\n",
    "        pregunta = row['Pregunta'].lower()\n",
    "        respuesta = row['Respuesta']\n",
    "        for token in user_tokens:\n",
    "            if token in tokenizer.encode(pregunta, add_special_tokens=False):\n",
    "                return respuesta\n",
    "\n",
    "    return None"
   ]
  },
  {
   "cell_type": "code",
   "execution_count": 568,
   "metadata": {},
   "outputs": [],
   "source": [
    "\n",
    "corpus_df = pd.read_csv('../data/corpus_turims.csv', encoding='utf-8')"
   ]
  },
  {
   "cell_type": "code",
   "execution_count": 570,
   "metadata": {},
   "outputs": [
    {
     "name": "stdout",
     "output_type": "stream",
     "text": [
      "Pregunta     ¿Cuál es el lugar turístico más visitado en Ec...\n",
      "Respuesta    Las Islas Galápagos son el destino más popular...\n",
      "Name: 0, dtype: object\n",
      "Pregunta           ¿Qué se puede hacer en las Islas Galápagos?\n",
      "Respuesta    En las Islas Galápagos, puedes hacer buceo, sn...\n",
      "Name: 1, dtype: object\n",
      "Pregunta               ¿Cuál es el volcán más alto de Ecuador?\n",
      "Respuesta    El volcán Chimborazo es el pico más alto de Ec...\n",
      "Name: 2, dtype: object\n",
      "Pregunta      ¿Qué ciudades coloniales son famosas en Ecuador?\n",
      "Respuesta    Quito y Cuenca son conocidas por sus hermosos ...\n",
      "Name: 3, dtype: object\n",
      "Pregunta            ¿Cuál es el monumento más famoso en Quito?\n",
      "Respuesta    La Basílica del Voto Nacional es uno de los mo...\n",
      "Name: 4, dtype: object\n",
      "Pregunta     ¿Dónde se encuentra la mitad del mundo en Ecua...\n",
      "Respuesta    La Mitad del Mundo está cerca de Quito, en la ...\n",
      "Name: 5, dtype: object\n",
      "Pregunta     ¿Cuáles son las playas más hermosas de la cost...\n",
      "Respuesta    Las playas de Salinas, Montañita y Ayangue son...\n",
      "Name: 6, dtype: object\n",
      "Pregunta     ¿Qué parque nacional es conocido por su selva ...\n",
      "Respuesta    El Parque Nacional Yasuní es famoso por su bio...\n",
      "Name: 7, dtype: object\n",
      "Pregunta     ¿Qué animales se pueden ver en el Parque Nacio...\n",
      "Respuesta    En Yasuní, puedes ver monos aulladores, jaguar...\n",
      "Name: 8, dtype: object\n",
      "Pregunta     ¿Qué actividades se pueden hacer en el Parque ...\n",
      "Respuesta    En el Parque Nacional Cajas, puedes hacer send...\n",
      "Name: 9, dtype: object\n",
      "Pregunta     ¿Cuál es el nombre de una famosa iglesia en Cu...\n",
      "Respuesta    La Catedral de la Inmaculada Concepción es una...\n",
      "Name: 10, dtype: object\n",
      "Pregunta     ¿Qué plato típico ecuatoriano es conocido en t...\n",
      "Respuesta    La ceviche es un plato de pescado o mariscos c...\n",
      "Name: 11, dtype: object\n",
      "Pregunta     ¿Qué islas ecuatorianas son Patrimonio de la H...\n",
      "Respuesta    Las Islas Galápagos son Patrimonio de la Human...\n",
      "Name: 12, dtype: object\n",
      "Pregunta     ¿Qué sitio arqueológico preincaico es importan...\n",
      "Respuesta    Ingapirca es el sitio arqueológico más grande ...\n",
      "Name: 13, dtype: object\n",
      "Pregunta     ¿Qué montaña sagrada es importante para la cul...\n",
      "Respuesta    El Tungurahua es una montaña sagrada para la c...\n",
      "Name: 14, dtype: object\n",
      "Pregunta                  ¿Qué festival es famoso en Riobamba?\n",
      "Respuesta    El Paseo del Niño Viajero es un festival relig...\n",
      "Name: 15, dtype: object\n",
      "Pregunta     ¿Qué plato típico de la costa de Ecuador es co...\n",
      "Respuesta    El encebollado es una sopa de pescado con cebo...\n",
      "Name: 16, dtype: object\n",
      "Pregunta     ¿Qué parque nacional es famoso por su població...\n",
      "Respuesta    El Parque Nacional Sangay es conocido por albe...\n",
      "Name: 17, dtype: object\n",
      "Pregunta     ¿Cuál es el mercado más grande y colorido de Q...\n",
      "Respuesta    El Mercado de Otavalo es famoso por sus artesa...\n",
      "Name: 18, dtype: object\n",
      "Pregunta               ¿Dónde puedes hacer tubing en Ecuador?\n",
      "Respuesta    En Baños, puedes hacer tubing en el río Pastaza.\n",
      "Name: 19, dtype: object\n",
      "Pregunta     ¿Qué ciudad es conocida como La Ciudad de los ...\n",
      "Respuesta    Loja es conocida como La Ciudad de los Cuatro ...\n",
      "Name: 20, dtype: object\n",
      "Pregunta      ¿Qué cascada es una de las más altas de Ecuador?\n",
      "Respuesta    El Salto del Tequendama es una cascada impresi...\n",
      "Name: 21, dtype: object\n",
      "Pregunta            ¿Qué deporte extremo es popular en Baños?\n",
      "Respuesta    Baños es conocida como la capital del Ecuador...\n",
      "Name: 22, dtype: object\n",
      "Pregunta               ¿Cuál es el lago más grande de Ecuador?\n",
      "Respuesta    El Lago San Pablo es el lago más grande de Ecu...\n",
      "Name: 23, dtype: object\n",
      "Pregunta     ¿Qué sitio arqueológico inca está cerca de Cue...\n",
      "Respuesta    El complejo arqueológico de Pumapungo se encue...\n",
      "Name: 24, dtype: object\n",
      "Pregunta     ¿Dónde puedes ver el famoso cóndor andino en E...\n",
      "Respuesta    El Parque Nacional Cotopaxi es un lugar donde ...\n",
      "Name: 25, dtype: object\n",
      "Pregunta     ¿Qué isla ecuatoriana es conocida por su gran ...\n",
      "Respuesta    La Isla Santa Cruz en las Galápagos es famosa ...\n",
      "Name: 26, dtype: object\n",
      "Pregunta         ¿Cuál es el festival más grande de Guayaquil?\n",
      "Respuesta    El Carnaval de Guayaquil es uno de los festiva...\n",
      "Name: 27, dtype: object\n",
      "Pregunta     ¿Qué parque nacional es famoso por su belleza ...\n",
      "Respuesta    El Parque Nacional Podocarpus es conocido por ...\n",
      "Name: 28, dtype: object\n",
      "Pregunta     ¿Dónde puedes disfrutar de un relajante baño e...\n",
      "Respuesta    Las Termas de Papallacta son conocidas por sus...\n",
      "Name: 29, dtype: object\n",
      "Pregunta     ¿Qué ciudad es famosa por sus tradiciones indí...\n",
      "Respuesta    Latacunga es conocida por sus festivales y tra...\n",
      "Name: 30, dtype: object\n",
      "Pregunta     ¿Qué montaña es conocida como La Nariz del Dia...\n",
      "Respuesta    El Tren Nariz del Diablo es un famoso ferrocar...\n",
      "Name: 31, dtype: object\n",
      "Pregunta     ¿Qué sitio arqueológico ecuatoriano es anterio...\n",
      "Respuesta    Las ruinas de Cochasquí son anteriores a la ll...\n",
      "Name: 32, dtype: object\n",
      "Pregunta               ¿Dónde se encuentra la Laguna Quilotoa?\n",
      "Respuesta    La Laguna Quilotoa se encuentra en la provinci...\n",
      "Name: 33, dtype: object\n",
      "Pregunta     ¿Cuál es el mercado más grande de América Latina?\n",
      "Respuesta    El Mercado de Guayaquil es conocido como el me...\n",
      "Name: 34, dtype: object\n",
      "Pregunta     ¿Qué ciudad ecuatoriana es famosa por su produ...\n",
      "Respuesta    Cayambe es famosa por su producción de rosas y...\n",
      "Name: 35, dtype: object\n",
      "Pregunta     ¿Dónde se encuentra la Reserva de Producción d...\n",
      "Respuesta    La Reserva de Producción de Fauna Cuyabeno est...\n",
      "Name: 36, dtype: object\n",
      "Pregunta     ¿Qué plato ecuatoriano es a base de carne de cuy?\n",
      "Respuesta    El cuy asado es un plato ecuatoriano tradicion...\n",
      "Name: 37, dtype: object\n",
      "Pregunta     ¿Dónde puedes explorar un bosque nublado en Ec...\n",
      "Respuesta    El Bosque Protector Mindo-Nambillo es un lugar...\n",
      "Name: 38, dtype: object\n",
      "Pregunta     ¿Qué ciudad es famosa por su producción de som...\n",
      "Respuesta    Montecristi es conocida por su producción de s...\n",
      "Name: 39, dtype: object\n",
      "Pregunta     ¿Qué ciudad ecuatoriana es famosa por sus escu...\n",
      "Respuesta    La ciudad de San Antonio de Ibarra es famosa p...\n",
      "Name: 40, dtype: object\n",
      "Pregunta     ¿Qué plato típico de la sierra ecuatoriana es ...\n",
      "Respuesta    El hornado es un plato típico de la sierra ecu...\n",
      "Name: 41, dtype: object\n",
      "Pregunta     ¿Dónde se encuentra la cascada Pailón del Diablo?\n",
      "Respuesta    La cascada Pailón del Diablo se encuentra cerc...\n",
      "Name: 42, dtype: object\n",
      "Pregunta     ¿Qué ciudad ecuatoriana es famosa por sus teji...\n",
      "Respuesta    La ciudad de Otavalo es famosa por sus tejidos...\n",
      "Name: 43, dtype: object\n",
      "Pregunta      ¿Dónde puedes ver el volcán Cotopaxi en Ecuador?\n",
      "Respuesta    El volcán Cotopaxi se encuentra en el Parque N...\n",
      "Name: 44, dtype: object\n",
      "Pregunta     ¿Qué parque nacional es famoso por su població...\n",
      "Respuesta    El Parque Nacional Machalilla es conocido por ...\n",
      "Name: 45, dtype: object\n",
      "Pregunta            ¿Dónde se encuentra la Laguna de Cuicocha?\n",
      "Respuesta    La Laguna de Cuicocha se encuentra en la provi...\n",
      "Name: 46, dtype: object\n",
      "Pregunta     ¿Qué ciudad ecuatoriana es conocida como La Ci...\n",
      "Respuesta    Ibarra es conocida como La Ciudad de los Helad...\n",
      "Name: 47, dtype: object\n",
      "Pregunta     ¿Dónde puedes hacer observación de aves en Ecu...\n",
      "Respuesta    El Bosque Protector Paz de las Aves es un luga...\n",
      "Name: 48, dtype: object\n",
      "Pregunta     ¿Qué sitio arqueológico ecuatoriano es conocid...\n",
      "Respuesta    El complejo arqueológico de Ingapirca es conoc...\n",
      "Name: 49, dtype: object\n",
      "Pregunta     ¿Dónde puedes hacer rafting en aguas bravas en...\n",
      "Respuesta    El río Pastaza en Baños es famoso por el rafti...\n",
      "Name: 50, dtype: object\n",
      "Pregunta     ¿Qué ciudad ecuatoriana es famosa por su produ...\n",
      "Respuesta    La ciudad de Mindo es conocida por su producci...\n",
      "Name: 51, dtype: object\n",
      "Pregunta     ¿Dónde puedes explorar cuevas subterráneas en ...\n",
      "Respuesta    Las Cuevas de Jumandy en Tena son un lugar par...\n",
      "Name: 52, dtype: object\n",
      "Pregunta     ¿Qué parque nacional es famoso por su població...\n",
      "Respuesta    El Parque Nacional Llanganates es conocido por...\n",
      "Name: 53, dtype: object\n",
      "Pregunta     ¿Dónde puedes ver el volcán Tungurahua en Ecua...\n",
      "Respuesta    El volcán Tungurahua es visible desde la ciuda...\n",
      "Name: 54, dtype: object\n",
      "Pregunta     ¿Qué ciudad ecuatoriana es conocida por sus fe...\n",
      "Respuesta    Píllaro es conocida por sus festivales de diab...\n",
      "Name: 55, dtype: object\n",
      "Pregunta             ¿Dónde puedes hacer parapente en Ecuador?\n",
      "Respuesta    Baños es un lugar popular para el parapente en...\n",
      "Name: 56, dtype: object\n",
      "Pregunta     ¿Qué ciudad ecuatoriana es famosa por su produ...\n",
      "Respuesta    Cotacachi es conocida por su producción de mue...\n",
      "Name: 57, dtype: object\n",
      "Pregunta     ¿Dónde puedes disfrutar de aguas termales en m...\n",
      "Respuesta    Las Aguas Termales de Papallacta ofrecen aguas...\n",
      "Name: 58, dtype: object\n"
     ]
    }
   ],
   "source": [
    "for index, row in corpus_df.iterrows():\n",
    "    print(row)"
   ]
  },
  {
   "cell_type": "code",
   "execution_count": 572,
   "metadata": {},
   "outputs": [],
   "source": [
    "def setup_chatbot():\n",
    "   # Load the pre-trained GPT-2 model and tokenizer\n",
    "\n",
    "   # Load your corpus from the CSV file\n",
    "   corpus_df = pd.read_csv('../data/corpus_turims.csv', encoding='utf-8')\n",
    "\n",
    "   print(\"Chatbot: ¡Hola! Soy un chatbot. ¿En qué puedo ayudarte hoy?\")\n",
    "\n",
    "   while True:\n",
    "      user_input = input(\"Tú: tienes alguna consulta el día de hoy?\")\n",
    "      if user_input.lower() == 'exit':\n",
    "         print(\"Chatbot: Hasta luego. ¡Que tengas un buen día!\")\n",
    "         break\n",
    "\n",
    "      # Buscar la respuesta en el corpus basada en la pregunta del usuario\n",
    "      response = get_response_from_corpus(user_input, corpus_df, tokenizer)\n",
    "\n",
    "      if response:\n",
    "         print(\"Chatbot:\", response)\n",
    "      else:\n",
    "         print(\"Chatbot: Lo siento, no tengo información sobre eso en mi corpus.\")"
   ]
  },
  {
   "cell_type": "code",
   "execution_count": 573,
   "metadata": {},
   "outputs": [
    {
     "name": "stdout",
     "output_type": "stream",
     "text": [
      "Chatbot: ¡Hola! Soy un chatbot. ¿En qué puedo ayudarte hoy?\n",
      "Chatbot: Las Islas Galápagos son el destino más popular en Ecuador.\n",
      "Chatbot: Hasta luego. ¡Que tengas un buen día!\n"
     ]
    }
   ],
   "source": [
    "setup_chatbot()"
   ]
  }
 ],
 "metadata": {
  "kernelspec": {
   "display_name": "Python 3",
   "language": "python",
   "name": "python3"
  },
  "language_info": {
   "codemirror_mode": {
    "name": "ipython",
    "version": 3
   },
   "file_extension": ".py",
   "mimetype": "text/x-python",
   "name": "python",
   "nbconvert_exporter": "python",
   "pygments_lexer": "ipython3",
   "version": "3.9.6"
  },
  "orig_nbformat": 4
 },
 "nbformat": 4,
 "nbformat_minor": 2
}
