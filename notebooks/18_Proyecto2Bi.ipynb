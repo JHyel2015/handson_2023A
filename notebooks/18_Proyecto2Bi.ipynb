{
 "cells": [
  {
   "cell_type": "code",
   "execution_count": 1,
   "metadata": {},
   "outputs": [
    {
     "name": "stderr",
     "output_type": "stream",
     "text": [
      "c:\\Program Files\\Python310\\lib\\site-packages\\tqdm\\auto.py:21: TqdmWarning: IProgress not found. Please update jupyter and ipywidgets. See https://ipywidgets.readthedocs.io/en/stable/user_install.html\n",
      "  from .autonotebook import tqdm as notebook_tqdm\n"
     ]
    }
   ],
   "source": [
    "from transformers import GPT2LMHeadModel, GPT2Tokenizer\n",
    "import pandas as pd"
   ]
  },
  {
   "cell_type": "code",
   "execution_count": 4,
   "metadata": {},
   "outputs": [
    {
     "name": "stderr",
     "output_type": "stream",
     "text": [
      "Downloading pytorch_model.bin: 100%|██████████| 6.43G/6.43G [10:18<00:00, 10.4MB/s]\n",
      "Downloading (…)neration_config.json: 100%|██████████| 124/124 [00:00<00:00, 10.0kB/s]\n",
      "Downloading (…)olve/main/vocab.json: 100%|██████████| 1.04M/1.04M [00:00<00:00, 2.19MB/s]\n",
      "Downloading (…)olve/main/merges.txt: 100%|██████████| 456k/456k [00:00<00:00, 1.74MB/s]\n"
     ]
    }
   ],
   "source": [
    "model_name = 'gpt2-xl'\n",
    "model = GPT2LMHeadModel.from_pretrained(model_name)\n",
    "tokenizer = GPT2Tokenizer.from_pretrained(model_name)"
   ]
  },
  {
   "cell_type": "code",
   "execution_count": 5,
   "metadata": {},
   "outputs": [],
   "source": [
    "def get_response_from_corpus(user_input, corpus_df, tokenizer):\n",
    "   \"\"\"Buscar la respuesta en el corpus basada en la pregunta del usuario.\"\"\"\n",
    "   user_tokens = tokenizer.encode(user_input.lower(), add_special_tokens=False)\n",
    "\n",
    "   for index, row in corpus_df.iterrows():\n",
    "      pregunta = row['Pregunta'].lower()\n",
    "      respuesta = row['Respuesta']\n",
    "\n",
    "   for token in user_tokens:\n",
    "      if token in tokenizer.encode(pregunta, add_special_tokens=False):\n",
    "         return respuesta\n",
    "\n",
    "   return None"
   ]
  },
  {
   "cell_type": "code",
   "execution_count": 11,
   "metadata": {},
   "outputs": [],
   "source": [
    "def setup_chatbot():\n",
    "   # Load the pre-trained GPT-2 model and tokenizer\n",
    "\n",
    "   # Load your corpus from the CSV file\n",
    "   corpus_df = pd.read_csv('../data/corpus_turims.csv', encoding='utf-8')\n",
    "\n",
    "   print(\"Chatbot: ¡Hola! Soy un chatbot. ¿En qué puedo ayudarte hoy?\")\n",
    "\n",
    "   while True:\n",
    "      user_input = input(\"Tú: tienes alguna consulta el día de hoy?\")\n",
    "      if user_input.lower() == 'exit':\n",
    "         print(\"Chatbot: Hasta luego. ¡Que tengas un buen día!\")\n",
    "         break\n",
    "\n",
    "      # Buscar la respuesta en el corpus basada en la pregunta del usuario\n",
    "      response = get_response_from_corpus(user_input, corpus_df, tokenizer)\n",
    "\n",
    "      if response:\n",
    "         print(\"Chatbot:\", response)\n",
    "      else:\n",
    "         print(\"Chatbot: Lo siento, no tengo información sobre eso en mi corpus.\")"
   ]
  },
  {
   "cell_type": "code",
   "execution_count": 12,
   "metadata": {},
   "outputs": [
    {
     "name": "stdout",
     "output_type": "stream",
     "text": [
      "Chatbot: ¡Hola! Soy un chatbot. ¿En qué puedo ayudarte hoy?\n"
     ]
    },
    {
     "ename": "NameError",
     "evalue": "name 'tokenizer' is not defined",
     "output_type": "error",
     "traceback": [
      "\u001b[1;31m---------------------------------------------------------------------------\u001b[0m",
      "\u001b[1;31mNameError\u001b[0m                                 Traceback (most recent call last)",
      "\u001b[1;32mUntitled-1.ipynb Cell 5\u001b[0m line \u001b[0;36m1\n\u001b[1;32m----> <a href='vscode-notebook-cell:Untitled-1.ipynb?jupyter-notebook#W4sdW50aXRsZWQ%3D?line=0'>1</a>\u001b[0m setup_chatbot()\n",
      "\u001b[1;32mUntitled-1.ipynb Cell 5\u001b[0m line \u001b[0;36m1\n\u001b[0;32m     <a href='vscode-notebook-cell:Untitled-1.ipynb?jupyter-notebook#W4sdW50aXRsZWQ%3D?line=12'>13</a>\u001b[0m    \u001b[39mbreak\u001b[39;00m\n\u001b[0;32m     <a href='vscode-notebook-cell:Untitled-1.ipynb?jupyter-notebook#W4sdW50aXRsZWQ%3D?line=14'>15</a>\u001b[0m \u001b[39m# Buscar la respuesta en el corpus basada en la pregunta del usuario\u001b[39;00m\n\u001b[1;32m---> <a href='vscode-notebook-cell:Untitled-1.ipynb?jupyter-notebook#W4sdW50aXRsZWQ%3D?line=15'>16</a>\u001b[0m response \u001b[39m=\u001b[39m get_response_from_corpus(user_input, corpus_df, tokenizer)\n\u001b[0;32m     <a href='vscode-notebook-cell:Untitled-1.ipynb?jupyter-notebook#W4sdW50aXRsZWQ%3D?line=17'>18</a>\u001b[0m \u001b[39mif\u001b[39;00m response:\n\u001b[0;32m     <a href='vscode-notebook-cell:Untitled-1.ipynb?jupyter-notebook#W4sdW50aXRsZWQ%3D?line=18'>19</a>\u001b[0m    \u001b[39mprint\u001b[39m(\u001b[39m\"\u001b[39m\u001b[39mChatbot:\u001b[39m\u001b[39m\"\u001b[39m, response)\n",
      "\u001b[1;31mNameError\u001b[0m: name 'tokenizer' is not defined"
     ]
    }
   ],
   "source": [
    "setup_chatbot()"
   ]
  }
 ],
 "metadata": {
  "kernelspec": {
   "display_name": "Python 3",
   "language": "python",
   "name": "python3"
  },
  "language_info": {
   "codemirror_mode": {
    "name": "ipython",
    "version": 3
   },
   "file_extension": ".py",
   "mimetype": "text/x-python",
   "name": "python",
   "nbconvert_exporter": "python",
   "pygments_lexer": "ipython3",
   "version": "3.10.5"
  },
  "orig_nbformat": 4
 },
 "nbformat": 4,
 "nbformat_minor": 2
}
