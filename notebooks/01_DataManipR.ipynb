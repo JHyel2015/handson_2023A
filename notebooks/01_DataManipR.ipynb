{
 "cells": [
  {
   "attachments": {},
   "cell_type": "markdown",
   "metadata": {},
   "source": [
    "## 2. Introduction to R for Machine Learning"
   ]
  },
  {
   "cell_type": "code",
   "execution_count": 14,
   "metadata": {
    "vscode": {
     "languageId": "r"
    }
   },
   "outputs": [
    {
     "name": "stdout",
     "output_type": "stream",
     "text": [
      "[1] \"Array:\"\n"
     ]
    },
    {
     "data": {
      "text/html": [
       "<style>\n",
       ".list-inline {list-style: none; margin:0; padding: 0}\n",
       ".list-inline>li {display: inline-block}\n",
       ".list-inline>li:not(:last-child)::after {content: \"\\00b7\"; padding: 0 .5ex}\n",
       "</style>\n",
       "<ol class=list-inline><li>2</li><li>47</li><li>71</li><li>57</li><li>81</li><li>2</li><li>75</li><li>47</li><li>58</li><li>95</li></ol>\n"
      ],
      "text/latex": [
       "\\begin{enumerate*}\n",
       "\\item 2\n",
       "\\item 47\n",
       "\\item 71\n",
       "\\item 57\n",
       "\\item 81\n",
       "\\item 2\n",
       "\\item 75\n",
       "\\item 47\n",
       "\\item 58\n",
       "\\item 95\n",
       "\\end{enumerate*}\n"
      ],
      "text/markdown": [
       "1. 2\n",
       "2. 47\n",
       "3. 71\n",
       "4. 57\n",
       "5. 81\n",
       "6. 2\n",
       "7. 75\n",
       "8. 47\n",
       "9. 58\n",
       "10. 95\n",
       "\n",
       "\n"
      ],
      "text/plain": [
       " [1]  2 47 71 57 81  2 75 47 58 95"
      ]
     },
     "metadata": {},
     "output_type": "display_data"
    },
    {
     "name": "stdout",
     "output_type": "stream",
     "text": [
      "[1] \"Mean: 53.5\"\n",
      "[1] \"Standard Deviation: 29.4898489314544\"\n"
     ]
    }
   ],
   "source": [
    "\n",
    "# Generate an array of 10 random integers between 1 and 100\n",
    "random_array <- round(runif(n=10, min=1, max=100), 0)\n",
    "\n",
    "# Calculate the mean\n",
    "mean <- sum(random_array) / length(random_array)\n",
    "\n",
    "# Calculate the standard deviation\n",
    "for (x in random_array) {\n",
    "    sum <- sum + (x-mean)**2\n",
    "}\n",
    "\n",
    "sum <- sum / length(random_array)\n",
    "\n",
    "std_deviation <- sqrt(sum)\n",
    "\n",
    "# Print the array, mean, and standard deviation\n",
    "print(\"Array:\")\n",
    "random_array\n",
    "print(paste(\"Mean:\", mean))\n",
    "print(paste(\"Standard Deviation:\", std_deviation))"
   ]
  },
  {
   "cell_type": "code",
   "execution_count": 50,
   "metadata": {
    "vscode": {
     "languageId": "r"
    }
   },
   "outputs": [
    {
     "data": {
      "text/html": [
       "<table class=\"dataframe\">\n",
       "<caption>A matrix: 3 × 4 of type dbl</caption>\n",
       "<tbody>\n",
       "\t<tr><td>29</td><td>96</td><td>67</td><td>85</td></tr>\n",
       "\t<tr><td>28</td><td>33</td><td>55</td><td> 7</td></tr>\n",
       "\t<tr><td>74</td><td>13</td><td>39</td><td>92</td></tr>\n",
       "</tbody>\n",
       "</table>\n"
      ],
      "text/latex": [
       "A matrix: 3 × 4 of type dbl\n",
       "\\begin{tabular}{llll}\n",
       "\t 29 & 96 & 67 & 85\\\\\n",
       "\t 28 & 33 & 55 &  7\\\\\n",
       "\t 74 & 13 & 39 & 92\\\\\n",
       "\\end{tabular}\n"
      ],
      "text/markdown": [
       "\n",
       "A matrix: 3 × 4 of type dbl\n",
       "\n",
       "| 29 | 96 | 67 | 85 |\n",
       "| 28 | 33 | 55 |  7 |\n",
       "| 74 | 13 | 39 | 92 |\n",
       "\n"
      ],
      "text/plain": [
       "     [,1] [,2] [,3] [,4]\n",
       "[1,] 29   96   67   85  \n",
       "[2,] 28   33   55    7  \n",
       "[3,] 74   13   39   92  "
      ]
     },
     "metadata": {},
     "output_type": "display_data"
    },
    {
     "name": "stdout",
     "output_type": "stream",
     "text": [
      "[1] \"Sum of each row: 277 123 218\"\n",
      "[1] \"Sum of each column: 131 142 161 184\"\n"
     ]
    }
   ],
   "source": [
    "# Create a 2-dimensional array of 3 rows and 4 columns with random integer values\n",
    "random_array <- matrix(round(runif(n=12, min=1, max=100), 0), nrow=3, ncol=4)\n",
    "\n",
    "# Calculate the sum of each row\n",
    "row_sums <- rowSums(random_array)\n",
    "\n",
    "# Calculate the sum of each column\n",
    "column_sums <- colSums(random_array)\n",
    "\n",
    "# Print the array, sum of each row, and sum of each column\n",
    "\n",
    "random_array\n",
    "\n",
    "print(paste(c(\"Sum of each row:\", row_sums),collapse=\" \"))\n",
    "print(paste(c(\"Sum of each column:\", column_sums),collapse=\" \"))"
   ]
  },
  {
   "cell_type": "code",
   "execution_count": 56,
   "metadata": {
    "vscode": {
     "languageId": "r"
    }
   },
   "outputs": [
    {
     "data": {
      "text/html": [
       "<table class=\"dataframe\">\n",
       "<caption>A data.frame: 3 × 3</caption>\n",
       "<thead>\n",
       "\t<tr><th></th><th scope=col>Name</th><th scope=col>Age</th><th scope=col>City</th></tr>\n",
       "\t<tr><th></th><th scope=col>&lt;chr&gt;</th><th scope=col>&lt;int&gt;</th><th scope=col>&lt;chr&gt;</th></tr>\n",
       "</thead>\n",
       "<tbody>\n",
       "\t<tr><th scope=row>2</th><td>Pepe   </td><td>35</td><td>Guayaquil</td></tr>\n",
       "\t<tr><th scope=row>3</th><td>Miguel </td><td>42</td><td>Sangolqui</td></tr>\n",
       "\t<tr><th scope=row>5</th><td>Vanessa</td><td>31</td><td>Cuenca   </td></tr>\n",
       "</tbody>\n",
       "</table>\n"
      ],
      "text/latex": [
       "A data.frame: 3 × 3\n",
       "\\begin{tabular}{r|lll}\n",
       "  & Name & Age & City\\\\\n",
       "  & <chr> & <int> & <chr>\\\\\n",
       "\\hline\n",
       "\t2 & Pepe    & 35 & Guayaquil\\\\\n",
       "\t3 & Miguel  & 42 & Sangolqui\\\\\n",
       "\t5 & Vanessa & 31 & Cuenca   \\\\\n",
       "\\end{tabular}\n"
      ],
      "text/markdown": [
       "\n",
       "A data.frame: 3 × 3\n",
       "\n",
       "| <!--/--> | Name &lt;chr&gt; | Age &lt;int&gt; | City &lt;chr&gt; |\n",
       "|---|---|---|---|\n",
       "| 2 | Pepe    | 35 | Guayaquil |\n",
       "| 3 | Miguel  | 42 | Sangolqui |\n",
       "| 5 | Vanessa | 31 | Cuenca    |\n",
       "\n"
      ],
      "text/plain": [
       "  Name    Age City     \n",
       "2 Pepe    35  Guayaquil\n",
       "3 Miguel  42  Sangolqui\n",
       "5 Vanessa 31  Cuenca   "
      ]
     },
     "metadata": {},
     "output_type": "display_data"
    }
   ],
   "source": [
    "# Create a DataFrame\n",
    "df <- data.frame (\n",
    "    \"Name\"= c(\"Juan\", \"Pepe\", \"Miguel\", \"Sofia\", \"Vanessa\"),\n",
    "    \"Age\"= as.integer(c(25, 35, 42, 28, 31)),\n",
    "    \"City\"= c(\"Quito\", \"Guayaquil\", \"Sangolqui\", \"Manta\", \"Cuenca\")\n",
    ")\n",
    "\n",
    "# Filter the DataFrame\n",
    "filtered_df <- df[df$Age>30,]\n",
    "\n",
    "filtered_df"
   ]
  },
  {
   "cell_type": "code",
   "execution_count": 89,
   "metadata": {
    "vscode": {
     "languageId": "r"
    }
   },
   "outputs": [
    {
     "data": {
      "text/html": [
       "<table class=\"dataframe\">\n",
       "<caption>A data.frame: 10 × 18</caption>\n",
       "<thead>\n",
       "\t<tr><th></th><th scope=col>BusinessYear</th><th scope=col>StateCode</th><th scope=col>IssuerId</th><th scope=col>SourceName</th><th scope=col>VersionNum</th><th scope=col>ImportDate</th><th scope=col>IssuerId2</th><th scope=col>StateCode2</th><th scope=col>ServiceAreaId</th><th scope=col>ServiceAreaName</th><th scope=col>CoverEntireState</th><th scope=col>County</th><th scope=col>PartialCounty</th><th scope=col>ZipCodes</th><th scope=col>PartialCountyJustification</th><th scope=col>RowNumber</th><th scope=col>MarketCoverage</th><th scope=col>DentalOnlyPlan</th></tr>\n",
       "\t<tr><th></th><th scope=col>&lt;int&gt;</th><th scope=col>&lt;chr&gt;</th><th scope=col>&lt;int&gt;</th><th scope=col>&lt;chr&gt;</th><th scope=col>&lt;int&gt;</th><th scope=col>&lt;chr&gt;</th><th scope=col>&lt;int&gt;</th><th scope=col>&lt;chr&gt;</th><th scope=col>&lt;chr&gt;</th><th scope=col>&lt;chr&gt;</th><th scope=col>&lt;chr&gt;</th><th scope=col>&lt;dbl&gt;</th><th scope=col>&lt;chr&gt;</th><th scope=col>&lt;chr&gt;</th><th scope=col>&lt;chr&gt;</th><th scope=col>&lt;int&gt;</th><th scope=col>&lt;chr&gt;</th><th scope=col>&lt;chr&gt;</th></tr>\n",
       "</thead>\n",
       "<tbody>\n",
       "\t<tr><th scope=row>1</th><td>2014</td><td>PA</td><td>22444</td><td>HIOS</td><td>9</td><td>2014-01-21 08:29:49</td><td>22444</td><td>PA</td><td>PAS001</td><td>Geisinger Health Plan</td><td>No</td><td>42103</td><td>No</td><td></td><td></td><td>42</td><td></td><td></td></tr>\n",
       "\t<tr><th scope=row>2</th><td>2014</td><td>PA</td><td>22444</td><td>HIOS</td><td>9</td><td>2014-01-21 08:29:49</td><td>22444</td><td>PA</td><td>PAS001</td><td>Geisinger Health Plan</td><td>No</td><td>42105</td><td>No</td><td></td><td></td><td>43</td><td></td><td></td></tr>\n",
       "\t<tr><th scope=row>3</th><td>2014</td><td>PA</td><td>22444</td><td>HIOS</td><td>9</td><td>2014-01-21 08:29:49</td><td>22444</td><td>PA</td><td>PAS001</td><td>Geisinger Health Plan</td><td>No</td><td>42107</td><td>No</td><td></td><td></td><td>44</td><td></td><td></td></tr>\n",
       "\t<tr><th scope=row>4</th><td>2014</td><td>PA</td><td>22444</td><td>HIOS</td><td>9</td><td>2014-01-21 08:29:49</td><td>22444</td><td>PA</td><td>PAS001</td><td>Geisinger Health Plan</td><td>No</td><td>42109</td><td>No</td><td></td><td></td><td>45</td><td></td><td></td></tr>\n",
       "\t<tr><th scope=row>5</th><td>2014</td><td>PA</td><td>22444</td><td>HIOS</td><td>9</td><td>2014-01-21 08:29:49</td><td>22444</td><td>PA</td><td>PAS001</td><td>Geisinger Health Plan</td><td>No</td><td>42111</td><td>No</td><td></td><td></td><td>46</td><td></td><td></td></tr>\n",
       "\t<tr><th scope=row>6</th><td>2014</td><td>PA</td><td>22444</td><td>HIOS</td><td>9</td><td>2014-01-21 08:29:49</td><td>22444</td><td>PA</td><td>PAS001</td><td>Geisinger Health Plan</td><td>No</td><td>42113</td><td>No</td><td></td><td></td><td>47</td><td></td><td></td></tr>\n",
       "\t<tr><th scope=row>7</th><td>2014</td><td>PA</td><td>22444</td><td>HIOS</td><td>9</td><td>2014-01-21 08:29:49</td><td>22444</td><td>PA</td><td>PAS001</td><td>Geisinger Health Plan</td><td>No</td><td>42115</td><td>No</td><td></td><td></td><td>48</td><td></td><td></td></tr>\n",
       "\t<tr><th scope=row>8</th><td>2014</td><td>PA</td><td>22444</td><td>HIOS</td><td>9</td><td>2014-01-21 08:29:49</td><td>22444</td><td>PA</td><td>PAS001</td><td>Geisinger Health Plan</td><td>No</td><td>42117</td><td>No</td><td></td><td></td><td>49</td><td></td><td></td></tr>\n",
       "\t<tr><th scope=row>9</th><td>2014</td><td>PA</td><td>22444</td><td>HIOS</td><td>9</td><td>2014-01-21 08:29:49</td><td>22444</td><td>PA</td><td>PAS001</td><td>Geisinger Health Plan</td><td>No</td><td>42119</td><td>No</td><td></td><td></td><td>50</td><td></td><td></td></tr>\n",
       "\t<tr><th scope=row>10</th><td>2014</td><td>PA</td><td>22444</td><td>HIOS</td><td>9</td><td>2014-01-21 08:29:49</td><td>22444</td><td>PA</td><td>PAS001</td><td>Geisinger Health Plan</td><td>No</td><td>42127</td><td>No</td><td></td><td></td><td>51</td><td></td><td></td></tr>\n",
       "</tbody>\n",
       "</table>\n"
      ],
      "text/latex": [
       "A data.frame: 10 × 18\n",
       "\\begin{tabular}{r|llllllllllllllllll}\n",
       "  & BusinessYear & StateCode & IssuerId & SourceName & VersionNum & ImportDate & IssuerId2 & StateCode2 & ServiceAreaId & ServiceAreaName & CoverEntireState & County & PartialCounty & ZipCodes & PartialCountyJustification & RowNumber & MarketCoverage & DentalOnlyPlan\\\\\n",
       "  & <int> & <chr> & <int> & <chr> & <int> & <chr> & <int> & <chr> & <chr> & <chr> & <chr> & <dbl> & <chr> & <chr> & <chr> & <int> & <chr> & <chr>\\\\\n",
       "\\hline\n",
       "\t1 & 2014 & PA & 22444 & HIOS & 9 & 2014-01-21 08:29:49 & 22444 & PA & PAS001 & Geisinger Health Plan & No & 42103 & No &  &  & 42 &  & \\\\\n",
       "\t2 & 2014 & PA & 22444 & HIOS & 9 & 2014-01-21 08:29:49 & 22444 & PA & PAS001 & Geisinger Health Plan & No & 42105 & No &  &  & 43 &  & \\\\\n",
       "\t3 & 2014 & PA & 22444 & HIOS & 9 & 2014-01-21 08:29:49 & 22444 & PA & PAS001 & Geisinger Health Plan & No & 42107 & No &  &  & 44 &  & \\\\\n",
       "\t4 & 2014 & PA & 22444 & HIOS & 9 & 2014-01-21 08:29:49 & 22444 & PA & PAS001 & Geisinger Health Plan & No & 42109 & No &  &  & 45 &  & \\\\\n",
       "\t5 & 2014 & PA & 22444 & HIOS & 9 & 2014-01-21 08:29:49 & 22444 & PA & PAS001 & Geisinger Health Plan & No & 42111 & No &  &  & 46 &  & \\\\\n",
       "\t6 & 2014 & PA & 22444 & HIOS & 9 & 2014-01-21 08:29:49 & 22444 & PA & PAS001 & Geisinger Health Plan & No & 42113 & No &  &  & 47 &  & \\\\\n",
       "\t7 & 2014 & PA & 22444 & HIOS & 9 & 2014-01-21 08:29:49 & 22444 & PA & PAS001 & Geisinger Health Plan & No & 42115 & No &  &  & 48 &  & \\\\\n",
       "\t8 & 2014 & PA & 22444 & HIOS & 9 & 2014-01-21 08:29:49 & 22444 & PA & PAS001 & Geisinger Health Plan & No & 42117 & No &  &  & 49 &  & \\\\\n",
       "\t9 & 2014 & PA & 22444 & HIOS & 9 & 2014-01-21 08:29:49 & 22444 & PA & PAS001 & Geisinger Health Plan & No & 42119 & No &  &  & 50 &  & \\\\\n",
       "\t10 & 2014 & PA & 22444 & HIOS & 9 & 2014-01-21 08:29:49 & 22444 & PA & PAS001 & Geisinger Health Plan & No & 42127 & No &  &  & 51 &  & \\\\\n",
       "\\end{tabular}\n"
      ],
      "text/markdown": [
       "\n",
       "A data.frame: 10 × 18\n",
       "\n",
       "| <!--/--> | BusinessYear &lt;int&gt; | StateCode &lt;chr&gt; | IssuerId &lt;int&gt; | SourceName &lt;chr&gt; | VersionNum &lt;int&gt; | ImportDate &lt;chr&gt; | IssuerId2 &lt;int&gt; | StateCode2 &lt;chr&gt; | ServiceAreaId &lt;chr&gt; | ServiceAreaName &lt;chr&gt; | CoverEntireState &lt;chr&gt; | County &lt;dbl&gt; | PartialCounty &lt;chr&gt; | ZipCodes &lt;chr&gt; | PartialCountyJustification &lt;chr&gt; | RowNumber &lt;int&gt; | MarketCoverage &lt;chr&gt; | DentalOnlyPlan &lt;chr&gt; |\n",
       "|---|---|---|---|---|---|---|---|---|---|---|---|---|---|---|---|---|---|---|\n",
       "| 1 | 2014 | PA | 22444 | HIOS | 9 | 2014-01-21 08:29:49 | 22444 | PA | PAS001 | Geisinger Health Plan | No | 42103 | No | <!----> | <!----> | 42 | <!----> | <!----> |\n",
       "| 2 | 2014 | PA | 22444 | HIOS | 9 | 2014-01-21 08:29:49 | 22444 | PA | PAS001 | Geisinger Health Plan | No | 42105 | No | <!----> | <!----> | 43 | <!----> | <!----> |\n",
       "| 3 | 2014 | PA | 22444 | HIOS | 9 | 2014-01-21 08:29:49 | 22444 | PA | PAS001 | Geisinger Health Plan | No | 42107 | No | <!----> | <!----> | 44 | <!----> | <!----> |\n",
       "| 4 | 2014 | PA | 22444 | HIOS | 9 | 2014-01-21 08:29:49 | 22444 | PA | PAS001 | Geisinger Health Plan | No | 42109 | No | <!----> | <!----> | 45 | <!----> | <!----> |\n",
       "| 5 | 2014 | PA | 22444 | HIOS | 9 | 2014-01-21 08:29:49 | 22444 | PA | PAS001 | Geisinger Health Plan | No | 42111 | No | <!----> | <!----> | 46 | <!----> | <!----> |\n",
       "| 6 | 2014 | PA | 22444 | HIOS | 9 | 2014-01-21 08:29:49 | 22444 | PA | PAS001 | Geisinger Health Plan | No | 42113 | No | <!----> | <!----> | 47 | <!----> | <!----> |\n",
       "| 7 | 2014 | PA | 22444 | HIOS | 9 | 2014-01-21 08:29:49 | 22444 | PA | PAS001 | Geisinger Health Plan | No | 42115 | No | <!----> | <!----> | 48 | <!----> | <!----> |\n",
       "| 8 | 2014 | PA | 22444 | HIOS | 9 | 2014-01-21 08:29:49 | 22444 | PA | PAS001 | Geisinger Health Plan | No | 42117 | No | <!----> | <!----> | 49 | <!----> | <!----> |\n",
       "| 9 | 2014 | PA | 22444 | HIOS | 9 | 2014-01-21 08:29:49 | 22444 | PA | PAS001 | Geisinger Health Plan | No | 42119 | No | <!----> | <!----> | 50 | <!----> | <!----> |\n",
       "| 10 | 2014 | PA | 22444 | HIOS | 9 | 2014-01-21 08:29:49 | 22444 | PA | PAS001 | Geisinger Health Plan | No | 42127 | No | <!----> | <!----> | 51 | <!----> | <!----> |\n",
       "\n"
      ],
      "text/plain": [
       "   BusinessYear StateCode IssuerId SourceName VersionNum ImportDate         \n",
       "1  2014         PA        22444    HIOS       9          2014-01-21 08:29:49\n",
       "2  2014         PA        22444    HIOS       9          2014-01-21 08:29:49\n",
       "3  2014         PA        22444    HIOS       9          2014-01-21 08:29:49\n",
       "4  2014         PA        22444    HIOS       9          2014-01-21 08:29:49\n",
       "5  2014         PA        22444    HIOS       9          2014-01-21 08:29:49\n",
       "6  2014         PA        22444    HIOS       9          2014-01-21 08:29:49\n",
       "7  2014         PA        22444    HIOS       9          2014-01-21 08:29:49\n",
       "8  2014         PA        22444    HIOS       9          2014-01-21 08:29:49\n",
       "9  2014         PA        22444    HIOS       9          2014-01-21 08:29:49\n",
       "10 2014         PA        22444    HIOS       9          2014-01-21 08:29:49\n",
       "   IssuerId2 StateCode2 ServiceAreaId ServiceAreaName       CoverEntireState\n",
       "1  22444     PA         PAS001        Geisinger Health Plan No              \n",
       "2  22444     PA         PAS001        Geisinger Health Plan No              \n",
       "3  22444     PA         PAS001        Geisinger Health Plan No              \n",
       "4  22444     PA         PAS001        Geisinger Health Plan No              \n",
       "5  22444     PA         PAS001        Geisinger Health Plan No              \n",
       "6  22444     PA         PAS001        Geisinger Health Plan No              \n",
       "7  22444     PA         PAS001        Geisinger Health Plan No              \n",
       "8  22444     PA         PAS001        Geisinger Health Plan No              \n",
       "9  22444     PA         PAS001        Geisinger Health Plan No              \n",
       "10 22444     PA         PAS001        Geisinger Health Plan No              \n",
       "   County PartialCounty ZipCodes PartialCountyJustification RowNumber\n",
       "1  42103  No                                                42       \n",
       "2  42105  No                                                43       \n",
       "3  42107  No                                                44       \n",
       "4  42109  No                                                45       \n",
       "5  42111  No                                                46       \n",
       "6  42113  No                                                47       \n",
       "7  42115  No                                                48       \n",
       "8  42117  No                                                49       \n",
       "9  42119  No                                                50       \n",
       "10 42127  No                                                51       \n",
       "   MarketCoverage DentalOnlyPlan\n",
       "1                               \n",
       "2                               \n",
       "3                               \n",
       "4                               \n",
       "5                               \n",
       "6                               \n",
       "7                               \n",
       "8                               \n",
       "9                               \n",
       "10                              "
      ]
     },
     "metadata": {},
     "output_type": "display_data"
    },
    {
     "name": "stdout",
     "output_type": "stream",
     "text": [
      "[1] \"Mean: 7.06208724879873\"\n",
      "[1] \"Median: 6\"\n",
      "[1] \"Mode: 6\"\n"
     ]
    }
   ],
   "source": [
    "df <- read.csv('../data/01_datamanip/servicearea.csv')\n",
    "\n",
    "# Print first 10 rows\n",
    "head(df,10)\n",
    "\n",
    "# Calculate the mean of a column\n",
    "mean <- mean(df[[\"VersionNum\"]],na.rm = TRUE)\n",
    "\n",
    "# Calculate the median of a column\n",
    "median <- median(df[[\"VersionNum\"]],na.rm = TRUE)\n",
    "\n",
    "# Calculate the mode of a column\n",
    "getmode <- function(v) {\n",
    "   uniqv <- unique(v)\n",
    "   uniqv[which.max(tabulate(match(v, uniqv)))]\n",
    "}\n",
    "mode <- getmode(df[[\"VersionNum\"]])\n",
    "\n",
    "print(paste(c(\"Mean:\",mean),collapse=\" \"))\n",
    "print(paste(c(\"Median:\",median),collapse=\" \"))\n",
    "print(paste(c(\"Mode:\",mode),collapse=\" \"))"
   ]
  },
  {
   "cell_type": "code",
   "execution_count": 79,
   "metadata": {
    "vscode": {
     "languageId": "r"
    }
   },
   "outputs": [
    {
     "data": {
      "image/png": "[encoded data removed]",
      "text/plain": [
       "Plot with title \"Scatter Plot of Random X and Y Values\""
      ]
     },
     "metadata": {
      "image/png": {
       "height": 420,
       "width": 420
      }
     },
     "output_type": "display_data"
    }
   ],
   "source": [
    "x <- round(runif(n=50, min=1, max=100), 0)\n",
    "y <- round(runif(n=50, min=1, max=100), 0)\n",
    "\n",
    "# Plot with main and axis titles\n",
    "plot(x, y, main = \"Scatter Plot of Random X and Y Values\",\n",
    "     xlab = \"X values\", ylab = \"Y values\",\n",
    "     pch = 19, frame = FALSE)"
   ]
  },
  {
   "cell_type": "code",
   "execution_count": 90,
   "metadata": {
    "vscode": {
     "languageId": "r"
    }
   },
   "outputs": [
    {
     "data": {
      "image/png": "[encoded data removed]",
      "text/plain": [
       "Plot with title \"Line Chart of BusinessYear\""
      ]
     },
     "metadata": {
      "image/png": {
       "height": 420,
       "width": 420
      }
     },
     "output_type": "display_data"
    }
   ],
   "source": [
    "plot(c(1:length(df[[\"BusinessYear\"]])),df[[\"BusinessYear\"]], main = \"Line Chart of BusinessYear\",\n",
    "     xlab = \"X values\", ylab = \"Y values\",\n",
    "     pch = 19, frame = FALSE)"
   ]
  },
  {
   "attachments": {},
   "cell_type": "markdown",
   "metadata": {},
   "source": [
    "## 3. Data import\n",
    "\n",
    "The Echocardiogram data set in the UCI Machine Learning repository contains information on a set of patients that suffered heart attacks at some point in the past."
   ]
  },
  {
   "attachments": {},
   "cell_type": "markdown",
   "metadata": {},
   "source": [
    "(a) Download the Echocardiogram data set and import it to a data frame. Read the information on the data set and find out how missing values are represented and make sure that they are properly represented"
   ]
  },
  {
   "cell_type": "code",
   "execution_count": 97,
   "metadata": {
    "vscode": {
     "languageId": "r"
    }
   },
   "outputs": [
    {
     "data": {
      "text/html": [
       "<style>\n",
       ".list-inline {list-style: none; margin:0; padding: 0}\n",
       ".list-inline>li {display: inline-block}\n",
       ".list-inline>li:not(:last-child)::after {content: \"\\00b7\"; padding: 0 .5ex}\n",
       "</style>\n",
       "<ol class=list-inline><li>'V1'</li><li>'V2'</li><li>'V3'</li><li>'V4'</li><li>'V5'</li><li>'V6'</li><li>'V7'</li><li>'V8'</li><li>'V9'</li><li>'V10'</li><li>'V12'</li><li>'V13'</li></ol>\n"
      ],
      "text/latex": [
       "\\begin{enumerate*}\n",
       "\\item 'V1'\n",
       "\\item 'V2'\n",
       "\\item 'V3'\n",
       "\\item 'V4'\n",
       "\\item 'V5'\n",
       "\\item 'V6'\n",
       "\\item 'V7'\n",
       "\\item 'V8'\n",
       "\\item 'V9'\n",
       "\\item 'V10'\n",
       "\\item 'V12'\n",
       "\\item 'V13'\n",
       "\\end{enumerate*}\n"
      ],
      "text/markdown": [
       "1. 'V1'\n",
       "2. 'V2'\n",
       "3. 'V3'\n",
       "4. 'V4'\n",
       "5. 'V5'\n",
       "6. 'V6'\n",
       "7. 'V7'\n",
       "8. 'V8'\n",
       "9. 'V9'\n",
       "10. 'V10'\n",
       "11. 'V12'\n",
       "12. 'V13'\n",
       "\n",
       "\n"
      ],
      "text/plain": [
       " [1] \"V1\"  \"V2\"  \"V3\"  \"V4\"  \"V5\"  \"V6\"  \"V7\"  \"V8\"  \"V9\"  \"V10\" \"V12\" \"V13\""
      ]
     },
     "metadata": {},
     "output_type": "display_data"
    },
    {
     "data": {
      "text/html": [
       "<table class=\"dataframe\">\n",
       "<caption>A data.frame: 10 × 13</caption>\n",
       "<thead>\n",
       "\t<tr><th></th><th scope=col>V1</th><th scope=col>V2</th><th scope=col>V3</th><th scope=col>V4</th><th scope=col>V5</th><th scope=col>V6</th><th scope=col>V7</th><th scope=col>V8</th><th scope=col>V9</th><th scope=col>V10</th><th scope=col>V11</th><th scope=col>V12</th><th scope=col>V13</th></tr>\n",
       "\t<tr><th></th><th scope=col>&lt;chr&gt;</th><th scope=col>&lt;chr&gt;</th><th scope=col>&lt;chr&gt;</th><th scope=col>&lt;chr&gt;</th><th scope=col>&lt;chr&gt;</th><th scope=col>&lt;chr&gt;</th><th scope=col>&lt;chr&gt;</th><th scope=col>&lt;chr&gt;</th><th scope=col>&lt;chr&gt;</th><th scope=col>&lt;chr&gt;</th><th scope=col>&lt;chr&gt;</th><th scope=col>&lt;chr&gt;</th><th scope=col>&lt;chr&gt;</th></tr>\n",
       "</thead>\n",
       "<tbody>\n",
       "\t<tr><th scope=row>1</th><td>11</td><td>0</td><td>71</td><td>0</td><td>0.260</td><td>9     </td><td>4.600</td><td>14  </td><td>1    </td><td>1    </td><td>name</td><td>1</td><td>0</td></tr>\n",
       "\t<tr><th scope=row>2</th><td>19</td><td>0</td><td>72</td><td>0</td><td>0.380</td><td>6     </td><td>4.100</td><td>14  </td><td>1.700</td><td>0.588</td><td>name</td><td>1</td><td>0</td></tr>\n",
       "\t<tr><th scope=row>3</th><td>16</td><td>0</td><td>55</td><td>0</td><td>0.260</td><td>4     </td><td>3.420</td><td>14  </td><td>1    </td><td>1    </td><td>name</td><td>1</td><td>0</td></tr>\n",
       "\t<tr><th scope=row>4</th><td>57</td><td>0</td><td>60</td><td>0</td><td>0.253</td><td>12.062</td><td>4.603</td><td>16  </td><td>1.450</td><td>0.788</td><td>name</td><td>1</td><td>0</td></tr>\n",
       "\t<tr><th scope=row>5</th><td>19</td><td>1</td><td>57</td><td>0</td><td>0.160</td><td>22    </td><td>5.750</td><td>18  </td><td>2.250</td><td>0.571</td><td>name</td><td>1</td><td>0</td></tr>\n",
       "\t<tr><th scope=row>6</th><td>26</td><td>0</td><td>68</td><td>0</td><td>0.260</td><td>5     </td><td>4.310</td><td>12  </td><td>1    </td><td>0.857</td><td>name</td><td>1</td><td>0</td></tr>\n",
       "\t<tr><th scope=row>7</th><td>13</td><td>0</td><td>62</td><td>0</td><td>0.230</td><td>31    </td><td>5.430</td><td>22.5</td><td>1.875</td><td>0.857</td><td>name</td><td>1</td><td>0</td></tr>\n",
       "\t<tr><th scope=row>8</th><td>50</td><td>0</td><td>60</td><td>0</td><td>0.330</td><td>8     </td><td>5.250</td><td>14  </td><td>1    </td><td>1    </td><td>name</td><td>1</td><td>0</td></tr>\n",
       "\t<tr><th scope=row>9</th><td>19</td><td>0</td><td>46</td><td>0</td><td>0.340</td><td>0     </td><td>5.090</td><td>16  </td><td>1.140</td><td>1.003</td><td>name</td><td>1</td><td>0</td></tr>\n",
       "\t<tr><th scope=row>10</th><td>25</td><td>0</td><td>54</td><td>0</td><td>0.140</td><td>13    </td><td>4.490</td><td>15.5</td><td>1.190</td><td>0.930</td><td>name</td><td>1</td><td>0</td></tr>\n",
       "</tbody>\n",
       "</table>\n"
      ],
      "text/latex": [
       "A data.frame: 10 × 13\n",
       "\\begin{tabular}{r|lllllllllllll}\n",
       "  & V1 & V2 & V3 & V4 & V5 & V6 & V7 & V8 & V9 & V10 & V11 & V12 & V13\\\\\n",
       "  & <chr> & <chr> & <chr> & <chr> & <chr> & <chr> & <chr> & <chr> & <chr> & <chr> & <chr> & <chr> & <chr>\\\\\n",
       "\\hline\n",
       "\t1 & 11 & 0 & 71 & 0 & 0.260 & 9      & 4.600 & 14   & 1     & 1     & name & 1 & 0\\\\\n",
       "\t2 & 19 & 0 & 72 & 0 & 0.380 & 6      & 4.100 & 14   & 1.700 & 0.588 & name & 1 & 0\\\\\n",
       "\t3 & 16 & 0 & 55 & 0 & 0.260 & 4      & 3.420 & 14   & 1     & 1     & name & 1 & 0\\\\\n",
       "\t4 & 57 & 0 & 60 & 0 & 0.253 & 12.062 & 4.603 & 16   & 1.450 & 0.788 & name & 1 & 0\\\\\n",
       "\t5 & 19 & 1 & 57 & 0 & 0.160 & 22     & 5.750 & 18   & 2.250 & 0.571 & name & 1 & 0\\\\\n",
       "\t6 & 26 & 0 & 68 & 0 & 0.260 & 5      & 4.310 & 12   & 1     & 0.857 & name & 1 & 0\\\\\n",
       "\t7 & 13 & 0 & 62 & 0 & 0.230 & 31     & 5.430 & 22.5 & 1.875 & 0.857 & name & 1 & 0\\\\\n",
       "\t8 & 50 & 0 & 60 & 0 & 0.330 & 8      & 5.250 & 14   & 1     & 1     & name & 1 & 0\\\\\n",
       "\t9 & 19 & 0 & 46 & 0 & 0.340 & 0      & 5.090 & 16   & 1.140 & 1.003 & name & 1 & 0\\\\\n",
       "\t10 & 25 & 0 & 54 & 0 & 0.140 & 13     & 4.490 & 15.5 & 1.190 & 0.930 & name & 1 & 0\\\\\n",
       "\\end{tabular}\n"
      ],
      "text/markdown": [
       "\n",
       "A data.frame: 10 × 13\n",
       "\n",
       "| <!--/--> | V1 &lt;chr&gt; | V2 &lt;chr&gt; | V3 &lt;chr&gt; | V4 &lt;chr&gt; | V5 &lt;chr&gt; | V6 &lt;chr&gt; | V7 &lt;chr&gt; | V8 &lt;chr&gt; | V9 &lt;chr&gt; | V10 &lt;chr&gt; | V11 &lt;chr&gt; | V12 &lt;chr&gt; | V13 &lt;chr&gt; |\n",
       "|---|---|---|---|---|---|---|---|---|---|---|---|---|---|\n",
       "| 1 | 11 | 0 | 71 | 0 | 0.260 | 9      | 4.600 | 14   | 1     | 1     | name | 1 | 0 |\n",
       "| 2 | 19 | 0 | 72 | 0 | 0.380 | 6      | 4.100 | 14   | 1.700 | 0.588 | name | 1 | 0 |\n",
       "| 3 | 16 | 0 | 55 | 0 | 0.260 | 4      | 3.420 | 14   | 1     | 1     | name | 1 | 0 |\n",
       "| 4 | 57 | 0 | 60 | 0 | 0.253 | 12.062 | 4.603 | 16   | 1.450 | 0.788 | name | 1 | 0 |\n",
       "| 5 | 19 | 1 | 57 | 0 | 0.160 | 22     | 5.750 | 18   | 2.250 | 0.571 | name | 1 | 0 |\n",
       "| 6 | 26 | 0 | 68 | 0 | 0.260 | 5      | 4.310 | 12   | 1     | 0.857 | name | 1 | 0 |\n",
       "| 7 | 13 | 0 | 62 | 0 | 0.230 | 31     | 5.430 | 22.5 | 1.875 | 0.857 | name | 1 | 0 |\n",
       "| 8 | 50 | 0 | 60 | 0 | 0.330 | 8      | 5.250 | 14   | 1     | 1     | name | 1 | 0 |\n",
       "| 9 | 19 | 0 | 46 | 0 | 0.340 | 0      | 5.090 | 16   | 1.140 | 1.003 | name | 1 | 0 |\n",
       "| 10 | 25 | 0 | 54 | 0 | 0.140 | 13     | 4.490 | 15.5 | 1.190 | 0.930 | name | 1 | 0 |\n",
       "\n"
      ],
      "text/plain": [
       "   V1 V2 V3 V4 V5    V6     V7    V8   V9    V10   V11  V12 V13\n",
       "1  11 0  71 0  0.260 9      4.600 14   1     1     name 1   0  \n",
       "2  19 0  72 0  0.380 6      4.100 14   1.700 0.588 name 1   0  \n",
       "3  16 0  55 0  0.260 4      3.420 14   1     1     name 1   0  \n",
       "4  57 0  60 0  0.253 12.062 4.603 16   1.450 0.788 name 1   0  \n",
       "5  19 1  57 0  0.160 22     5.750 18   2.250 0.571 name 1   0  \n",
       "6  26 0  68 0  0.260 5      4.310 12   1     0.857 name 1   0  \n",
       "7  13 0  62 0  0.230 31     5.430 22.5 1.875 0.857 name 1   0  \n",
       "8  50 0  60 0  0.330 8      5.250 14   1     1     name 1   0  \n",
       "9  19 0  46 0  0.340 0      5.090 16   1.140 1.003 name 1   0  \n",
       "10 25 0  54 0  0.140 13     4.490 15.5 1.190 0.930 name 1   0  "
      ]
     },
     "metadata": {},
     "output_type": "display_data"
    },
    {
     "data": {
      "text/html": [
       "<table class=\"dataframe\">\n",
       "<caption>A data.frame: 10 × 13</caption>\n",
       "<thead>\n",
       "\t<tr><th></th><th scope=col>V1</th><th scope=col>V2</th><th scope=col>V3</th><th scope=col>V4</th><th scope=col>V5</th><th scope=col>V6</th><th scope=col>V7</th><th scope=col>V8</th><th scope=col>V9</th><th scope=col>V10</th><th scope=col>V11</th><th scope=col>V12</th><th scope=col>V13</th></tr>\n",
       "\t<tr><th></th><th scope=col>&lt;chr&gt;</th><th scope=col>&lt;chr&gt;</th><th scope=col>&lt;chr&gt;</th><th scope=col>&lt;chr&gt;</th><th scope=col>&lt;chr&gt;</th><th scope=col>&lt;chr&gt;</th><th scope=col>&lt;chr&gt;</th><th scope=col>&lt;chr&gt;</th><th scope=col>&lt;chr&gt;</th><th scope=col>&lt;chr&gt;</th><th scope=col>&lt;chr&gt;</th><th scope=col>&lt;chr&gt;</th><th scope=col>&lt;chr&gt;</th></tr>\n",
       "</thead>\n",
       "<tbody>\n",
       "\t<tr><th scope=row>123</th><td>31 </td><td>0</td><td>61</td><td>0</td><td>0.18</td><td>0   </td><td>4.48</td><td>11  </td><td>1.375</td><td>0.57 </td><td>name</td><td>NA</td><td>NA</td></tr>\n",
       "\t<tr><th scope=row>124</th><td>12 </td><td>0</td><td>61</td><td>1</td><td>0.19</td><td>13.2</td><td>5.04</td><td>19  </td><td>1.73 </td><td>0.786</td><td>name</td><td>NA</td><td>NA</td></tr>\n",
       "\t<tr><th scope=row>125</th><td>36 </td><td>0</td><td>48</td><td>0</td><td>0.15</td><td>12  </td><td>3.66</td><td>10  </td><td>1    </td><td>0.714</td><td>name</td><td>NA</td><td>NA</td></tr>\n",
       "\t<tr><th scope=row>126</th><td>17 </td><td>0</td><td>NA</td><td>0</td><td>0.09</td><td>6.80</td><td>4.96</td><td>13  </td><td>1.08 </td><td>0.857</td><td>name</td><td>NA</td><td>NA</td></tr>\n",
       "\t<tr><th scope=row>127</th><td>21 </td><td>0</td><td>61</td><td>0</td><td>0.14</td><td>25.5</td><td>5.16</td><td>14  </td><td>1.27 </td><td>0.786</td><td>name</td><td>NA</td><td>NA</td></tr>\n",
       "\t<tr><th scope=row>128</th><td>7.5</td><td>1</td><td>64</td><td>0</td><td>0.24</td><td>12.9</td><td>4.72</td><td>12  </td><td>1    </td><td>0.857</td><td>name</td><td>NA</td><td>NA</td></tr>\n",
       "\t<tr><th scope=row>129</th><td>41 </td><td>0</td><td>64</td><td>0</td><td>0.28</td><td>5.40</td><td>5.47</td><td>11  </td><td>1.10 </td><td>0.714</td><td>name</td><td>NA</td><td>NA</td></tr>\n",
       "\t<tr><th scope=row>130</th><td>36 </td><td>0</td><td>69</td><td>0</td><td>0.20</td><td>7.00</td><td>5.05</td><td>14.5</td><td>1.21 </td><td>0.857</td><td>name</td><td>NA</td><td>NA</td></tr>\n",
       "\t<tr><th scope=row>131</th><td>22 </td><td>0</td><td>57</td><td>0</td><td>0.14</td><td>16.1</td><td>4.36</td><td>15  </td><td>1.36 </td><td>0.786</td><td>name</td><td>NA</td><td>NA</td></tr>\n",
       "\t<tr><th scope=row>132</th><td>20 </td><td>0</td><td>62</td><td>0</td><td>0.15</td><td>0   </td><td>4.51</td><td>15.5</td><td>1.409</td><td>0.786</td><td>name</td><td>NA</td><td>NA</td></tr>\n",
       "</tbody>\n",
       "</table>\n"
      ],
      "text/latex": [
       "A data.frame: 10 × 13\n",
       "\\begin{tabular}{r|lllllllllllll}\n",
       "  & V1 & V2 & V3 & V4 & V5 & V6 & V7 & V8 & V9 & V10 & V11 & V12 & V13\\\\\n",
       "  & <chr> & <chr> & <chr> & <chr> & <chr> & <chr> & <chr> & <chr> & <chr> & <chr> & <chr> & <chr> & <chr>\\\\\n",
       "\\hline\n",
       "\t123 & 31  & 0 & 61 & 0 & 0.18 & 0    & 4.48 & 11   & 1.375 & 0.57  & name & NA & NA\\\\\n",
       "\t124 & 12  & 0 & 61 & 1 & 0.19 & 13.2 & 5.04 & 19   & 1.73  & 0.786 & name & NA & NA\\\\\n",
       "\t125 & 36  & 0 & 48 & 0 & 0.15 & 12   & 3.66 & 10   & 1     & 0.714 & name & NA & NA\\\\\n",
       "\t126 & 17  & 0 & NA & 0 & 0.09 & 6.80 & 4.96 & 13   & 1.08  & 0.857 & name & NA & NA\\\\\n",
       "\t127 & 21  & 0 & 61 & 0 & 0.14 & 25.5 & 5.16 & 14   & 1.27  & 0.786 & name & NA & NA\\\\\n",
       "\t128 & 7.5 & 1 & 64 & 0 & 0.24 & 12.9 & 4.72 & 12   & 1     & 0.857 & name & NA & NA\\\\\n",
       "\t129 & 41  & 0 & 64 & 0 & 0.28 & 5.40 & 5.47 & 11   & 1.10  & 0.714 & name & NA & NA\\\\\n",
       "\t130 & 36  & 0 & 69 & 0 & 0.20 & 7.00 & 5.05 & 14.5 & 1.21  & 0.857 & name & NA & NA\\\\\n",
       "\t131 & 22  & 0 & 57 & 0 & 0.14 & 16.1 & 4.36 & 15   & 1.36  & 0.786 & name & NA & NA\\\\\n",
       "\t132 & 20  & 0 & 62 & 0 & 0.15 & 0    & 4.51 & 15.5 & 1.409 & 0.786 & name & NA & NA\\\\\n",
       "\\end{tabular}\n"
      ],
      "text/markdown": [
       "\n",
       "A data.frame: 10 × 13\n",
       "\n",
       "| <!--/--> | V1 &lt;chr&gt; | V2 &lt;chr&gt; | V3 &lt;chr&gt; | V4 &lt;chr&gt; | V5 &lt;chr&gt; | V6 &lt;chr&gt; | V7 &lt;chr&gt; | V8 &lt;chr&gt; | V9 &lt;chr&gt; | V10 &lt;chr&gt; | V11 &lt;chr&gt; | V12 &lt;chr&gt; | V13 &lt;chr&gt; |\n",
       "|---|---|---|---|---|---|---|---|---|---|---|---|---|---|\n",
       "| 123 | 31  | 0 | 61 | 0 | 0.18 | 0    | 4.48 | 11   | 1.375 | 0.57  | name | NA | NA |\n",
       "| 124 | 12  | 0 | 61 | 1 | 0.19 | 13.2 | 5.04 | 19   | 1.73  | 0.786 | name | NA | NA |\n",
       "| 125 | 36  | 0 | 48 | 0 | 0.15 | 12   | 3.66 | 10   | 1     | 0.714 | name | NA | NA |\n",
       "| 126 | 17  | 0 | NA | 0 | 0.09 | 6.80 | 4.96 | 13   | 1.08  | 0.857 | name | NA | NA |\n",
       "| 127 | 21  | 0 | 61 | 0 | 0.14 | 25.5 | 5.16 | 14   | 1.27  | 0.786 | name | NA | NA |\n",
       "| 128 | 7.5 | 1 | 64 | 0 | 0.24 | 12.9 | 4.72 | 12   | 1     | 0.857 | name | NA | NA |\n",
       "| 129 | 41  | 0 | 64 | 0 | 0.28 | 5.40 | 5.47 | 11   | 1.10  | 0.714 | name | NA | NA |\n",
       "| 130 | 36  | 0 | 69 | 0 | 0.20 | 7.00 | 5.05 | 14.5 | 1.21  | 0.857 | name | NA | NA |\n",
       "| 131 | 22  | 0 | 57 | 0 | 0.14 | 16.1 | 4.36 | 15   | 1.36  | 0.786 | name | NA | NA |\n",
       "| 132 | 20  | 0 | 62 | 0 | 0.15 | 0    | 4.51 | 15.5 | 1.409 | 0.786 | name | NA | NA |\n",
       "\n"
      ],
      "text/plain": [
       "    V1  V2 V3 V4 V5   V6   V7   V8   V9    V10   V11  V12 V13\n",
       "123 31  0  61 0  0.18 0    4.48 11   1.375 0.57  name NA  NA \n",
       "124 12  0  61 1  0.19 13.2 5.04 19   1.73  0.786 name NA  NA \n",
       "125 36  0  48 0  0.15 12   3.66 10   1     0.714 name NA  NA \n",
       "126 17  0  NA 0  0.09 6.80 4.96 13   1.08  0.857 name NA  NA \n",
       "127 21  0  61 0  0.14 25.5 5.16 14   1.27  0.786 name NA  NA \n",
       "128 7.5 1  64 0  0.24 12.9 4.72 12   1     0.857 name NA  NA \n",
       "129 41  0  64 0  0.28 5.40 5.47 11   1.10  0.714 name NA  NA \n",
       "130 36  0  69 0  0.20 7.00 5.05 14.5 1.21  0.857 name NA  NA \n",
       "131 22  0  57 0  0.14 16.1 4.36 15   1.36  0.786 name NA  NA \n",
       "132 20  0  62 0  0.15 0    4.51 15.5 1.409 0.786 name NA  NA "
      ]
     },
     "metadata": {},
     "output_type": "display_data"
    }
   ],
   "source": [
    "df <- read.csv('../data/01_datamanip/echocardiogram.data', header=FALSE)\n",
    "\n",
    "df[df == \"?\"] <- NA\n",
    "\n",
    "colnames(df)[colSums(is.na(df)) > 0]\n",
    "\n",
    "head(df,10)\n",
    "\n",
    "tail(df,10)\n"
   ]
  },
  {
   "attachments": {},
   "cell_type": "markdown",
   "metadata": {},
   "source": [
    "(b) Assign the attributes with meaningful names. You can look for this information on the same webpage."
   ]
  },
  {
   "cell_type": "code",
   "execution_count": 103,
   "metadata": {
    "vscode": {
     "languageId": "r"
    }
   },
   "outputs": [
    {
     "data": {
      "text/html": [
       "<table class=\"dataframe\">\n",
       "<caption>A data.frame: 10 × 13</caption>\n",
       "<thead>\n",
       "\t<tr><th></th><th scope=col>survival</th><th scope=col>still_alive</th><th scope=col>age_at_heart_attack</th><th scope=col>pericardial_effusion</th><th scope=col>fractional_shortening</th><th scope=col>epss</th><th scope=col>lvdd</th><th scope=col>wall_motion_score</th><th scope=col>wall_motion_index</th><th scope=col>mult</th><th scope=col>name</th><th scope=col>group</th><th scope=col>alive-at-1</th></tr>\n",
       "\t<tr><th></th><th scope=col>&lt;chr&gt;</th><th scope=col>&lt;dbl&gt;</th><th scope=col>&lt;chr&gt;</th><th scope=col>&lt;chr&gt;</th><th scope=col>&lt;chr&gt;</th><th scope=col>&lt;chr&gt;</th><th scope=col>&lt;chr&gt;</th><th scope=col>&lt;chr&gt;</th><th scope=col>&lt;chr&gt;</th><th scope=col>&lt;chr&gt;</th><th scope=col>&lt;chr&gt;</th><th scope=col>&lt;chr&gt;</th><th scope=col>&lt;chr&gt;</th></tr>\n",
       "</thead>\n",
       "<tbody>\n",
       "\t<tr><th scope=row>1</th><td>11</td><td>0</td><td>71</td><td>0</td><td>0.260</td><td>9     </td><td>4.600</td><td>14  </td><td>1    </td><td>1    </td><td>name</td><td>1</td><td>0</td></tr>\n",
       "\t<tr><th scope=row>2</th><td>19</td><td>0</td><td>72</td><td>0</td><td>0.380</td><td>6     </td><td>4.100</td><td>14  </td><td>1.700</td><td>0.588</td><td>name</td><td>1</td><td>0</td></tr>\n",
       "\t<tr><th scope=row>3</th><td>16</td><td>0</td><td>55</td><td>0</td><td>0.260</td><td>4     </td><td>3.420</td><td>14  </td><td>1    </td><td>1    </td><td>name</td><td>1</td><td>0</td></tr>\n",
       "\t<tr><th scope=row>4</th><td>57</td><td>0</td><td>60</td><td>0</td><td>0.253</td><td>12.062</td><td>4.603</td><td>16  </td><td>1.450</td><td>0.788</td><td>name</td><td>1</td><td>0</td></tr>\n",
       "\t<tr><th scope=row>5</th><td>19</td><td>1</td><td>57</td><td>0</td><td>0.160</td><td>22    </td><td>5.750</td><td>18  </td><td>2.250</td><td>0.571</td><td>name</td><td>1</td><td>0</td></tr>\n",
       "\t<tr><th scope=row>6</th><td>26</td><td>0</td><td>68</td><td>0</td><td>0.260</td><td>5     </td><td>4.310</td><td>12  </td><td>1    </td><td>0.857</td><td>name</td><td>1</td><td>0</td></tr>\n",
       "\t<tr><th scope=row>7</th><td>13</td><td>0</td><td>62</td><td>0</td><td>0.230</td><td>31    </td><td>5.430</td><td>22.5</td><td>1.875</td><td>0.857</td><td>name</td><td>1</td><td>0</td></tr>\n",
       "\t<tr><th scope=row>8</th><td>50</td><td>0</td><td>60</td><td>0</td><td>0.330</td><td>8     </td><td>5.250</td><td>14  </td><td>1    </td><td>1    </td><td>name</td><td>1</td><td>0</td></tr>\n",
       "\t<tr><th scope=row>9</th><td>19</td><td>0</td><td>46</td><td>0</td><td>0.340</td><td>0     </td><td>5.090</td><td>16  </td><td>1.140</td><td>1.003</td><td>name</td><td>1</td><td>0</td></tr>\n",
       "\t<tr><th scope=row>10</th><td>25</td><td>0</td><td>54</td><td>0</td><td>0.140</td><td>13    </td><td>4.490</td><td>15.5</td><td>1.190</td><td>0.930</td><td>name</td><td>1</td><td>0</td></tr>\n",
       "</tbody>\n",
       "</table>\n"
      ],
      "text/latex": [
       "A data.frame: 10 × 13\n",
       "\\begin{tabular}{r|lllllllllllll}\n",
       "  & survival & still\\_alive & age\\_at\\_heart\\_attack & pericardial\\_effusion & fractional\\_shortening & epss & lvdd & wall\\_motion\\_score & wall\\_motion\\_index & mult & name & group & alive-at-1\\\\\n",
       "  & <chr> & <dbl> & <chr> & <chr> & <chr> & <chr> & <chr> & <chr> & <chr> & <chr> & <chr> & <chr> & <chr>\\\\\n",
       "\\hline\n",
       "\t1 & 11 & 0 & 71 & 0 & 0.260 & 9      & 4.600 & 14   & 1     & 1     & name & 1 & 0\\\\\n",
       "\t2 & 19 & 0 & 72 & 0 & 0.380 & 6      & 4.100 & 14   & 1.700 & 0.588 & name & 1 & 0\\\\\n",
       "\t3 & 16 & 0 & 55 & 0 & 0.260 & 4      & 3.420 & 14   & 1     & 1     & name & 1 & 0\\\\\n",
       "\t4 & 57 & 0 & 60 & 0 & 0.253 & 12.062 & 4.603 & 16   & 1.450 & 0.788 & name & 1 & 0\\\\\n",
       "\t5 & 19 & 1 & 57 & 0 & 0.160 & 22     & 5.750 & 18   & 2.250 & 0.571 & name & 1 & 0\\\\\n",
       "\t6 & 26 & 0 & 68 & 0 & 0.260 & 5      & 4.310 & 12   & 1     & 0.857 & name & 1 & 0\\\\\n",
       "\t7 & 13 & 0 & 62 & 0 & 0.230 & 31     & 5.430 & 22.5 & 1.875 & 0.857 & name & 1 & 0\\\\\n",
       "\t8 & 50 & 0 & 60 & 0 & 0.330 & 8      & 5.250 & 14   & 1     & 1     & name & 1 & 0\\\\\n",
       "\t9 & 19 & 0 & 46 & 0 & 0.340 & 0      & 5.090 & 16   & 1.140 & 1.003 & name & 1 & 0\\\\\n",
       "\t10 & 25 & 0 & 54 & 0 & 0.140 & 13     & 4.490 & 15.5 & 1.190 & 0.930 & name & 1 & 0\\\\\n",
       "\\end{tabular}\n"
      ],
      "text/markdown": [
       "\n",
       "A data.frame: 10 × 13\n",
       "\n",
       "| <!--/--> | survival &lt;chr&gt; | still_alive &lt;dbl&gt; | age_at_heart_attack &lt;chr&gt; | pericardial_effusion &lt;chr&gt; | fractional_shortening &lt;chr&gt; | epss &lt;chr&gt; | lvdd &lt;chr&gt; | wall_motion_score &lt;chr&gt; | wall_motion_index &lt;chr&gt; | mult &lt;chr&gt; | name &lt;chr&gt; | group &lt;chr&gt; | alive-at-1 &lt;chr&gt; |\n",
       "|---|---|---|---|---|---|---|---|---|---|---|---|---|---|\n",
       "| 1 | 11 | 0 | 71 | 0 | 0.260 | 9      | 4.600 | 14   | 1     | 1     | name | 1 | 0 |\n",
       "| 2 | 19 | 0 | 72 | 0 | 0.380 | 6      | 4.100 | 14   | 1.700 | 0.588 | name | 1 | 0 |\n",
       "| 3 | 16 | 0 | 55 | 0 | 0.260 | 4      | 3.420 | 14   | 1     | 1     | name | 1 | 0 |\n",
       "| 4 | 57 | 0 | 60 | 0 | 0.253 | 12.062 | 4.603 | 16   | 1.450 | 0.788 | name | 1 | 0 |\n",
       "| 5 | 19 | 1 | 57 | 0 | 0.160 | 22     | 5.750 | 18   | 2.250 | 0.571 | name | 1 | 0 |\n",
       "| 6 | 26 | 0 | 68 | 0 | 0.260 | 5      | 4.310 | 12   | 1     | 0.857 | name | 1 | 0 |\n",
       "| 7 | 13 | 0 | 62 | 0 | 0.230 | 31     | 5.430 | 22.5 | 1.875 | 0.857 | name | 1 | 0 |\n",
       "| 8 | 50 | 0 | 60 | 0 | 0.330 | 8      | 5.250 | 14   | 1     | 1     | name | 1 | 0 |\n",
       "| 9 | 19 | 0 | 46 | 0 | 0.340 | 0      | 5.090 | 16   | 1.140 | 1.003 | name | 1 | 0 |\n",
       "| 10 | 25 | 0 | 54 | 0 | 0.140 | 13     | 4.490 | 15.5 | 1.190 | 0.930 | name | 1 | 0 |\n",
       "\n"
      ],
      "text/plain": [
       "   survival still_alive age_at_heart_attack pericardial_effusion\n",
       "1  11       0           71                  0                   \n",
       "2  19       0           72                  0                   \n",
       "3  16       0           55                  0                   \n",
       "4  57       0           60                  0                   \n",
       "5  19       1           57                  0                   \n",
       "6  26       0           68                  0                   \n",
       "7  13       0           62                  0                   \n",
       "8  50       0           60                  0                   \n",
       "9  19       0           46                  0                   \n",
       "10 25       0           54                  0                   \n",
       "   fractional_shortening epss   lvdd  wall_motion_score wall_motion_index mult \n",
       "1  0.260                 9      4.600 14                1                 1    \n",
       "2  0.380                 6      4.100 14                1.700             0.588\n",
       "3  0.260                 4      3.420 14                1                 1    \n",
       "4  0.253                 12.062 4.603 16                1.450             0.788\n",
       "5  0.160                 22     5.750 18                2.250             0.571\n",
       "6  0.260                 5      4.310 12                1                 0.857\n",
       "7  0.230                 31     5.430 22.5              1.875             0.857\n",
       "8  0.330                 8      5.250 14                1                 1    \n",
       "9  0.340                 0      5.090 16                1.140             1.003\n",
       "10 0.140                 13     4.490 15.5              1.190             0.930\n",
       "   name group alive-at-1\n",
       "1  name 1     0         \n",
       "2  name 1     0         \n",
       "3  name 1     0         \n",
       "4  name 1     0         \n",
       "5  name 1     0         \n",
       "6  name 1     0         \n",
       "7  name 1     0         \n",
       "8  name 1     0         \n",
       "9  name 1     0         \n",
       "10 name 1     0         "
      ]
     },
     "metadata": {},
     "output_type": "display_data"
    }
   ],
   "source": [
    "# List of names obtained of webpage\n",
    "header <- c(\"survival\", \"still_alive\", \"age_at_heart_attack\", \"pericardial_effusion\", \"fractional_shortening\", \"epss\", \"lvdd\", \"wall_motion_score\", \"wall_motion_index\", \"mult\", \"name\", \"group\", \"alive-at-1\")\n",
    "\n",
    "# Assign header a names of df\n",
    "names(df) <- header\n",
    "\n",
    "# Print first 10 rows\n",
    "head(df,10)"
   ]
  },
  {
   "attachments": {},
   "cell_type": "markdown",
   "metadata": {},
   "source": [
    "(c) According to that same information, is there any redundant or irrelevant attribute that you can remove? Remove them"
   ]
  },
  {
   "cell_type": "code",
   "execution_count": 104,
   "metadata": {
    "vscode": {
     "languageId": "r"
    }
   },
   "outputs": [
    {
     "data": {
      "text/html": [
       "<table class=\"dataframe\">\n",
       "<caption>A data.frame: 10 × 11</caption>\n",
       "<thead>\n",
       "\t<tr><th></th><th scope=col>survival</th><th scope=col>still_alive</th><th scope=col>age_at_heart_attack</th><th scope=col>pericardial_effusion</th><th scope=col>fractional_shortening</th><th scope=col>epss</th><th scope=col>lvdd</th><th scope=col>wall_motion_score</th><th scope=col>wall_motion_index</th><th scope=col>name</th><th scope=col>alive-at-1</th></tr>\n",
       "\t<tr><th></th><th scope=col>&lt;chr&gt;</th><th scope=col>&lt;dbl&gt;</th><th scope=col>&lt;chr&gt;</th><th scope=col>&lt;chr&gt;</th><th scope=col>&lt;chr&gt;</th><th scope=col>&lt;chr&gt;</th><th scope=col>&lt;chr&gt;</th><th scope=col>&lt;chr&gt;</th><th scope=col>&lt;chr&gt;</th><th scope=col>&lt;chr&gt;</th><th scope=col>&lt;chr&gt;</th></tr>\n",
       "</thead>\n",
       "<tbody>\n",
       "\t<tr><th scope=row>1</th><td>11</td><td>0</td><td>71</td><td>0</td><td>0.260</td><td>9     </td><td>4.600</td><td>14  </td><td>1    </td><td>name</td><td>0</td></tr>\n",
       "\t<tr><th scope=row>2</th><td>19</td><td>0</td><td>72</td><td>0</td><td>0.380</td><td>6     </td><td>4.100</td><td>14  </td><td>1.700</td><td>name</td><td>0</td></tr>\n",
       "\t<tr><th scope=row>3</th><td>16</td><td>0</td><td>55</td><td>0</td><td>0.260</td><td>4     </td><td>3.420</td><td>14  </td><td>1    </td><td>name</td><td>0</td></tr>\n",
       "\t<tr><th scope=row>4</th><td>57</td><td>0</td><td>60</td><td>0</td><td>0.253</td><td>12.062</td><td>4.603</td><td>16  </td><td>1.450</td><td>name</td><td>0</td></tr>\n",
       "\t<tr><th scope=row>5</th><td>19</td><td>1</td><td>57</td><td>0</td><td>0.160</td><td>22    </td><td>5.750</td><td>18  </td><td>2.250</td><td>name</td><td>0</td></tr>\n",
       "\t<tr><th scope=row>6</th><td>26</td><td>0</td><td>68</td><td>0</td><td>0.260</td><td>5     </td><td>4.310</td><td>12  </td><td>1    </td><td>name</td><td>0</td></tr>\n",
       "\t<tr><th scope=row>7</th><td>13</td><td>0</td><td>62</td><td>0</td><td>0.230</td><td>31    </td><td>5.430</td><td>22.5</td><td>1.875</td><td>name</td><td>0</td></tr>\n",
       "\t<tr><th scope=row>8</th><td>50</td><td>0</td><td>60</td><td>0</td><td>0.330</td><td>8     </td><td>5.250</td><td>14  </td><td>1    </td><td>name</td><td>0</td></tr>\n",
       "\t<tr><th scope=row>9</th><td>19</td><td>0</td><td>46</td><td>0</td><td>0.340</td><td>0     </td><td>5.090</td><td>16  </td><td>1.140</td><td>name</td><td>0</td></tr>\n",
       "\t<tr><th scope=row>10</th><td>25</td><td>0</td><td>54</td><td>0</td><td>0.140</td><td>13    </td><td>4.490</td><td>15.5</td><td>1.190</td><td>name</td><td>0</td></tr>\n",
       "</tbody>\n",
       "</table>\n"
      ],
      "text/latex": [
       "A data.frame: 10 × 11\n",
       "\\begin{tabular}{r|lllllllllll}\n",
       "  & survival & still\\_alive & age\\_at\\_heart\\_attack & pericardial\\_effusion & fractional\\_shortening & epss & lvdd & wall\\_motion\\_score & wall\\_motion\\_index & name & alive-at-1\\\\\n",
       "  & <chr> & <dbl> & <chr> & <chr> & <chr> & <chr> & <chr> & <chr> & <chr> & <chr> & <chr>\\\\\n",
       "\\hline\n",
       "\t1 & 11 & 0 & 71 & 0 & 0.260 & 9      & 4.600 & 14   & 1     & name & 0\\\\\n",
       "\t2 & 19 & 0 & 72 & 0 & 0.380 & 6      & 4.100 & 14   & 1.700 & name & 0\\\\\n",
       "\t3 & 16 & 0 & 55 & 0 & 0.260 & 4      & 3.420 & 14   & 1     & name & 0\\\\\n",
       "\t4 & 57 & 0 & 60 & 0 & 0.253 & 12.062 & 4.603 & 16   & 1.450 & name & 0\\\\\n",
       "\t5 & 19 & 1 & 57 & 0 & 0.160 & 22     & 5.750 & 18   & 2.250 & name & 0\\\\\n",
       "\t6 & 26 & 0 & 68 & 0 & 0.260 & 5      & 4.310 & 12   & 1     & name & 0\\\\\n",
       "\t7 & 13 & 0 & 62 & 0 & 0.230 & 31     & 5.430 & 22.5 & 1.875 & name & 0\\\\\n",
       "\t8 & 50 & 0 & 60 & 0 & 0.330 & 8      & 5.250 & 14   & 1     & name & 0\\\\\n",
       "\t9 & 19 & 0 & 46 & 0 & 0.340 & 0      & 5.090 & 16   & 1.140 & name & 0\\\\\n",
       "\t10 & 25 & 0 & 54 & 0 & 0.140 & 13     & 4.490 & 15.5 & 1.190 & name & 0\\\\\n",
       "\\end{tabular}\n"
      ],
      "text/markdown": [
       "\n",
       "A data.frame: 10 × 11\n",
       "\n",
       "| <!--/--> | survival &lt;chr&gt; | still_alive &lt;dbl&gt; | age_at_heart_attack &lt;chr&gt; | pericardial_effusion &lt;chr&gt; | fractional_shortening &lt;chr&gt; | epss &lt;chr&gt; | lvdd &lt;chr&gt; | wall_motion_score &lt;chr&gt; | wall_motion_index &lt;chr&gt; | name &lt;chr&gt; | alive-at-1 &lt;chr&gt; |\n",
       "|---|---|---|---|---|---|---|---|---|---|---|---|\n",
       "| 1 | 11 | 0 | 71 | 0 | 0.260 | 9      | 4.600 | 14   | 1     | name | 0 |\n",
       "| 2 | 19 | 0 | 72 | 0 | 0.380 | 6      | 4.100 | 14   | 1.700 | name | 0 |\n",
       "| 3 | 16 | 0 | 55 | 0 | 0.260 | 4      | 3.420 | 14   | 1     | name | 0 |\n",
       "| 4 | 57 | 0 | 60 | 0 | 0.253 | 12.062 | 4.603 | 16   | 1.450 | name | 0 |\n",
       "| 5 | 19 | 1 | 57 | 0 | 0.160 | 22     | 5.750 | 18   | 2.250 | name | 0 |\n",
       "| 6 | 26 | 0 | 68 | 0 | 0.260 | 5      | 4.310 | 12   | 1     | name | 0 |\n",
       "| 7 | 13 | 0 | 62 | 0 | 0.230 | 31     | 5.430 | 22.5 | 1.875 | name | 0 |\n",
       "| 8 | 50 | 0 | 60 | 0 | 0.330 | 8      | 5.250 | 14   | 1     | name | 0 |\n",
       "| 9 | 19 | 0 | 46 | 0 | 0.340 | 0      | 5.090 | 16   | 1.140 | name | 0 |\n",
       "| 10 | 25 | 0 | 54 | 0 | 0.140 | 13     | 4.490 | 15.5 | 1.190 | name | 0 |\n",
       "\n"
      ],
      "text/plain": [
       "   survival still_alive age_at_heart_attack pericardial_effusion\n",
       "1  11       0           71                  0                   \n",
       "2  19       0           72                  0                   \n",
       "3  16       0           55                  0                   \n",
       "4  57       0           60                  0                   \n",
       "5  19       1           57                  0                   \n",
       "6  26       0           68                  0                   \n",
       "7  13       0           62                  0                   \n",
       "8  50       0           60                  0                   \n",
       "9  19       0           46                  0                   \n",
       "10 25       0           54                  0                   \n",
       "   fractional_shortening epss   lvdd  wall_motion_score wall_motion_index name\n",
       "1  0.260                 9      4.600 14                1                 name\n",
       "2  0.380                 6      4.100 14                1.700             name\n",
       "3  0.260                 4      3.420 14                1                 name\n",
       "4  0.253                 12.062 4.603 16                1.450             name\n",
       "5  0.160                 22     5.750 18                2.250             name\n",
       "6  0.260                 5      4.310 12                1                 name\n",
       "7  0.230                 31     5.430 22.5              1.875             name\n",
       "8  0.330                 8      5.250 14                1                 name\n",
       "9  0.340                 0      5.090 16                1.140             name\n",
       "10 0.140                 13     4.490 15.5              1.190             name\n",
       "   alive-at-1\n",
       "1  0         \n",
       "2  0         \n",
       "3  0         \n",
       "4  0         \n",
       "5  0         \n",
       "6  0         \n",
       "7  0         \n",
       "8  0         \n",
       "9  0         \n",
       "10 0         "
      ]
     },
     "metadata": {},
     "output_type": "display_data"
    }
   ],
   "source": [
    "# According to information, the mult and group attributes were removed\n",
    "df2 <- df[,!names(df) %in% c(\"mult\", \"group\")]\n",
    "\n",
    "head(df2, 10)"
   ]
  },
  {
   "attachments": {},
   "cell_type": "markdown",
   "metadata": {},
   "source": [
    "(d) Is there any data type change that you find useful? Perform it"
   ]
  },
  {
   "cell_type": "code",
   "execution_count": 106,
   "metadata": {
    "vscode": {
     "languageId": "r"
    }
   },
   "outputs": [
    {
     "data": {
      "text/html": [
       "<table class=\"dataframe\">\n",
       "<caption>A data.frame: 10 × 13</caption>\n",
       "<thead>\n",
       "\t<tr><th></th><th scope=col>survival</th><th scope=col>still_alive</th><th scope=col>age_at_heart_attack</th><th scope=col>pericardial_effusion</th><th scope=col>fractional_shortening</th><th scope=col>epss</th><th scope=col>lvdd</th><th scope=col>wall_motion_score</th><th scope=col>wall_motion_index</th><th scope=col>mult</th><th scope=col>name</th><th scope=col>group</th><th scope=col>alive-at-1</th></tr>\n",
       "\t<tr><th></th><th scope=col>&lt;chr&gt;</th><th scope=col>&lt;dbl&gt;</th><th scope=col>&lt;chr&gt;</th><th scope=col>&lt;chr&gt;</th><th scope=col>&lt;dbl&gt;</th><th scope=col>&lt;chr&gt;</th><th scope=col>&lt;chr&gt;</th><th scope=col>&lt;chr&gt;</th><th scope=col>&lt;chr&gt;</th><th scope=col>&lt;chr&gt;</th><th scope=col>&lt;chr&gt;</th><th scope=col>&lt;chr&gt;</th><th scope=col>&lt;chr&gt;</th></tr>\n",
       "</thead>\n",
       "<tbody>\n",
       "\t<tr><th scope=row>1</th><td>11</td><td>0</td><td>71</td><td>0</td><td>0.260</td><td>9     </td><td>4.600</td><td>14  </td><td>1    </td><td>1    </td><td>name</td><td>1</td><td>0</td></tr>\n",
       "\t<tr><th scope=row>2</th><td>19</td><td>0</td><td>72</td><td>0</td><td>0.380</td><td>6     </td><td>4.100</td><td>14  </td><td>1.700</td><td>0.588</td><td>name</td><td>1</td><td>0</td></tr>\n",
       "\t<tr><th scope=row>3</th><td>16</td><td>0</td><td>55</td><td>0</td><td>0.260</td><td>4     </td><td>3.420</td><td>14  </td><td>1    </td><td>1    </td><td>name</td><td>1</td><td>0</td></tr>\n",
       "\t<tr><th scope=row>4</th><td>57</td><td>0</td><td>60</td><td>0</td><td>0.253</td><td>12.062</td><td>4.603</td><td>16  </td><td>1.450</td><td>0.788</td><td>name</td><td>1</td><td>0</td></tr>\n",
       "\t<tr><th scope=row>5</th><td>19</td><td>1</td><td>57</td><td>0</td><td>0.160</td><td>22    </td><td>5.750</td><td>18  </td><td>2.250</td><td>0.571</td><td>name</td><td>1</td><td>0</td></tr>\n",
       "\t<tr><th scope=row>6</th><td>26</td><td>0</td><td>68</td><td>0</td><td>0.260</td><td>5     </td><td>4.310</td><td>12  </td><td>1    </td><td>0.857</td><td>name</td><td>1</td><td>0</td></tr>\n",
       "\t<tr><th scope=row>7</th><td>13</td><td>0</td><td>62</td><td>0</td><td>0.230</td><td>31    </td><td>5.430</td><td>22.5</td><td>1.875</td><td>0.857</td><td>name</td><td>1</td><td>0</td></tr>\n",
       "\t<tr><th scope=row>8</th><td>50</td><td>0</td><td>60</td><td>0</td><td>0.330</td><td>8     </td><td>5.250</td><td>14  </td><td>1    </td><td>1    </td><td>name</td><td>1</td><td>0</td></tr>\n",
       "\t<tr><th scope=row>9</th><td>19</td><td>0</td><td>46</td><td>0</td><td>0.340</td><td>0     </td><td>5.090</td><td>16  </td><td>1.140</td><td>1.003</td><td>name</td><td>1</td><td>0</td></tr>\n",
       "\t<tr><th scope=row>10</th><td>25</td><td>0</td><td>54</td><td>0</td><td>0.140</td><td>13    </td><td>4.490</td><td>15.5</td><td>1.190</td><td>0.930</td><td>name</td><td>1</td><td>0</td></tr>\n",
       "</tbody>\n",
       "</table>\n"
      ],
      "text/latex": [
       "A data.frame: 10 × 13\n",
       "\\begin{tabular}{r|lllllllllllll}\n",
       "  & survival & still\\_alive & age\\_at\\_heart\\_attack & pericardial\\_effusion & fractional\\_shortening & epss & lvdd & wall\\_motion\\_score & wall\\_motion\\_index & mult & name & group & alive-at-1\\\\\n",
       "  & <chr> & <dbl> & <chr> & <chr> & <dbl> & <chr> & <chr> & <chr> & <chr> & <chr> & <chr> & <chr> & <chr>\\\\\n",
       "\\hline\n",
       "\t1 & 11 & 0 & 71 & 0 & 0.260 & 9      & 4.600 & 14   & 1     & 1     & name & 1 & 0\\\\\n",
       "\t2 & 19 & 0 & 72 & 0 & 0.380 & 6      & 4.100 & 14   & 1.700 & 0.588 & name & 1 & 0\\\\\n",
       "\t3 & 16 & 0 & 55 & 0 & 0.260 & 4      & 3.420 & 14   & 1     & 1     & name & 1 & 0\\\\\n",
       "\t4 & 57 & 0 & 60 & 0 & 0.253 & 12.062 & 4.603 & 16   & 1.450 & 0.788 & name & 1 & 0\\\\\n",
       "\t5 & 19 & 1 & 57 & 0 & 0.160 & 22     & 5.750 & 18   & 2.250 & 0.571 & name & 1 & 0\\\\\n",
       "\t6 & 26 & 0 & 68 & 0 & 0.260 & 5      & 4.310 & 12   & 1     & 0.857 & name & 1 & 0\\\\\n",
       "\t7 & 13 & 0 & 62 & 0 & 0.230 & 31     & 5.430 & 22.5 & 1.875 & 0.857 & name & 1 & 0\\\\\n",
       "\t8 & 50 & 0 & 60 & 0 & 0.330 & 8      & 5.250 & 14   & 1     & 1     & name & 1 & 0\\\\\n",
       "\t9 & 19 & 0 & 46 & 0 & 0.340 & 0      & 5.090 & 16   & 1.140 & 1.003 & name & 1 & 0\\\\\n",
       "\t10 & 25 & 0 & 54 & 0 & 0.140 & 13     & 4.490 & 15.5 & 1.190 & 0.930 & name & 1 & 0\\\\\n",
       "\\end{tabular}\n"
      ],
      "text/markdown": [
       "\n",
       "A data.frame: 10 × 13\n",
       "\n",
       "| <!--/--> | survival &lt;chr&gt; | still_alive &lt;dbl&gt; | age_at_heart_attack &lt;chr&gt; | pericardial_effusion &lt;chr&gt; | fractional_shortening &lt;dbl&gt; | epss &lt;chr&gt; | lvdd &lt;chr&gt; | wall_motion_score &lt;chr&gt; | wall_motion_index &lt;chr&gt; | mult &lt;chr&gt; | name &lt;chr&gt; | group &lt;chr&gt; | alive-at-1 &lt;chr&gt; |\n",
       "|---|---|---|---|---|---|---|---|---|---|---|---|---|---|\n",
       "| 1 | 11 | 0 | 71 | 0 | 0.260 | 9      | 4.600 | 14   | 1     | 1     | name | 1 | 0 |\n",
       "| 2 | 19 | 0 | 72 | 0 | 0.380 | 6      | 4.100 | 14   | 1.700 | 0.588 | name | 1 | 0 |\n",
       "| 3 | 16 | 0 | 55 | 0 | 0.260 | 4      | 3.420 | 14   | 1     | 1     | name | 1 | 0 |\n",
       "| 4 | 57 | 0 | 60 | 0 | 0.253 | 12.062 | 4.603 | 16   | 1.450 | 0.788 | name | 1 | 0 |\n",
       "| 5 | 19 | 1 | 57 | 0 | 0.160 | 22     | 5.750 | 18   | 2.250 | 0.571 | name | 1 | 0 |\n",
       "| 6 | 26 | 0 | 68 | 0 | 0.260 | 5      | 4.310 | 12   | 1     | 0.857 | name | 1 | 0 |\n",
       "| 7 | 13 | 0 | 62 | 0 | 0.230 | 31     | 5.430 | 22.5 | 1.875 | 0.857 | name | 1 | 0 |\n",
       "| 8 | 50 | 0 | 60 | 0 | 0.330 | 8      | 5.250 | 14   | 1     | 1     | name | 1 | 0 |\n",
       "| 9 | 19 | 0 | 46 | 0 | 0.340 | 0      | 5.090 | 16   | 1.140 | 1.003 | name | 1 | 0 |\n",
       "| 10 | 25 | 0 | 54 | 0 | 0.140 | 13     | 4.490 | 15.5 | 1.190 | 0.930 | name | 1 | 0 |\n",
       "\n"
      ],
      "text/plain": [
       "   survival still_alive age_at_heart_attack pericardial_effusion\n",
       "1  11       0           71                  0                   \n",
       "2  19       0           72                  0                   \n",
       "3  16       0           55                  0                   \n",
       "4  57       0           60                  0                   \n",
       "5  19       1           57                  0                   \n",
       "6  26       0           68                  0                   \n",
       "7  13       0           62                  0                   \n",
       "8  50       0           60                  0                   \n",
       "9  19       0           46                  0                   \n",
       "10 25       0           54                  0                   \n",
       "   fractional_shortening epss   lvdd  wall_motion_score wall_motion_index mult \n",
       "1  0.260                 9      4.600 14                1                 1    \n",
       "2  0.380                 6      4.100 14                1.700             0.588\n",
       "3  0.260                 4      3.420 14                1                 1    \n",
       "4  0.253                 12.062 4.603 16                1.450             0.788\n",
       "5  0.160                 22     5.750 18                2.250             0.571\n",
       "6  0.260                 5      4.310 12                1                 0.857\n",
       "7  0.230                 31     5.430 22.5              1.875             0.857\n",
       "8  0.330                 8      5.250 14                1                 1    \n",
       "9  0.340                 0      5.090 16                1.140             1.003\n",
       "10 0.140                 13     4.490 15.5              1.190             0.930\n",
       "   name group alive-at-1\n",
       "1  name 1     0         \n",
       "2  name 1     0         \n",
       "3  name 1     0         \n",
       "4  name 1     0         \n",
       "5  name 1     0         \n",
       "6  name 1     0         \n",
       "7  name 1     0         \n",
       "8  name 1     0         \n",
       "9  name 1     0         \n",
       "10 name 1     0         "
      ]
     },
     "metadata": {},
     "output_type": "display_data"
    }
   ],
   "source": [
    "# The still_alive and fractional_shortening attributes were changed data type\n",
    "df$still_alive = as.numeric(as.character(df$still_alive))\n",
    "df$fractional_shortening = as.numeric(as.character(df$fractional_shortening))\n",
    "\n",
    "head(df,10)"
   ]
  },
  {
   "attachments": {},
   "cell_type": "markdown",
   "metadata": {},
   "source": [
    "## 4. Data Manipulation\n",
    "\n",
    "Load the airquality data set regarding a set of New York Air Quality Measurements.\n",
    "\n",
    "(n) For which attributes are there missing values?"
   ]
  },
  {
   "cell_type": "code",
   "execution_count": 120,
   "metadata": {
    "vscode": {
     "languageId": "r"
    }
   },
   "outputs": [
    {
     "name": "stdout",
     "output_type": "stream",
     "text": [
      "[1] \"Data summary\"\n"
     ]
    },
    {
     "data": {
      "text/plain": [
       "     Ozone           Solar.R           Wind             Temp      \n",
       " Min.   :  1.00   Min.   :  7.0   Min.   : 1.700   Min.   :56.00  \n",
       " 1st Qu.: 18.00   1st Qu.:115.8   1st Qu.: 7.400   1st Qu.:72.00  \n",
       " Median : 31.50   Median :205.0   Median : 9.700   Median :79.00  \n",
       " Mean   : 42.13   Mean   :185.9   Mean   : 9.958   Mean   :77.88  \n",
       " 3rd Qu.: 63.25   3rd Qu.:258.8   3rd Qu.:11.500   3rd Qu.:85.00  \n",
       " Max.   :168.00   Max.   :334.0   Max.   :20.700   Max.   :97.00  \n",
       " NA's   :37       NA's   :7                                       "
      ]
     },
     "metadata": {},
     "output_type": "display_data"
    },
    {
     "name": "stdout",
     "output_type": "stream",
     "text": [
      "[1] \"Variables which contains missing values\"\n"
     ]
    },
    {
     "data": {
      "text/html": [
       "<style>\n",
       ".list-inline {list-style: none; margin:0; padding: 0}\n",
       ".list-inline>li {display: inline-block}\n",
       ".list-inline>li:not(:last-child)::after {content: \"\\00b7\"; padding: 0 .5ex}\n",
       "</style>\n",
       "<ol class=list-inline><li>'Ozone'</li><li>'Solar.R'</li></ol>\n"
      ],
      "text/latex": [
       "\\begin{enumerate*}\n",
       "\\item 'Ozone'\n",
       "\\item 'Solar.R'\n",
       "\\end{enumerate*}\n"
      ],
      "text/markdown": [
       "1. 'Ozone'\n",
       "2. 'Solar.R'\n",
       "\n",
       "\n"
      ],
      "text/plain": [
       "[1] \"Ozone\"   \"Solar.R\""
      ]
     },
     "metadata": {},
     "output_type": "display_data"
    }
   ],
   "source": [
    "airquality <- read.csv('../data/01_datamanip/airquality.csv')\n",
    "\n",
    "print(\"Data summary\")\n",
    "summary(airquality[-c(5,6)])\n",
    "\n",
    "print(\"Variables which contains missing values\")\n",
    "colnames(airquality)[colSums(is.na(airquality)) > 0]"
   ]
  },
  {
   "attachments": {},
   "cell_type": "markdown",
   "metadata": {},
   "source": [
    "(o) Do all the attributes are in the most suitable data type? Make the changes you find necessary."
   ]
  },
  {
   "cell_type": "code",
   "execution_count": 2,
   "metadata": {
    "vscode": {
     "languageId": "r"
    }
   },
   "outputs": [
    {
     "name": "stdout",
     "output_type": "stream",
     "text": [
      "'data.frame':\t153 obs. of  6 variables:\n",
      " $ Ozone  : int  41 36 12 18 NA 28 23 19 8 NA ...\n",
      " $ Solar.R: int  190 118 149 313 NA NA 299 99 19 194 ...\n",
      " $ Wind   : num  7.4 8 12.6 11.5 14.3 14.9 8.6 13.8 20.1 8.6 ...\n",
      " $ Temp   : int  67 72 74 62 56 66 65 59 61 69 ...\n",
      " $ Month  : int  5 5 5 5 5 5 5 5 5 5 ...\n",
      " $ Day    : int  1 2 3 4 5 6 7 8 9 10 ...\n"
     ]
    }
   ],
   "source": [
    "# Print data types\n",
    "# No necessary changes\n",
    "str(airquality)"
   ]
  },
  {
   "attachments": {},
   "cell_type": "markdown",
   "metadata": {},
   "source": [
    "(p) What period of the year do these records refer to?"
   ]
  },
  {
   "attachments": {},
   "cell_type": "markdown",
   "metadata": {},
   "source": [
    "Because of the temperature it is summer"
   ]
  },
  {
   "attachments": {},
   "cell_type": "markdown",
   "metadata": {},
   "source": [
    "(q) Load the package dplyr and save the data set in a table data frame format."
   ]
  },
  {
   "cell_type": "code",
   "execution_count": 118,
   "metadata": {
    "vscode": {
     "languageId": "r"
    }
   },
   "outputs": [
    {
     "name": "stderr",
     "output_type": "stream",
     "text": [
      "Warning message:\n",
      "\"package 'dplyr' is in use and will not be installed\"\n"
     ]
    },
    {
     "data": {
      "text/html": [
       "<table class=\"dataframe\">\n",
       "<caption>A data.frame: 153 × 7</caption>\n",
       "<thead>\n",
       "\t<tr><th scope=col>Ozone</th><th scope=col>Solar.R</th><th scope=col>Wind</th><th scope=col>Temp</th><th scope=col>Month</th><th scope=col>Day</th><th scope=col>TempC</th></tr>\n",
       "\t<tr><th scope=col>&lt;int&gt;</th><th scope=col>&lt;int&gt;</th><th scope=col>&lt;dbl&gt;</th><th scope=col>&lt;int&gt;</th><th scope=col>&lt;int&gt;</th><th scope=col>&lt;int&gt;</th><th scope=col>&lt;dbl&gt;</th></tr>\n",
       "</thead>\n",
       "<tbody>\n",
       "\t<tr><td> 41</td><td>190</td><td> 7.4</td><td>67</td><td>5</td><td> 1</td><td>19.44444</td></tr>\n",
       "\t<tr><td> 36</td><td>118</td><td> 8.0</td><td>72</td><td>5</td><td> 2</td><td>22.22222</td></tr>\n",
       "\t<tr><td> 12</td><td>149</td><td>12.6</td><td>74</td><td>5</td><td> 3</td><td>23.33333</td></tr>\n",
       "\t<tr><td> 18</td><td>313</td><td>11.5</td><td>62</td><td>5</td><td> 4</td><td>16.66667</td></tr>\n",
       "\t<tr><td> NA</td><td> NA</td><td>14.3</td><td>56</td><td>5</td><td> 5</td><td>13.33333</td></tr>\n",
       "\t<tr><td> 28</td><td> NA</td><td>14.9</td><td>66</td><td>5</td><td> 6</td><td>18.88889</td></tr>\n",
       "\t<tr><td> 23</td><td>299</td><td> 8.6</td><td>65</td><td>5</td><td> 7</td><td>18.33333</td></tr>\n",
       "\t<tr><td> 19</td><td> 99</td><td>13.8</td><td>59</td><td>5</td><td> 8</td><td>15.00000</td></tr>\n",
       "\t<tr><td>  8</td><td> 19</td><td>20.1</td><td>61</td><td>5</td><td> 9</td><td>16.11111</td></tr>\n",
       "\t<tr><td> NA</td><td>194</td><td> 8.6</td><td>69</td><td>5</td><td>10</td><td>20.55556</td></tr>\n",
       "\t<tr><td>  7</td><td> NA</td><td> 6.9</td><td>74</td><td>5</td><td>11</td><td>23.33333</td></tr>\n",
       "\t<tr><td> 16</td><td>256</td><td> 9.7</td><td>69</td><td>5</td><td>12</td><td>20.55556</td></tr>\n",
       "\t<tr><td> 11</td><td>290</td><td> 9.2</td><td>66</td><td>5</td><td>13</td><td>18.88889</td></tr>\n",
       "\t<tr><td> 14</td><td>274</td><td>10.9</td><td>68</td><td>5</td><td>14</td><td>20.00000</td></tr>\n",
       "\t<tr><td> 18</td><td> 65</td><td>13.2</td><td>58</td><td>5</td><td>15</td><td>14.44444</td></tr>\n",
       "\t<tr><td> 14</td><td>334</td><td>11.5</td><td>64</td><td>5</td><td>16</td><td>17.77778</td></tr>\n",
       "\t<tr><td> 34</td><td>307</td><td>12.0</td><td>66</td><td>5</td><td>17</td><td>18.88889</td></tr>\n",
       "\t<tr><td>  6</td><td> 78</td><td>18.4</td><td>57</td><td>5</td><td>18</td><td>13.88889</td></tr>\n",
       "\t<tr><td> 30</td><td>322</td><td>11.5</td><td>68</td><td>5</td><td>19</td><td>20.00000</td></tr>\n",
       "\t<tr><td> 11</td><td> 44</td><td> 9.7</td><td>62</td><td>5</td><td>20</td><td>16.66667</td></tr>\n",
       "\t<tr><td>  1</td><td>  8</td><td> 9.7</td><td>59</td><td>5</td><td>21</td><td>15.00000</td></tr>\n",
       "\t<tr><td> 11</td><td>320</td><td>16.6</td><td>73</td><td>5</td><td>22</td><td>22.77778</td></tr>\n",
       "\t<tr><td>  4</td><td> 25</td><td> 9.7</td><td>61</td><td>5</td><td>23</td><td>16.11111</td></tr>\n",
       "\t<tr><td> 32</td><td> 92</td><td>12.0</td><td>61</td><td>5</td><td>24</td><td>16.11111</td></tr>\n",
       "\t<tr><td> NA</td><td> 66</td><td>16.6</td><td>57</td><td>5</td><td>25</td><td>13.88889</td></tr>\n",
       "\t<tr><td> NA</td><td>266</td><td>14.9</td><td>58</td><td>5</td><td>26</td><td>14.44444</td></tr>\n",
       "\t<tr><td> NA</td><td> NA</td><td> 8.0</td><td>57</td><td>5</td><td>27</td><td>13.88889</td></tr>\n",
       "\t<tr><td> 23</td><td> 13</td><td>12.0</td><td>67</td><td>5</td><td>28</td><td>19.44444</td></tr>\n",
       "\t<tr><td> 45</td><td>252</td><td>14.9</td><td>81</td><td>5</td><td>29</td><td>27.22222</td></tr>\n",
       "\t<tr><td>115</td><td>223</td><td> 5.7</td><td>79</td><td>5</td><td>30</td><td>26.11111</td></tr>\n",
       "\t<tr><td>⋮</td><td>⋮</td><td>⋮</td><td>⋮</td><td>⋮</td><td>⋮</td><td>⋮</td></tr>\n",
       "\t<tr><td>96</td><td>167</td><td> 6.9</td><td>91</td><td>9</td><td> 1</td><td>32.77778</td></tr>\n",
       "\t<tr><td>78</td><td>197</td><td> 5.1</td><td>92</td><td>9</td><td> 2</td><td>33.33333</td></tr>\n",
       "\t<tr><td>73</td><td>183</td><td> 2.8</td><td>93</td><td>9</td><td> 3</td><td>33.88889</td></tr>\n",
       "\t<tr><td>91</td><td>189</td><td> 4.6</td><td>93</td><td>9</td><td> 4</td><td>33.88889</td></tr>\n",
       "\t<tr><td>47</td><td> 95</td><td> 7.4</td><td>87</td><td>9</td><td> 5</td><td>30.55556</td></tr>\n",
       "\t<tr><td>32</td><td> 92</td><td>15.5</td><td>84</td><td>9</td><td> 6</td><td>28.88889</td></tr>\n",
       "\t<tr><td>20</td><td>252</td><td>10.9</td><td>80</td><td>9</td><td> 7</td><td>26.66667</td></tr>\n",
       "\t<tr><td>23</td><td>220</td><td>10.3</td><td>78</td><td>9</td><td> 8</td><td>25.55556</td></tr>\n",
       "\t<tr><td>21</td><td>230</td><td>10.9</td><td>75</td><td>9</td><td> 9</td><td>23.88889</td></tr>\n",
       "\t<tr><td>24</td><td>259</td><td> 9.7</td><td>73</td><td>9</td><td>10</td><td>22.77778</td></tr>\n",
       "\t<tr><td>44</td><td>236</td><td>14.9</td><td>81</td><td>9</td><td>11</td><td>27.22222</td></tr>\n",
       "\t<tr><td>21</td><td>259</td><td>15.5</td><td>76</td><td>9</td><td>12</td><td>24.44444</td></tr>\n",
       "\t<tr><td>28</td><td>238</td><td> 6.3</td><td>77</td><td>9</td><td>13</td><td>25.00000</td></tr>\n",
       "\t<tr><td> 9</td><td> 24</td><td>10.9</td><td>71</td><td>9</td><td>14</td><td>21.66667</td></tr>\n",
       "\t<tr><td>13</td><td>112</td><td>11.5</td><td>71</td><td>9</td><td>15</td><td>21.66667</td></tr>\n",
       "\t<tr><td>46</td><td>237</td><td> 6.9</td><td>78</td><td>9</td><td>16</td><td>25.55556</td></tr>\n",
       "\t<tr><td>18</td><td>224</td><td>13.8</td><td>67</td><td>9</td><td>17</td><td>19.44444</td></tr>\n",
       "\t<tr><td>13</td><td> 27</td><td>10.3</td><td>76</td><td>9</td><td>18</td><td>24.44444</td></tr>\n",
       "\t<tr><td>24</td><td>238</td><td>10.3</td><td>68</td><td>9</td><td>19</td><td>20.00000</td></tr>\n",
       "\t<tr><td>16</td><td>201</td><td> 8.0</td><td>82</td><td>9</td><td>20</td><td>27.77778</td></tr>\n",
       "\t<tr><td>13</td><td>238</td><td>12.6</td><td>64</td><td>9</td><td>21</td><td>17.77778</td></tr>\n",
       "\t<tr><td>23</td><td> 14</td><td> 9.2</td><td>71</td><td>9</td><td>22</td><td>21.66667</td></tr>\n",
       "\t<tr><td>36</td><td>139</td><td>10.3</td><td>81</td><td>9</td><td>23</td><td>27.22222</td></tr>\n",
       "\t<tr><td> 7</td><td> 49</td><td>10.3</td><td>69</td><td>9</td><td>24</td><td>20.55556</td></tr>\n",
       "\t<tr><td>14</td><td> 20</td><td>16.6</td><td>63</td><td>9</td><td>25</td><td>17.22222</td></tr>\n",
       "\t<tr><td>30</td><td>193</td><td> 6.9</td><td>70</td><td>9</td><td>26</td><td>21.11111</td></tr>\n",
       "\t<tr><td>NA</td><td>145</td><td>13.2</td><td>77</td><td>9</td><td>27</td><td>25.00000</td></tr>\n",
       "\t<tr><td>14</td><td>191</td><td>14.3</td><td>75</td><td>9</td><td>28</td><td>23.88889</td></tr>\n",
       "\t<tr><td>18</td><td>131</td><td> 8.0</td><td>76</td><td>9</td><td>29</td><td>24.44444</td></tr>\n",
       "\t<tr><td>20</td><td>223</td><td>11.5</td><td>68</td><td>9</td><td>30</td><td>20.00000</td></tr>\n",
       "</tbody>\n",
       "</table>\n"
      ],
      "text/latex": [
       "A data.frame: 153 × 7\n",
       "\\begin{tabular}{lllllll}\n",
       " Ozone & Solar.R & Wind & Temp & Month & Day & TempC\\\\\n",
       " <int> & <int> & <dbl> & <int> & <int> & <int> & <dbl>\\\\\n",
       "\\hline\n",
       "\t  41 & 190 &  7.4 & 67 & 5 &  1 & 19.44444\\\\\n",
       "\t  36 & 118 &  8.0 & 72 & 5 &  2 & 22.22222\\\\\n",
       "\t  12 & 149 & 12.6 & 74 & 5 &  3 & 23.33333\\\\\n",
       "\t  18 & 313 & 11.5 & 62 & 5 &  4 & 16.66667\\\\\n",
       "\t  NA &  NA & 14.3 & 56 & 5 &  5 & 13.33333\\\\\n",
       "\t  28 &  NA & 14.9 & 66 & 5 &  6 & 18.88889\\\\\n",
       "\t  23 & 299 &  8.6 & 65 & 5 &  7 & 18.33333\\\\\n",
       "\t  19 &  99 & 13.8 & 59 & 5 &  8 & 15.00000\\\\\n",
       "\t   8 &  19 & 20.1 & 61 & 5 &  9 & 16.11111\\\\\n",
       "\t  NA & 194 &  8.6 & 69 & 5 & 10 & 20.55556\\\\\n",
       "\t   7 &  NA &  6.9 & 74 & 5 & 11 & 23.33333\\\\\n",
       "\t  16 & 256 &  9.7 & 69 & 5 & 12 & 20.55556\\\\\n",
       "\t  11 & 290 &  9.2 & 66 & 5 & 13 & 18.88889\\\\\n",
       "\t  14 & 274 & 10.9 & 68 & 5 & 14 & 20.00000\\\\\n",
       "\t  18 &  65 & 13.2 & 58 & 5 & 15 & 14.44444\\\\\n",
       "\t  14 & 334 & 11.5 & 64 & 5 & 16 & 17.77778\\\\\n",
       "\t  34 & 307 & 12.0 & 66 & 5 & 17 & 18.88889\\\\\n",
       "\t   6 &  78 & 18.4 & 57 & 5 & 18 & 13.88889\\\\\n",
       "\t  30 & 322 & 11.5 & 68 & 5 & 19 & 20.00000\\\\\n",
       "\t  11 &  44 &  9.7 & 62 & 5 & 20 & 16.66667\\\\\n",
       "\t   1 &   8 &  9.7 & 59 & 5 & 21 & 15.00000\\\\\n",
       "\t  11 & 320 & 16.6 & 73 & 5 & 22 & 22.77778\\\\\n",
       "\t   4 &  25 &  9.7 & 61 & 5 & 23 & 16.11111\\\\\n",
       "\t  32 &  92 & 12.0 & 61 & 5 & 24 & 16.11111\\\\\n",
       "\t  NA &  66 & 16.6 & 57 & 5 & 25 & 13.88889\\\\\n",
       "\t  NA & 266 & 14.9 & 58 & 5 & 26 & 14.44444\\\\\n",
       "\t  NA &  NA &  8.0 & 57 & 5 & 27 & 13.88889\\\\\n",
       "\t  23 &  13 & 12.0 & 67 & 5 & 28 & 19.44444\\\\\n",
       "\t  45 & 252 & 14.9 & 81 & 5 & 29 & 27.22222\\\\\n",
       "\t 115 & 223 &  5.7 & 79 & 5 & 30 & 26.11111\\\\\n",
       "\t ⋮ & ⋮ & ⋮ & ⋮ & ⋮ & ⋮ & ⋮\\\\\n",
       "\t 96 & 167 &  6.9 & 91 & 9 &  1 & 32.77778\\\\\n",
       "\t 78 & 197 &  5.1 & 92 & 9 &  2 & 33.33333\\\\\n",
       "\t 73 & 183 &  2.8 & 93 & 9 &  3 & 33.88889\\\\\n",
       "\t 91 & 189 &  4.6 & 93 & 9 &  4 & 33.88889\\\\\n",
       "\t 47 &  95 &  7.4 & 87 & 9 &  5 & 30.55556\\\\\n",
       "\t 32 &  92 & 15.5 & 84 & 9 &  6 & 28.88889\\\\\n",
       "\t 20 & 252 & 10.9 & 80 & 9 &  7 & 26.66667\\\\\n",
       "\t 23 & 220 & 10.3 & 78 & 9 &  8 & 25.55556\\\\\n",
       "\t 21 & 230 & 10.9 & 75 & 9 &  9 & 23.88889\\\\\n",
       "\t 24 & 259 &  9.7 & 73 & 9 & 10 & 22.77778\\\\\n",
       "\t 44 & 236 & 14.9 & 81 & 9 & 11 & 27.22222\\\\\n",
       "\t 21 & 259 & 15.5 & 76 & 9 & 12 & 24.44444\\\\\n",
       "\t 28 & 238 &  6.3 & 77 & 9 & 13 & 25.00000\\\\\n",
       "\t  9 &  24 & 10.9 & 71 & 9 & 14 & 21.66667\\\\\n",
       "\t 13 & 112 & 11.5 & 71 & 9 & 15 & 21.66667\\\\\n",
       "\t 46 & 237 &  6.9 & 78 & 9 & 16 & 25.55556\\\\\n",
       "\t 18 & 224 & 13.8 & 67 & 9 & 17 & 19.44444\\\\\n",
       "\t 13 &  27 & 10.3 & 76 & 9 & 18 & 24.44444\\\\\n",
       "\t 24 & 238 & 10.3 & 68 & 9 & 19 & 20.00000\\\\\n",
       "\t 16 & 201 &  8.0 & 82 & 9 & 20 & 27.77778\\\\\n",
       "\t 13 & 238 & 12.6 & 64 & 9 & 21 & 17.77778\\\\\n",
       "\t 23 &  14 &  9.2 & 71 & 9 & 22 & 21.66667\\\\\n",
       "\t 36 & 139 & 10.3 & 81 & 9 & 23 & 27.22222\\\\\n",
       "\t  7 &  49 & 10.3 & 69 & 9 & 24 & 20.55556\\\\\n",
       "\t 14 &  20 & 16.6 & 63 & 9 & 25 & 17.22222\\\\\n",
       "\t 30 & 193 &  6.9 & 70 & 9 & 26 & 21.11111\\\\\n",
       "\t NA & 145 & 13.2 & 77 & 9 & 27 & 25.00000\\\\\n",
       "\t 14 & 191 & 14.3 & 75 & 9 & 28 & 23.88889\\\\\n",
       "\t 18 & 131 &  8.0 & 76 & 9 & 29 & 24.44444\\\\\n",
       "\t 20 & 223 & 11.5 & 68 & 9 & 30 & 20.00000\\\\\n",
       "\\end{tabular}\n"
      ],
      "text/markdown": [
       "\n",
       "A data.frame: 153 × 7\n",
       "\n",
       "| Ozone &lt;int&gt; | Solar.R &lt;int&gt; | Wind &lt;dbl&gt; | Temp &lt;int&gt; | Month &lt;int&gt; | Day &lt;int&gt; | TempC &lt;dbl&gt; |\n",
       "|---|---|---|---|---|---|---|\n",
       "|  41 | 190 |  7.4 | 67 | 5 |  1 | 19.44444 |\n",
       "|  36 | 118 |  8.0 | 72 | 5 |  2 | 22.22222 |\n",
       "|  12 | 149 | 12.6 | 74 | 5 |  3 | 23.33333 |\n",
       "|  18 | 313 | 11.5 | 62 | 5 |  4 | 16.66667 |\n",
       "|  NA |  NA | 14.3 | 56 | 5 |  5 | 13.33333 |\n",
       "|  28 |  NA | 14.9 | 66 | 5 |  6 | 18.88889 |\n",
       "|  23 | 299 |  8.6 | 65 | 5 |  7 | 18.33333 |\n",
       "|  19 |  99 | 13.8 | 59 | 5 |  8 | 15.00000 |\n",
       "|   8 |  19 | 20.1 | 61 | 5 |  9 | 16.11111 |\n",
       "|  NA | 194 |  8.6 | 69 | 5 | 10 | 20.55556 |\n",
       "|   7 |  NA |  6.9 | 74 | 5 | 11 | 23.33333 |\n",
       "|  16 | 256 |  9.7 | 69 | 5 | 12 | 20.55556 |\n",
       "|  11 | 290 |  9.2 | 66 | 5 | 13 | 18.88889 |\n",
       "|  14 | 274 | 10.9 | 68 | 5 | 14 | 20.00000 |\n",
       "|  18 |  65 | 13.2 | 58 | 5 | 15 | 14.44444 |\n",
       "|  14 | 334 | 11.5 | 64 | 5 | 16 | 17.77778 |\n",
       "|  34 | 307 | 12.0 | 66 | 5 | 17 | 18.88889 |\n",
       "|   6 |  78 | 18.4 | 57 | 5 | 18 | 13.88889 |\n",
       "|  30 | 322 | 11.5 | 68 | 5 | 19 | 20.00000 |\n",
       "|  11 |  44 |  9.7 | 62 | 5 | 20 | 16.66667 |\n",
       "|   1 |   8 |  9.7 | 59 | 5 | 21 | 15.00000 |\n",
       "|  11 | 320 | 16.6 | 73 | 5 | 22 | 22.77778 |\n",
       "|   4 |  25 |  9.7 | 61 | 5 | 23 | 16.11111 |\n",
       "|  32 |  92 | 12.0 | 61 | 5 | 24 | 16.11111 |\n",
       "|  NA |  66 | 16.6 | 57 | 5 | 25 | 13.88889 |\n",
       "|  NA | 266 | 14.9 | 58 | 5 | 26 | 14.44444 |\n",
       "|  NA |  NA |  8.0 | 57 | 5 | 27 | 13.88889 |\n",
       "|  23 |  13 | 12.0 | 67 | 5 | 28 | 19.44444 |\n",
       "|  45 | 252 | 14.9 | 81 | 5 | 29 | 27.22222 |\n",
       "| 115 | 223 |  5.7 | 79 | 5 | 30 | 26.11111 |\n",
       "| ⋮ | ⋮ | ⋮ | ⋮ | ⋮ | ⋮ | ⋮ |\n",
       "| 96 | 167 |  6.9 | 91 | 9 |  1 | 32.77778 |\n",
       "| 78 | 197 |  5.1 | 92 | 9 |  2 | 33.33333 |\n",
       "| 73 | 183 |  2.8 | 93 | 9 |  3 | 33.88889 |\n",
       "| 91 | 189 |  4.6 | 93 | 9 |  4 | 33.88889 |\n",
       "| 47 |  95 |  7.4 | 87 | 9 |  5 | 30.55556 |\n",
       "| 32 |  92 | 15.5 | 84 | 9 |  6 | 28.88889 |\n",
       "| 20 | 252 | 10.9 | 80 | 9 |  7 | 26.66667 |\n",
       "| 23 | 220 | 10.3 | 78 | 9 |  8 | 25.55556 |\n",
       "| 21 | 230 | 10.9 | 75 | 9 |  9 | 23.88889 |\n",
       "| 24 | 259 |  9.7 | 73 | 9 | 10 | 22.77778 |\n",
       "| 44 | 236 | 14.9 | 81 | 9 | 11 | 27.22222 |\n",
       "| 21 | 259 | 15.5 | 76 | 9 | 12 | 24.44444 |\n",
       "| 28 | 238 |  6.3 | 77 | 9 | 13 | 25.00000 |\n",
       "|  9 |  24 | 10.9 | 71 | 9 | 14 | 21.66667 |\n",
       "| 13 | 112 | 11.5 | 71 | 9 | 15 | 21.66667 |\n",
       "| 46 | 237 |  6.9 | 78 | 9 | 16 | 25.55556 |\n",
       "| 18 | 224 | 13.8 | 67 | 9 | 17 | 19.44444 |\n",
       "| 13 |  27 | 10.3 | 76 | 9 | 18 | 24.44444 |\n",
       "| 24 | 238 | 10.3 | 68 | 9 | 19 | 20.00000 |\n",
       "| 16 | 201 |  8.0 | 82 | 9 | 20 | 27.77778 |\n",
       "| 13 | 238 | 12.6 | 64 | 9 | 21 | 17.77778 |\n",
       "| 23 |  14 |  9.2 | 71 | 9 | 22 | 21.66667 |\n",
       "| 36 | 139 | 10.3 | 81 | 9 | 23 | 27.22222 |\n",
       "|  7 |  49 | 10.3 | 69 | 9 | 24 | 20.55556 |\n",
       "| 14 |  20 | 16.6 | 63 | 9 | 25 | 17.22222 |\n",
       "| 30 | 193 |  6.9 | 70 | 9 | 26 | 21.11111 |\n",
       "| NA | 145 | 13.2 | 77 | 9 | 27 | 25.00000 |\n",
       "| 14 | 191 | 14.3 | 75 | 9 | 28 | 23.88889 |\n",
       "| 18 | 131 |  8.0 | 76 | 9 | 29 | 24.44444 |\n",
       "| 20 | 223 | 11.5 | 68 | 9 | 30 | 20.00000 |\n",
       "\n"
      ],
      "text/plain": [
       "    Ozone Solar.R Wind Temp Month Day TempC   \n",
       "1    41   190      7.4 67   5      1  19.44444\n",
       "2    36   118      8.0 72   5      2  22.22222\n",
       "3    12   149     12.6 74   5      3  23.33333\n",
       "4    18   313     11.5 62   5      4  16.66667\n",
       "5    NA    NA     14.3 56   5      5  13.33333\n",
       "6    28    NA     14.9 66   5      6  18.88889\n",
       "7    23   299      8.6 65   5      7  18.33333\n",
       "8    19    99     13.8 59   5      8  15.00000\n",
       "9     8    19     20.1 61   5      9  16.11111\n",
       "10   NA   194      8.6 69   5     10  20.55556\n",
       "11    7    NA      6.9 74   5     11  23.33333\n",
       "12   16   256      9.7 69   5     12  20.55556\n",
       "13   11   290      9.2 66   5     13  18.88889\n",
       "14   14   274     10.9 68   5     14  20.00000\n",
       "15   18    65     13.2 58   5     15  14.44444\n",
       "16   14   334     11.5 64   5     16  17.77778\n",
       "17   34   307     12.0 66   5     17  18.88889\n",
       "18    6    78     18.4 57   5     18  13.88889\n",
       "19   30   322     11.5 68   5     19  20.00000\n",
       "20   11    44      9.7 62   5     20  16.66667\n",
       "21    1     8      9.7 59   5     21  15.00000\n",
       "22   11   320     16.6 73   5     22  22.77778\n",
       "23    4    25      9.7 61   5     23  16.11111\n",
       "24   32    92     12.0 61   5     24  16.11111\n",
       "25   NA    66     16.6 57   5     25  13.88889\n",
       "26   NA   266     14.9 58   5     26  14.44444\n",
       "27   NA    NA      8.0 57   5     27  13.88889\n",
       "28   23    13     12.0 67   5     28  19.44444\n",
       "29   45   252     14.9 81   5     29  27.22222\n",
       "30  115   223      5.7 79   5     30  26.11111\n",
       "⋮   ⋮     ⋮       ⋮    ⋮    ⋮     ⋮   ⋮       \n",
       "124 96    167      6.9 91   9      1  32.77778\n",
       "125 78    197      5.1 92   9      2  33.33333\n",
       "126 73    183      2.8 93   9      3  33.88889\n",
       "127 91    189      4.6 93   9      4  33.88889\n",
       "128 47     95      7.4 87   9      5  30.55556\n",
       "129 32     92     15.5 84   9      6  28.88889\n",
       "130 20    252     10.9 80   9      7  26.66667\n",
       "131 23    220     10.3 78   9      8  25.55556\n",
       "132 21    230     10.9 75   9      9  23.88889\n",
       "133 24    259      9.7 73   9     10  22.77778\n",
       "134 44    236     14.9 81   9     11  27.22222\n",
       "135 21    259     15.5 76   9     12  24.44444\n",
       "136 28    238      6.3 77   9     13  25.00000\n",
       "137  9     24     10.9 71   9     14  21.66667\n",
       "138 13    112     11.5 71   9     15  21.66667\n",
       "139 46    237      6.9 78   9     16  25.55556\n",
       "140 18    224     13.8 67   9     17  19.44444\n",
       "141 13     27     10.3 76   9     18  24.44444\n",
       "142 24    238     10.3 68   9     19  20.00000\n",
       "143 16    201      8.0 82   9     20  27.77778\n",
       "144 13    238     12.6 64   9     21  17.77778\n",
       "145 23     14      9.2 71   9     22  21.66667\n",
       "146 36    139     10.3 81   9     23  27.22222\n",
       "147  7     49     10.3 69   9     24  20.55556\n",
       "148 14     20     16.6 63   9     25  17.22222\n",
       "149 30    193      6.9 70   9     26  21.11111\n",
       "150 NA    145     13.2 77   9     27  25.00000\n",
       "151 14    191     14.3 75   9     28  23.88889\n",
       "152 18    131      8.0 76   9     29  24.44444\n",
       "153 20    223     11.5 68   9     30  20.00000"
      ]
     },
     "metadata": {},
     "output_type": "display_data"
    }
   ],
   "source": [
    "install.packages(\"dplyr\")\n",
    "library(\"dplyr\")\n",
    "\n",
    "dff <- select(airquality,c(0:7))\n",
    "\n",
    "dff"
   ]
  },
  {
   "attachments": {},
   "cell_type": "markdown",
   "metadata": {},
   "source": [
    "(r) Select the days in May with a temperature above 70 Fahrenheit"
   ]
  },
  {
   "cell_type": "code",
   "execution_count": 110,
   "metadata": {
    "vscode": {
     "languageId": "r"
    }
   },
   "outputs": [
    {
     "data": {
      "text/html": [
       "<table class=\"dataframe\">\n",
       "<caption>A data.frame: 7 × 1</caption>\n",
       "<thead>\n",
       "\t<tr><th scope=col>Day</th></tr>\n",
       "\t<tr><th scope=col>&lt;int&gt;</th></tr>\n",
       "</thead>\n",
       "<tbody>\n",
       "\t<tr><td> 2</td></tr>\n",
       "\t<tr><td> 3</td></tr>\n",
       "\t<tr><td>11</td></tr>\n",
       "\t<tr><td>22</td></tr>\n",
       "\t<tr><td>29</td></tr>\n",
       "\t<tr><td>30</td></tr>\n",
       "\t<tr><td>31</td></tr>\n",
       "</tbody>\n",
       "</table>\n"
      ],
      "text/latex": [
       "A data.frame: 7 × 1\n",
       "\\begin{tabular}{l}\n",
       " Day\\\\\n",
       " <int>\\\\\n",
       "\\hline\n",
       "\t  2\\\\\n",
       "\t  3\\\\\n",
       "\t 11\\\\\n",
       "\t 22\\\\\n",
       "\t 29\\\\\n",
       "\t 30\\\\\n",
       "\t 31\\\\\n",
       "\\end{tabular}\n"
      ],
      "text/markdown": [
       "\n",
       "A data.frame: 7 × 1\n",
       "\n",
       "| Day &lt;int&gt; |\n",
       "|---|\n",
       "|  2 |\n",
       "|  3 |\n",
       "| 11 |\n",
       "| 22 |\n",
       "| 29 |\n",
       "| 30 |\n",
       "| 31 |\n",
       "\n"
      ],
      "text/plain": [
       "  Day\n",
       "1  2 \n",
       "2  3 \n",
       "3 11 \n",
       "4 22 \n",
       "5 29 \n",
       "6 30 \n",
       "7 31 "
      ]
     },
     "metadata": {},
     "output_type": "display_data"
    }
   ],
   "source": [
    "airquality %>%\n",
    "    filter(Temp > 70) %>%\n",
    "    filter(Month == 5) %>%\n",
    "    select(Day)"
   ]
  },
  {
   "attachments": {},
   "cell_type": "markdown",
   "metadata": {},
   "source": [
    "(s) Create a new attribute TempC which represents the temperature values in Celsius"
   ]
  },
  {
   "cell_type": "code",
   "execution_count": 111,
   "metadata": {
    "vscode": {
     "languageId": "r"
    }
   },
   "outputs": [
    {
     "data": {
      "text/html": [
       "<table class=\"dataframe\">\n",
       "<caption>A data.frame: 153 × 7</caption>\n",
       "<thead>\n",
       "\t<tr><th scope=col>Ozone</th><th scope=col>Solar.R</th><th scope=col>Wind</th><th scope=col>Temp</th><th scope=col>Month</th><th scope=col>Day</th><th scope=col>TempC</th></tr>\n",
       "\t<tr><th scope=col>&lt;int&gt;</th><th scope=col>&lt;int&gt;</th><th scope=col>&lt;dbl&gt;</th><th scope=col>&lt;int&gt;</th><th scope=col>&lt;int&gt;</th><th scope=col>&lt;int&gt;</th><th scope=col>&lt;dbl&gt;</th></tr>\n",
       "</thead>\n",
       "<tbody>\n",
       "\t<tr><td> 41</td><td>190</td><td> 7.4</td><td>67</td><td>5</td><td> 1</td><td>19.44444</td></tr>\n",
       "\t<tr><td> 36</td><td>118</td><td> 8.0</td><td>72</td><td>5</td><td> 2</td><td>22.22222</td></tr>\n",
       "\t<tr><td> 12</td><td>149</td><td>12.6</td><td>74</td><td>5</td><td> 3</td><td>23.33333</td></tr>\n",
       "\t<tr><td> 18</td><td>313</td><td>11.5</td><td>62</td><td>5</td><td> 4</td><td>16.66667</td></tr>\n",
       "\t<tr><td> NA</td><td> NA</td><td>14.3</td><td>56</td><td>5</td><td> 5</td><td>13.33333</td></tr>\n",
       "\t<tr><td> 28</td><td> NA</td><td>14.9</td><td>66</td><td>5</td><td> 6</td><td>18.88889</td></tr>\n",
       "\t<tr><td> 23</td><td>299</td><td> 8.6</td><td>65</td><td>5</td><td> 7</td><td>18.33333</td></tr>\n",
       "\t<tr><td> 19</td><td> 99</td><td>13.8</td><td>59</td><td>5</td><td> 8</td><td>15.00000</td></tr>\n",
       "\t<tr><td>  8</td><td> 19</td><td>20.1</td><td>61</td><td>5</td><td> 9</td><td>16.11111</td></tr>\n",
       "\t<tr><td> NA</td><td>194</td><td> 8.6</td><td>69</td><td>5</td><td>10</td><td>20.55556</td></tr>\n",
       "\t<tr><td>  7</td><td> NA</td><td> 6.9</td><td>74</td><td>5</td><td>11</td><td>23.33333</td></tr>\n",
       "\t<tr><td> 16</td><td>256</td><td> 9.7</td><td>69</td><td>5</td><td>12</td><td>20.55556</td></tr>\n",
       "\t<tr><td> 11</td><td>290</td><td> 9.2</td><td>66</td><td>5</td><td>13</td><td>18.88889</td></tr>\n",
       "\t<tr><td> 14</td><td>274</td><td>10.9</td><td>68</td><td>5</td><td>14</td><td>20.00000</td></tr>\n",
       "\t<tr><td> 18</td><td> 65</td><td>13.2</td><td>58</td><td>5</td><td>15</td><td>14.44444</td></tr>\n",
       "\t<tr><td> 14</td><td>334</td><td>11.5</td><td>64</td><td>5</td><td>16</td><td>17.77778</td></tr>\n",
       "\t<tr><td> 34</td><td>307</td><td>12.0</td><td>66</td><td>5</td><td>17</td><td>18.88889</td></tr>\n",
       "\t<tr><td>  6</td><td> 78</td><td>18.4</td><td>57</td><td>5</td><td>18</td><td>13.88889</td></tr>\n",
       "\t<tr><td> 30</td><td>322</td><td>11.5</td><td>68</td><td>5</td><td>19</td><td>20.00000</td></tr>\n",
       "\t<tr><td> 11</td><td> 44</td><td> 9.7</td><td>62</td><td>5</td><td>20</td><td>16.66667</td></tr>\n",
       "\t<tr><td>  1</td><td>  8</td><td> 9.7</td><td>59</td><td>5</td><td>21</td><td>15.00000</td></tr>\n",
       "\t<tr><td> 11</td><td>320</td><td>16.6</td><td>73</td><td>5</td><td>22</td><td>22.77778</td></tr>\n",
       "\t<tr><td>  4</td><td> 25</td><td> 9.7</td><td>61</td><td>5</td><td>23</td><td>16.11111</td></tr>\n",
       "\t<tr><td> 32</td><td> 92</td><td>12.0</td><td>61</td><td>5</td><td>24</td><td>16.11111</td></tr>\n",
       "\t<tr><td> NA</td><td> 66</td><td>16.6</td><td>57</td><td>5</td><td>25</td><td>13.88889</td></tr>\n",
       "\t<tr><td> NA</td><td>266</td><td>14.9</td><td>58</td><td>5</td><td>26</td><td>14.44444</td></tr>\n",
       "\t<tr><td> NA</td><td> NA</td><td> 8.0</td><td>57</td><td>5</td><td>27</td><td>13.88889</td></tr>\n",
       "\t<tr><td> 23</td><td> 13</td><td>12.0</td><td>67</td><td>5</td><td>28</td><td>19.44444</td></tr>\n",
       "\t<tr><td> 45</td><td>252</td><td>14.9</td><td>81</td><td>5</td><td>29</td><td>27.22222</td></tr>\n",
       "\t<tr><td>115</td><td>223</td><td> 5.7</td><td>79</td><td>5</td><td>30</td><td>26.11111</td></tr>\n",
       "\t<tr><td>⋮</td><td>⋮</td><td>⋮</td><td>⋮</td><td>⋮</td><td>⋮</td><td>⋮</td></tr>\n",
       "\t<tr><td>96</td><td>167</td><td> 6.9</td><td>91</td><td>9</td><td> 1</td><td>32.77778</td></tr>\n",
       "\t<tr><td>78</td><td>197</td><td> 5.1</td><td>92</td><td>9</td><td> 2</td><td>33.33333</td></tr>\n",
       "\t<tr><td>73</td><td>183</td><td> 2.8</td><td>93</td><td>9</td><td> 3</td><td>33.88889</td></tr>\n",
       "\t<tr><td>91</td><td>189</td><td> 4.6</td><td>93</td><td>9</td><td> 4</td><td>33.88889</td></tr>\n",
       "\t<tr><td>47</td><td> 95</td><td> 7.4</td><td>87</td><td>9</td><td> 5</td><td>30.55556</td></tr>\n",
       "\t<tr><td>32</td><td> 92</td><td>15.5</td><td>84</td><td>9</td><td> 6</td><td>28.88889</td></tr>\n",
       "\t<tr><td>20</td><td>252</td><td>10.9</td><td>80</td><td>9</td><td> 7</td><td>26.66667</td></tr>\n",
       "\t<tr><td>23</td><td>220</td><td>10.3</td><td>78</td><td>9</td><td> 8</td><td>25.55556</td></tr>\n",
       "\t<tr><td>21</td><td>230</td><td>10.9</td><td>75</td><td>9</td><td> 9</td><td>23.88889</td></tr>\n",
       "\t<tr><td>24</td><td>259</td><td> 9.7</td><td>73</td><td>9</td><td>10</td><td>22.77778</td></tr>\n",
       "\t<tr><td>44</td><td>236</td><td>14.9</td><td>81</td><td>9</td><td>11</td><td>27.22222</td></tr>\n",
       "\t<tr><td>21</td><td>259</td><td>15.5</td><td>76</td><td>9</td><td>12</td><td>24.44444</td></tr>\n",
       "\t<tr><td>28</td><td>238</td><td> 6.3</td><td>77</td><td>9</td><td>13</td><td>25.00000</td></tr>\n",
       "\t<tr><td> 9</td><td> 24</td><td>10.9</td><td>71</td><td>9</td><td>14</td><td>21.66667</td></tr>\n",
       "\t<tr><td>13</td><td>112</td><td>11.5</td><td>71</td><td>9</td><td>15</td><td>21.66667</td></tr>\n",
       "\t<tr><td>46</td><td>237</td><td> 6.9</td><td>78</td><td>9</td><td>16</td><td>25.55556</td></tr>\n",
       "\t<tr><td>18</td><td>224</td><td>13.8</td><td>67</td><td>9</td><td>17</td><td>19.44444</td></tr>\n",
       "\t<tr><td>13</td><td> 27</td><td>10.3</td><td>76</td><td>9</td><td>18</td><td>24.44444</td></tr>\n",
       "\t<tr><td>24</td><td>238</td><td>10.3</td><td>68</td><td>9</td><td>19</td><td>20.00000</td></tr>\n",
       "\t<tr><td>16</td><td>201</td><td> 8.0</td><td>82</td><td>9</td><td>20</td><td>27.77778</td></tr>\n",
       "\t<tr><td>13</td><td>238</td><td>12.6</td><td>64</td><td>9</td><td>21</td><td>17.77778</td></tr>\n",
       "\t<tr><td>23</td><td> 14</td><td> 9.2</td><td>71</td><td>9</td><td>22</td><td>21.66667</td></tr>\n",
       "\t<tr><td>36</td><td>139</td><td>10.3</td><td>81</td><td>9</td><td>23</td><td>27.22222</td></tr>\n",
       "\t<tr><td> 7</td><td> 49</td><td>10.3</td><td>69</td><td>9</td><td>24</td><td>20.55556</td></tr>\n",
       "\t<tr><td>14</td><td> 20</td><td>16.6</td><td>63</td><td>9</td><td>25</td><td>17.22222</td></tr>\n",
       "\t<tr><td>30</td><td>193</td><td> 6.9</td><td>70</td><td>9</td><td>26</td><td>21.11111</td></tr>\n",
       "\t<tr><td>NA</td><td>145</td><td>13.2</td><td>77</td><td>9</td><td>27</td><td>25.00000</td></tr>\n",
       "\t<tr><td>14</td><td>191</td><td>14.3</td><td>75</td><td>9</td><td>28</td><td>23.88889</td></tr>\n",
       "\t<tr><td>18</td><td>131</td><td> 8.0</td><td>76</td><td>9</td><td>29</td><td>24.44444</td></tr>\n",
       "\t<tr><td>20</td><td>223</td><td>11.5</td><td>68</td><td>9</td><td>30</td><td>20.00000</td></tr>\n",
       "</tbody>\n",
       "</table>\n"
      ],
      "text/latex": [
       "A data.frame: 153 × 7\n",
       "\\begin{tabular}{lllllll}\n",
       " Ozone & Solar.R & Wind & Temp & Month & Day & TempC\\\\\n",
       " <int> & <int> & <dbl> & <int> & <int> & <int> & <dbl>\\\\\n",
       "\\hline\n",
       "\t  41 & 190 &  7.4 & 67 & 5 &  1 & 19.44444\\\\\n",
       "\t  36 & 118 &  8.0 & 72 & 5 &  2 & 22.22222\\\\\n",
       "\t  12 & 149 & 12.6 & 74 & 5 &  3 & 23.33333\\\\\n",
       "\t  18 & 313 & 11.5 & 62 & 5 &  4 & 16.66667\\\\\n",
       "\t  NA &  NA & 14.3 & 56 & 5 &  5 & 13.33333\\\\\n",
       "\t  28 &  NA & 14.9 & 66 & 5 &  6 & 18.88889\\\\\n",
       "\t  23 & 299 &  8.6 & 65 & 5 &  7 & 18.33333\\\\\n",
       "\t  19 &  99 & 13.8 & 59 & 5 &  8 & 15.00000\\\\\n",
       "\t   8 &  19 & 20.1 & 61 & 5 &  9 & 16.11111\\\\\n",
       "\t  NA & 194 &  8.6 & 69 & 5 & 10 & 20.55556\\\\\n",
       "\t   7 &  NA &  6.9 & 74 & 5 & 11 & 23.33333\\\\\n",
       "\t  16 & 256 &  9.7 & 69 & 5 & 12 & 20.55556\\\\\n",
       "\t  11 & 290 &  9.2 & 66 & 5 & 13 & 18.88889\\\\\n",
       "\t  14 & 274 & 10.9 & 68 & 5 & 14 & 20.00000\\\\\n",
       "\t  18 &  65 & 13.2 & 58 & 5 & 15 & 14.44444\\\\\n",
       "\t  14 & 334 & 11.5 & 64 & 5 & 16 & 17.77778\\\\\n",
       "\t  34 & 307 & 12.0 & 66 & 5 & 17 & 18.88889\\\\\n",
       "\t   6 &  78 & 18.4 & 57 & 5 & 18 & 13.88889\\\\\n",
       "\t  30 & 322 & 11.5 & 68 & 5 & 19 & 20.00000\\\\\n",
       "\t  11 &  44 &  9.7 & 62 & 5 & 20 & 16.66667\\\\\n",
       "\t   1 &   8 &  9.7 & 59 & 5 & 21 & 15.00000\\\\\n",
       "\t  11 & 320 & 16.6 & 73 & 5 & 22 & 22.77778\\\\\n",
       "\t   4 &  25 &  9.7 & 61 & 5 & 23 & 16.11111\\\\\n",
       "\t  32 &  92 & 12.0 & 61 & 5 & 24 & 16.11111\\\\\n",
       "\t  NA &  66 & 16.6 & 57 & 5 & 25 & 13.88889\\\\\n",
       "\t  NA & 266 & 14.9 & 58 & 5 & 26 & 14.44444\\\\\n",
       "\t  NA &  NA &  8.0 & 57 & 5 & 27 & 13.88889\\\\\n",
       "\t  23 &  13 & 12.0 & 67 & 5 & 28 & 19.44444\\\\\n",
       "\t  45 & 252 & 14.9 & 81 & 5 & 29 & 27.22222\\\\\n",
       "\t 115 & 223 &  5.7 & 79 & 5 & 30 & 26.11111\\\\\n",
       "\t ⋮ & ⋮ & ⋮ & ⋮ & ⋮ & ⋮ & ⋮\\\\\n",
       "\t 96 & 167 &  6.9 & 91 & 9 &  1 & 32.77778\\\\\n",
       "\t 78 & 197 &  5.1 & 92 & 9 &  2 & 33.33333\\\\\n",
       "\t 73 & 183 &  2.8 & 93 & 9 &  3 & 33.88889\\\\\n",
       "\t 91 & 189 &  4.6 & 93 & 9 &  4 & 33.88889\\\\\n",
       "\t 47 &  95 &  7.4 & 87 & 9 &  5 & 30.55556\\\\\n",
       "\t 32 &  92 & 15.5 & 84 & 9 &  6 & 28.88889\\\\\n",
       "\t 20 & 252 & 10.9 & 80 & 9 &  7 & 26.66667\\\\\n",
       "\t 23 & 220 & 10.3 & 78 & 9 &  8 & 25.55556\\\\\n",
       "\t 21 & 230 & 10.9 & 75 & 9 &  9 & 23.88889\\\\\n",
       "\t 24 & 259 &  9.7 & 73 & 9 & 10 & 22.77778\\\\\n",
       "\t 44 & 236 & 14.9 & 81 & 9 & 11 & 27.22222\\\\\n",
       "\t 21 & 259 & 15.5 & 76 & 9 & 12 & 24.44444\\\\\n",
       "\t 28 & 238 &  6.3 & 77 & 9 & 13 & 25.00000\\\\\n",
       "\t  9 &  24 & 10.9 & 71 & 9 & 14 & 21.66667\\\\\n",
       "\t 13 & 112 & 11.5 & 71 & 9 & 15 & 21.66667\\\\\n",
       "\t 46 & 237 &  6.9 & 78 & 9 & 16 & 25.55556\\\\\n",
       "\t 18 & 224 & 13.8 & 67 & 9 & 17 & 19.44444\\\\\n",
       "\t 13 &  27 & 10.3 & 76 & 9 & 18 & 24.44444\\\\\n",
       "\t 24 & 238 & 10.3 & 68 & 9 & 19 & 20.00000\\\\\n",
       "\t 16 & 201 &  8.0 & 82 & 9 & 20 & 27.77778\\\\\n",
       "\t 13 & 238 & 12.6 & 64 & 9 & 21 & 17.77778\\\\\n",
       "\t 23 &  14 &  9.2 & 71 & 9 & 22 & 21.66667\\\\\n",
       "\t 36 & 139 & 10.3 & 81 & 9 & 23 & 27.22222\\\\\n",
       "\t  7 &  49 & 10.3 & 69 & 9 & 24 & 20.55556\\\\\n",
       "\t 14 &  20 & 16.6 & 63 & 9 & 25 & 17.22222\\\\\n",
       "\t 30 & 193 &  6.9 & 70 & 9 & 26 & 21.11111\\\\\n",
       "\t NA & 145 & 13.2 & 77 & 9 & 27 & 25.00000\\\\\n",
       "\t 14 & 191 & 14.3 & 75 & 9 & 28 & 23.88889\\\\\n",
       "\t 18 & 131 &  8.0 & 76 & 9 & 29 & 24.44444\\\\\n",
       "\t 20 & 223 & 11.5 & 68 & 9 & 30 & 20.00000\\\\\n",
       "\\end{tabular}\n"
      ],
      "text/markdown": [
       "\n",
       "A data.frame: 153 × 7\n",
       "\n",
       "| Ozone &lt;int&gt; | Solar.R &lt;int&gt; | Wind &lt;dbl&gt; | Temp &lt;int&gt; | Month &lt;int&gt; | Day &lt;int&gt; | TempC &lt;dbl&gt; |\n",
       "|---|---|---|---|---|---|---|\n",
       "|  41 | 190 |  7.4 | 67 | 5 |  1 | 19.44444 |\n",
       "|  36 | 118 |  8.0 | 72 | 5 |  2 | 22.22222 |\n",
       "|  12 | 149 | 12.6 | 74 | 5 |  3 | 23.33333 |\n",
       "|  18 | 313 | 11.5 | 62 | 5 |  4 | 16.66667 |\n",
       "|  NA |  NA | 14.3 | 56 | 5 |  5 | 13.33333 |\n",
       "|  28 |  NA | 14.9 | 66 | 5 |  6 | 18.88889 |\n",
       "|  23 | 299 |  8.6 | 65 | 5 |  7 | 18.33333 |\n",
       "|  19 |  99 | 13.8 | 59 | 5 |  8 | 15.00000 |\n",
       "|   8 |  19 | 20.1 | 61 | 5 |  9 | 16.11111 |\n",
       "|  NA | 194 |  8.6 | 69 | 5 | 10 | 20.55556 |\n",
       "|   7 |  NA |  6.9 | 74 | 5 | 11 | 23.33333 |\n",
       "|  16 | 256 |  9.7 | 69 | 5 | 12 | 20.55556 |\n",
       "|  11 | 290 |  9.2 | 66 | 5 | 13 | 18.88889 |\n",
       "|  14 | 274 | 10.9 | 68 | 5 | 14 | 20.00000 |\n",
       "|  18 |  65 | 13.2 | 58 | 5 | 15 | 14.44444 |\n",
       "|  14 | 334 | 11.5 | 64 | 5 | 16 | 17.77778 |\n",
       "|  34 | 307 | 12.0 | 66 | 5 | 17 | 18.88889 |\n",
       "|   6 |  78 | 18.4 | 57 | 5 | 18 | 13.88889 |\n",
       "|  30 | 322 | 11.5 | 68 | 5 | 19 | 20.00000 |\n",
       "|  11 |  44 |  9.7 | 62 | 5 | 20 | 16.66667 |\n",
       "|   1 |   8 |  9.7 | 59 | 5 | 21 | 15.00000 |\n",
       "|  11 | 320 | 16.6 | 73 | 5 | 22 | 22.77778 |\n",
       "|   4 |  25 |  9.7 | 61 | 5 | 23 | 16.11111 |\n",
       "|  32 |  92 | 12.0 | 61 | 5 | 24 | 16.11111 |\n",
       "|  NA |  66 | 16.6 | 57 | 5 | 25 | 13.88889 |\n",
       "|  NA | 266 | 14.9 | 58 | 5 | 26 | 14.44444 |\n",
       "|  NA |  NA |  8.0 | 57 | 5 | 27 | 13.88889 |\n",
       "|  23 |  13 | 12.0 | 67 | 5 | 28 | 19.44444 |\n",
       "|  45 | 252 | 14.9 | 81 | 5 | 29 | 27.22222 |\n",
       "| 115 | 223 |  5.7 | 79 | 5 | 30 | 26.11111 |\n",
       "| ⋮ | ⋮ | ⋮ | ⋮ | ⋮ | ⋮ | ⋮ |\n",
       "| 96 | 167 |  6.9 | 91 | 9 |  1 | 32.77778 |\n",
       "| 78 | 197 |  5.1 | 92 | 9 |  2 | 33.33333 |\n",
       "| 73 | 183 |  2.8 | 93 | 9 |  3 | 33.88889 |\n",
       "| 91 | 189 |  4.6 | 93 | 9 |  4 | 33.88889 |\n",
       "| 47 |  95 |  7.4 | 87 | 9 |  5 | 30.55556 |\n",
       "| 32 |  92 | 15.5 | 84 | 9 |  6 | 28.88889 |\n",
       "| 20 | 252 | 10.9 | 80 | 9 |  7 | 26.66667 |\n",
       "| 23 | 220 | 10.3 | 78 | 9 |  8 | 25.55556 |\n",
       "| 21 | 230 | 10.9 | 75 | 9 |  9 | 23.88889 |\n",
       "| 24 | 259 |  9.7 | 73 | 9 | 10 | 22.77778 |\n",
       "| 44 | 236 | 14.9 | 81 | 9 | 11 | 27.22222 |\n",
       "| 21 | 259 | 15.5 | 76 | 9 | 12 | 24.44444 |\n",
       "| 28 | 238 |  6.3 | 77 | 9 | 13 | 25.00000 |\n",
       "|  9 |  24 | 10.9 | 71 | 9 | 14 | 21.66667 |\n",
       "| 13 | 112 | 11.5 | 71 | 9 | 15 | 21.66667 |\n",
       "| 46 | 237 |  6.9 | 78 | 9 | 16 | 25.55556 |\n",
       "| 18 | 224 | 13.8 | 67 | 9 | 17 | 19.44444 |\n",
       "| 13 |  27 | 10.3 | 76 | 9 | 18 | 24.44444 |\n",
       "| 24 | 238 | 10.3 | 68 | 9 | 19 | 20.00000 |\n",
       "| 16 | 201 |  8.0 | 82 | 9 | 20 | 27.77778 |\n",
       "| 13 | 238 | 12.6 | 64 | 9 | 21 | 17.77778 |\n",
       "| 23 |  14 |  9.2 | 71 | 9 | 22 | 21.66667 |\n",
       "| 36 | 139 | 10.3 | 81 | 9 | 23 | 27.22222 |\n",
       "|  7 |  49 | 10.3 | 69 | 9 | 24 | 20.55556 |\n",
       "| 14 |  20 | 16.6 | 63 | 9 | 25 | 17.22222 |\n",
       "| 30 | 193 |  6.9 | 70 | 9 | 26 | 21.11111 |\n",
       "| NA | 145 | 13.2 | 77 | 9 | 27 | 25.00000 |\n",
       "| 14 | 191 | 14.3 | 75 | 9 | 28 | 23.88889 |\n",
       "| 18 | 131 |  8.0 | 76 | 9 | 29 | 24.44444 |\n",
       "| 20 | 223 | 11.5 | 68 | 9 | 30 | 20.00000 |\n",
       "\n"
      ],
      "text/plain": [
       "    Ozone Solar.R Wind Temp Month Day TempC   \n",
       "1    41   190      7.4 67   5      1  19.44444\n",
       "2    36   118      8.0 72   5      2  22.22222\n",
       "3    12   149     12.6 74   5      3  23.33333\n",
       "4    18   313     11.5 62   5      4  16.66667\n",
       "5    NA    NA     14.3 56   5      5  13.33333\n",
       "6    28    NA     14.9 66   5      6  18.88889\n",
       "7    23   299      8.6 65   5      7  18.33333\n",
       "8    19    99     13.8 59   5      8  15.00000\n",
       "9     8    19     20.1 61   5      9  16.11111\n",
       "10   NA   194      8.6 69   5     10  20.55556\n",
       "11    7    NA      6.9 74   5     11  23.33333\n",
       "12   16   256      9.7 69   5     12  20.55556\n",
       "13   11   290      9.2 66   5     13  18.88889\n",
       "14   14   274     10.9 68   5     14  20.00000\n",
       "15   18    65     13.2 58   5     15  14.44444\n",
       "16   14   334     11.5 64   5     16  17.77778\n",
       "17   34   307     12.0 66   5     17  18.88889\n",
       "18    6    78     18.4 57   5     18  13.88889\n",
       "19   30   322     11.5 68   5     19  20.00000\n",
       "20   11    44      9.7 62   5     20  16.66667\n",
       "21    1     8      9.7 59   5     21  15.00000\n",
       "22   11   320     16.6 73   5     22  22.77778\n",
       "23    4    25      9.7 61   5     23  16.11111\n",
       "24   32    92     12.0 61   5     24  16.11111\n",
       "25   NA    66     16.6 57   5     25  13.88889\n",
       "26   NA   266     14.9 58   5     26  14.44444\n",
       "27   NA    NA      8.0 57   5     27  13.88889\n",
       "28   23    13     12.0 67   5     28  19.44444\n",
       "29   45   252     14.9 81   5     29  27.22222\n",
       "30  115   223      5.7 79   5     30  26.11111\n",
       "⋮   ⋮     ⋮       ⋮    ⋮    ⋮     ⋮   ⋮       \n",
       "124 96    167      6.9 91   9      1  32.77778\n",
       "125 78    197      5.1 92   9      2  33.33333\n",
       "126 73    183      2.8 93   9      3  33.88889\n",
       "127 91    189      4.6 93   9      4  33.88889\n",
       "128 47     95      7.4 87   9      5  30.55556\n",
       "129 32     92     15.5 84   9      6  28.88889\n",
       "130 20    252     10.9 80   9      7  26.66667\n",
       "131 23    220     10.3 78   9      8  25.55556\n",
       "132 21    230     10.9 75   9      9  23.88889\n",
       "133 24    259      9.7 73   9     10  22.77778\n",
       "134 44    236     14.9 81   9     11  27.22222\n",
       "135 21    259     15.5 76   9     12  24.44444\n",
       "136 28    238      6.3 77   9     13  25.00000\n",
       "137  9     24     10.9 71   9     14  21.66667\n",
       "138 13    112     11.5 71   9     15  21.66667\n",
       "139 46    237      6.9 78   9     16  25.55556\n",
       "140 18    224     13.8 67   9     17  19.44444\n",
       "141 13     27     10.3 76   9     18  24.44444\n",
       "142 24    238     10.3 68   9     19  20.00000\n",
       "143 16    201      8.0 82   9     20  27.77778\n",
       "144 13    238     12.6 64   9     21  17.77778\n",
       "145 23     14      9.2 71   9     22  21.66667\n",
       "146 36    139     10.3 81   9     23  27.22222\n",
       "147  7     49     10.3 69   9     24  20.55556\n",
       "148 14     20     16.6 63   9     25  17.22222\n",
       "149 30    193      6.9 70   9     26  21.11111\n",
       "150 NA    145     13.2 77   9     27  25.00000\n",
       "151 14    191     14.3 75   9     28  23.88889\n",
       "152 18    131      8.0 76   9     29  24.44444\n",
       "153 20    223     11.5 68   9     30  20.00000"
      ]
     },
     "metadata": {},
     "output_type": "display_data"
    }
   ],
   "source": [
    "airquality <- airquality %>%\n",
    "    mutate(TempC = (Temp - 32) * (5/9))\n",
    "\n",
    "airquality"
   ]
  },
  {
   "attachments": {},
   "cell_type": "markdown",
   "metadata": {},
   "source": [
    "(t) Inspect which were the 30 hottest days"
   ]
  },
  {
   "cell_type": "code",
   "execution_count": 113,
   "metadata": {
    "vscode": {
     "languageId": "r"
    }
   },
   "outputs": [
    {
     "name": "stdout",
     "output_type": "stream",
     "text": [
      "\u001b[90m# A tibble: 85 × 7\u001b[39m\n",
      "\u001b[90m# Groups:   Day [30]\u001b[39m\n",
      "   Ozone Solar.R  Wind  Temp Month   Day TempC\n",
      "   \u001b[3m\u001b[90m<int>\u001b[39m\u001b[23m   \u001b[3m\u001b[90m<int>\u001b[39m\u001b[23m \u001b[3m\u001b[90m<dbl>\u001b[39m\u001b[23m \u001b[3m\u001b[90m<int>\u001b[39m\u001b[23m \u001b[3m\u001b[90m<int>\u001b[39m\u001b[23m \u001b[3m\u001b[90m<int>\u001b[39m\u001b[23m \u001b[3m\u001b[90m<dbl>\u001b[39m\u001b[23m\n",
      "\u001b[90m 1\u001b[39m    45     252  14.9    81     5    29  27.2\n",
      "\u001b[90m 2\u001b[39m   115     223   5.7    79     5    30  26.1\n",
      "\u001b[90m 3\u001b[39m    \u001b[31mNA\u001b[39m     286   8.6    78     6     1  25.6\n",
      "\u001b[90m 4\u001b[39m    \u001b[31mNA\u001b[39m     186   9.2    84     6     4  28.9\n",
      "\u001b[90m 5\u001b[39m    \u001b[31mNA\u001b[39m     220   8.6    85     6     5  29.4\n",
      "\u001b[90m 6\u001b[39m    \u001b[31mNA\u001b[39m     264  14.3    79     6     6  26.1\n",
      "\u001b[90m 7\u001b[39m    29     127   9.7    82     6     7  27.8\n",
      "\u001b[90m 8\u001b[39m    \u001b[31mNA\u001b[39m     273   6.9    87     6     8  30.6\n",
      "\u001b[90m 9\u001b[39m    71     291  13.8    90     6     9  32.2\n",
      "\u001b[90m10\u001b[39m    39     323  11.5    87     6    10  30.6\n",
      "\u001b[90m11\u001b[39m    \u001b[31mNA\u001b[39m     259  10.9    93     6    11  33.9\n",
      "\u001b[90m12\u001b[39m    \u001b[31mNA\u001b[39m     250   9.2    92     6    12  33.3\n",
      "\u001b[90m13\u001b[39m    23     148   8      82     6    13  27.8\n",
      "\u001b[90m14\u001b[39m    \u001b[31mNA\u001b[39m     332  13.8    80     6    14  26.7\n",
      "\u001b[90m15\u001b[39m    \u001b[31mNA\u001b[39m     322  11.5    79     6    15  26.1\n",
      "\u001b[90m16\u001b[39m    \u001b[31mNA\u001b[39m     127   8      78     6    26  25.6\n",
      "\u001b[90m17\u001b[39m    \u001b[31mNA\u001b[39m      98  11.5    80     6    28  26.7\n",
      "\u001b[90m18\u001b[39m    \u001b[31mNA\u001b[39m     138   8      83     6    30  28.3\n",
      "\u001b[90m19\u001b[39m   135     269   4.1    84     7     1  28.9\n",
      "\u001b[90m20\u001b[39m    49     248   9.2    85     7     2  29.4\n",
      "\u001b[90m21\u001b[39m    32     236   9.2    81     7     3  27.2\n",
      "\u001b[90m22\u001b[39m    \u001b[31mNA\u001b[39m     101  10.9    84     7     4  28.9\n",
      "\u001b[90m23\u001b[39m    64     175   4.6    83     7     5  28.3\n",
      "\u001b[90m24\u001b[39m    40     314  10.9    83     7     6  28.3\n",
      "\u001b[90m25\u001b[39m    77     276   5.1    88     7     7  31.1\n",
      "\u001b[90m26\u001b[39m    97     267   6.3    92     7     8  33.3\n",
      "\u001b[90m27\u001b[39m    97     272   5.7    92     7     9  33.3\n",
      "\u001b[90m28\u001b[39m    85     175   7.4    89     7    10  31.7\n",
      "\u001b[90m29\u001b[39m    \u001b[31mNA\u001b[39m     139   8.6    82     7    11  27.8\n",
      "\u001b[90m30\u001b[39m    27     175  14.9    81     7    13  27.2\n",
      "\u001b[90m# ℹ 55 more rows\u001b[39m\n"
     ]
    }
   ],
   "source": [
    "airquality %>%\n",
    "    filter(TempC > 25) %>%\n",
    "    group_by(Day) %>%\n",
    "    print(n = 30)"
   ]
  },
  {
   "attachments": {},
   "cell_type": "markdown",
   "metadata": {},
   "source": [
    "(u) Inspect which were the hottest days, but also with the highest ozone values."
   ]
  },
  {
   "cell_type": "code",
   "execution_count": 112,
   "metadata": {
    "vscode": {
     "languageId": "r"
    }
   },
   "outputs": [
    {
     "data": {
      "text/html": [
       "<table class=\"dataframe\">\n",
       "<caption>A data.frame: 64 × 2</caption>\n",
       "<thead>\n",
       "\t<tr><th scope=col>Day</th><th scope=col>Ozone</th></tr>\n",
       "\t<tr><th scope=col>&lt;int&gt;</th><th scope=col>&lt;int&gt;</th></tr>\n",
       "</thead>\n",
       "<tbody>\n",
       "\t<tr><td>29</td><td> 45</td></tr>\n",
       "\t<tr><td>30</td><td>115</td></tr>\n",
       "\t<tr><td> 7</td><td> 29</td></tr>\n",
       "\t<tr><td> 9</td><td> 71</td></tr>\n",
       "\t<tr><td>10</td><td> 39</td></tr>\n",
       "\t<tr><td>13</td><td> 23</td></tr>\n",
       "\t<tr><td> 1</td><td>135</td></tr>\n",
       "\t<tr><td> 2</td><td> 49</td></tr>\n",
       "\t<tr><td> 3</td><td> 32</td></tr>\n",
       "\t<tr><td> 5</td><td> 64</td></tr>\n",
       "\t<tr><td> 6</td><td> 40</td></tr>\n",
       "\t<tr><td> 7</td><td> 77</td></tr>\n",
       "\t<tr><td> 8</td><td> 97</td></tr>\n",
       "\t<tr><td> 9</td><td> 97</td></tr>\n",
       "\t<tr><td>10</td><td> 85</td></tr>\n",
       "\t<tr><td>13</td><td> 27</td></tr>\n",
       "\t<tr><td>15</td><td>  7</td></tr>\n",
       "\t<tr><td>16</td><td> 48</td></tr>\n",
       "\t<tr><td>17</td><td> 35</td></tr>\n",
       "\t<tr><td>18</td><td> 61</td></tr>\n",
       "\t<tr><td>19</td><td> 79</td></tr>\n",
       "\t<tr><td>20</td><td> 63</td></tr>\n",
       "\t<tr><td>24</td><td> 80</td></tr>\n",
       "\t<tr><td>25</td><td>108</td></tr>\n",
       "\t<tr><td>26</td><td> 20</td></tr>\n",
       "\t<tr><td>27</td><td> 52</td></tr>\n",
       "\t<tr><td>28</td><td> 82</td></tr>\n",
       "\t<tr><td>29</td><td> 50</td></tr>\n",
       "\t<tr><td>30</td><td> 64</td></tr>\n",
       "\t<tr><td>31</td><td> 59</td></tr>\n",
       "\t<tr><td>⋮</td><td>⋮</td></tr>\n",
       "\t<tr><td> 5</td><td> 35</td></tr>\n",
       "\t<tr><td> 6</td><td> 66</td></tr>\n",
       "\t<tr><td> 7</td><td>122</td></tr>\n",
       "\t<tr><td> 8</td><td> 89</td></tr>\n",
       "\t<tr><td> 9</td><td>110</td></tr>\n",
       "\t<tr><td>12</td><td> 44</td></tr>\n",
       "\t<tr><td>13</td><td> 28</td></tr>\n",
       "\t<tr><td>14</td><td> 65</td></tr>\n",
       "\t<tr><td>17</td><td> 59</td></tr>\n",
       "\t<tr><td>19</td><td> 31</td></tr>\n",
       "\t<tr><td>20</td><td> 44</td></tr>\n",
       "\t<tr><td>24</td><td> 45</td></tr>\n",
       "\t<tr><td>25</td><td>168</td></tr>\n",
       "\t<tr><td>26</td><td> 73</td></tr>\n",
       "\t<tr><td>28</td><td> 76</td></tr>\n",
       "\t<tr><td>29</td><td>118</td></tr>\n",
       "\t<tr><td>30</td><td> 84</td></tr>\n",
       "\t<tr><td>31</td><td> 85</td></tr>\n",
       "\t<tr><td> 1</td><td> 96</td></tr>\n",
       "\t<tr><td> 2</td><td> 78</td></tr>\n",
       "\t<tr><td> 3</td><td> 73</td></tr>\n",
       "\t<tr><td> 4</td><td> 91</td></tr>\n",
       "\t<tr><td> 5</td><td> 47</td></tr>\n",
       "\t<tr><td> 6</td><td> 32</td></tr>\n",
       "\t<tr><td> 7</td><td> 20</td></tr>\n",
       "\t<tr><td> 8</td><td> 23</td></tr>\n",
       "\t<tr><td>11</td><td> 44</td></tr>\n",
       "\t<tr><td>16</td><td> 46</td></tr>\n",
       "\t<tr><td>20</td><td> 16</td></tr>\n",
       "\t<tr><td>23</td><td> 36</td></tr>\n",
       "</tbody>\n",
       "</table>\n"
      ],
      "text/latex": [
       "A data.frame: 64 × 2\n",
       "\\begin{tabular}{ll}\n",
       " Day & Ozone\\\\\n",
       " <int> & <int>\\\\\n",
       "\\hline\n",
       "\t 29 &  45\\\\\n",
       "\t 30 & 115\\\\\n",
       "\t  7 &  29\\\\\n",
       "\t  9 &  71\\\\\n",
       "\t 10 &  39\\\\\n",
       "\t 13 &  23\\\\\n",
       "\t  1 & 135\\\\\n",
       "\t  2 &  49\\\\\n",
       "\t  3 &  32\\\\\n",
       "\t  5 &  64\\\\\n",
       "\t  6 &  40\\\\\n",
       "\t  7 &  77\\\\\n",
       "\t  8 &  97\\\\\n",
       "\t  9 &  97\\\\\n",
       "\t 10 &  85\\\\\n",
       "\t 13 &  27\\\\\n",
       "\t 15 &   7\\\\\n",
       "\t 16 &  48\\\\\n",
       "\t 17 &  35\\\\\n",
       "\t 18 &  61\\\\\n",
       "\t 19 &  79\\\\\n",
       "\t 20 &  63\\\\\n",
       "\t 24 &  80\\\\\n",
       "\t 25 & 108\\\\\n",
       "\t 26 &  20\\\\\n",
       "\t 27 &  52\\\\\n",
       "\t 28 &  82\\\\\n",
       "\t 29 &  50\\\\\n",
       "\t 30 &  64\\\\\n",
       "\t 31 &  59\\\\\n",
       "\t ⋮ & ⋮\\\\\n",
       "\t  5 &  35\\\\\n",
       "\t  6 &  66\\\\\n",
       "\t  7 & 122\\\\\n",
       "\t  8 &  89\\\\\n",
       "\t  9 & 110\\\\\n",
       "\t 12 &  44\\\\\n",
       "\t 13 &  28\\\\\n",
       "\t 14 &  65\\\\\n",
       "\t 17 &  59\\\\\n",
       "\t 19 &  31\\\\\n",
       "\t 20 &  44\\\\\n",
       "\t 24 &  45\\\\\n",
       "\t 25 & 168\\\\\n",
       "\t 26 &  73\\\\\n",
       "\t 28 &  76\\\\\n",
       "\t 29 & 118\\\\\n",
       "\t 30 &  84\\\\\n",
       "\t 31 &  85\\\\\n",
       "\t  1 &  96\\\\\n",
       "\t  2 &  78\\\\\n",
       "\t  3 &  73\\\\\n",
       "\t  4 &  91\\\\\n",
       "\t  5 &  47\\\\\n",
       "\t  6 &  32\\\\\n",
       "\t  7 &  20\\\\\n",
       "\t  8 &  23\\\\\n",
       "\t 11 &  44\\\\\n",
       "\t 16 &  46\\\\\n",
       "\t 20 &  16\\\\\n",
       "\t 23 &  36\\\\\n",
       "\\end{tabular}\n"
      ],
      "text/markdown": [
       "\n",
       "A data.frame: 64 × 2\n",
       "\n",
       "| Day &lt;int&gt; | Ozone &lt;int&gt; |\n",
       "|---|---|\n",
       "| 29 |  45 |\n",
       "| 30 | 115 |\n",
       "|  7 |  29 |\n",
       "|  9 |  71 |\n",
       "| 10 |  39 |\n",
       "| 13 |  23 |\n",
       "|  1 | 135 |\n",
       "|  2 |  49 |\n",
       "|  3 |  32 |\n",
       "|  5 |  64 |\n",
       "|  6 |  40 |\n",
       "|  7 |  77 |\n",
       "|  8 |  97 |\n",
       "|  9 |  97 |\n",
       "| 10 |  85 |\n",
       "| 13 |  27 |\n",
       "| 15 |   7 |\n",
       "| 16 |  48 |\n",
       "| 17 |  35 |\n",
       "| 18 |  61 |\n",
       "| 19 |  79 |\n",
       "| 20 |  63 |\n",
       "| 24 |  80 |\n",
       "| 25 | 108 |\n",
       "| 26 |  20 |\n",
       "| 27 |  52 |\n",
       "| 28 |  82 |\n",
       "| 29 |  50 |\n",
       "| 30 |  64 |\n",
       "| 31 |  59 |\n",
       "| ⋮ | ⋮ |\n",
       "|  5 |  35 |\n",
       "|  6 |  66 |\n",
       "|  7 | 122 |\n",
       "|  8 |  89 |\n",
       "|  9 | 110 |\n",
       "| 12 |  44 |\n",
       "| 13 |  28 |\n",
       "| 14 |  65 |\n",
       "| 17 |  59 |\n",
       "| 19 |  31 |\n",
       "| 20 |  44 |\n",
       "| 24 |  45 |\n",
       "| 25 | 168 |\n",
       "| 26 |  73 |\n",
       "| 28 |  76 |\n",
       "| 29 | 118 |\n",
       "| 30 |  84 |\n",
       "| 31 |  85 |\n",
       "|  1 |  96 |\n",
       "|  2 |  78 |\n",
       "|  3 |  73 |\n",
       "|  4 |  91 |\n",
       "|  5 |  47 |\n",
       "|  6 |  32 |\n",
       "|  7 |  20 |\n",
       "|  8 |  23 |\n",
       "| 11 |  44 |\n",
       "| 16 |  46 |\n",
       "| 20 |  16 |\n",
       "| 23 |  36 |\n",
       "\n"
      ],
      "text/plain": [
       "   Day Ozone\n",
       "1  29   45  \n",
       "2  30  115  \n",
       "3   7   29  \n",
       "4   9   71  \n",
       "5  10   39  \n",
       "6  13   23  \n",
       "7   1  135  \n",
       "8   2   49  \n",
       "9   3   32  \n",
       "10  5   64  \n",
       "11  6   40  \n",
       "12  7   77  \n",
       "13  8   97  \n",
       "14  9   97  \n",
       "15 10   85  \n",
       "16 13   27  \n",
       "17 15    7  \n",
       "18 16   48  \n",
       "19 17   35  \n",
       "20 18   61  \n",
       "21 19   79  \n",
       "22 20   63  \n",
       "23 24   80  \n",
       "24 25  108  \n",
       "25 26   20  \n",
       "26 27   52  \n",
       "27 28   82  \n",
       "28 29   50  \n",
       "29 30   64  \n",
       "30 31   59  \n",
       "⋮  ⋮   ⋮    \n",
       "35  5   35  \n",
       "36  6   66  \n",
       "37  7  122  \n",
       "38  8   89  \n",
       "39  9  110  \n",
       "40 12   44  \n",
       "41 13   28  \n",
       "42 14   65  \n",
       "43 17   59  \n",
       "44 19   31  \n",
       "45 20   44  \n",
       "46 24   45  \n",
       "47 25  168  \n",
       "48 26   73  \n",
       "49 28   76  \n",
       "50 29  118  \n",
       "51 30   84  \n",
       "52 31   85  \n",
       "53  1   96  \n",
       "54  2   78  \n",
       "55  3   73  \n",
       "56  4   91  \n",
       "57  5   47  \n",
       "58  6   32  \n",
       "59  7   20  \n",
       "60  8   23  \n",
       "61 11   44  \n",
       "62 16   46  \n",
       "63 20   16  \n",
       "64 23   36  "
      ]
     },
     "metadata": {},
     "output_type": "display_data"
    }
   ],
   "source": [
    "airquality %>%\n",
    "    filter(!is.na(Ozone)) %>%\n",
    "    filter(TempC > 25 | Ozone > 50) %>%\n",
    "    select(Day, Ozone)"
   ]
  },
  {
   "attachments": {},
   "cell_type": "markdown",
   "metadata": {},
   "source": [
    "(v) Inspect the number of days for which there was a register for each month."
   ]
  },
  {
   "cell_type": "code",
   "execution_count": 55,
   "metadata": {
    "vscode": {
     "languageId": "r"
    }
   },
   "outputs": [
    {
     "data": {
      "text/html": [
       "<table class=\"dataframe\">\n",
       "<caption>A tibble: 5 × 2</caption>\n",
       "<thead>\n",
       "\t<tr><th scope=col>Month</th><th scope=col>count</th></tr>\n",
       "\t<tr><th scope=col>&lt;int&gt;</th><th scope=col>&lt;int&gt;</th></tr>\n",
       "</thead>\n",
       "<tbody>\n",
       "\t<tr><td>5</td><td>31</td></tr>\n",
       "\t<tr><td>6</td><td>30</td></tr>\n",
       "\t<tr><td>7</td><td>31</td></tr>\n",
       "\t<tr><td>8</td><td>31</td></tr>\n",
       "\t<tr><td>9</td><td>30</td></tr>\n",
       "</tbody>\n",
       "</table>\n"
      ],
      "text/latex": [
       "A tibble: 5 × 2\n",
       "\\begin{tabular}{ll}\n",
       " Month & count\\\\\n",
       " <int> & <int>\\\\\n",
       "\\hline\n",
       "\t 5 & 31\\\\\n",
       "\t 6 & 30\\\\\n",
       "\t 7 & 31\\\\\n",
       "\t 8 & 31\\\\\n",
       "\t 9 & 30\\\\\n",
       "\\end{tabular}\n"
      ],
      "text/markdown": [
       "\n",
       "A tibble: 5 × 2\n",
       "\n",
       "| Month &lt;int&gt; | count &lt;int&gt; |\n",
       "|---|---|\n",
       "| 5 | 31 |\n",
       "| 6 | 30 |\n",
       "| 7 | 31 |\n",
       "| 8 | 31 |\n",
       "| 9 | 30 |\n",
       "\n"
      ],
      "text/plain": [
       "  Month count\n",
       "1 5     31   \n",
       "2 6     30   \n",
       "3 7     31   \n",
       "4 8     31   \n",
       "5 9     30   "
      ]
     },
     "metadata": {},
     "output_type": "display_data"
    }
   ],
   "source": [
    "df %>%\n",
    "    group_by(Month) %>%\n",
    "    summarize(count = n())"
   ]
  },
  {
   "attachments": {},
   "cell_type": "markdown",
   "metadata": {},
   "source": [
    "(w) For each month, obtain the minimum and the maximum temperature registered in Celsius"
   ]
  },
  {
   "cell_type": "code",
   "execution_count": 114,
   "metadata": {
    "vscode": {
     "languageId": "r"
    }
   },
   "outputs": [
    {
     "data": {
      "text/html": [
       "<table class=\"dataframe\">\n",
       "<caption>A tibble: 5 × 3</caption>\n",
       "<thead>\n",
       "\t<tr><th scope=col>Month</th><th scope=col>max_TempC</th><th scope=col>min_TempC</th></tr>\n",
       "\t<tr><th scope=col>&lt;int&gt;</th><th scope=col>&lt;dbl&gt;</th><th scope=col>&lt;dbl&gt;</th></tr>\n",
       "</thead>\n",
       "<tbody>\n",
       "\t<tr><td>5</td><td>27.22222</td><td>13.33333</td></tr>\n",
       "\t<tr><td>6</td><td>33.88889</td><td>18.33333</td></tr>\n",
       "\t<tr><td>7</td><td>33.33333</td><td>22.77778</td></tr>\n",
       "\t<tr><td>8</td><td>36.11111</td><td>22.22222</td></tr>\n",
       "\t<tr><td>9</td><td>33.88889</td><td>17.22222</td></tr>\n",
       "</tbody>\n",
       "</table>\n"
      ],
      "text/latex": [
       "A tibble: 5 × 3\n",
       "\\begin{tabular}{lll}\n",
       " Month & max\\_TempC & min\\_TempC\\\\\n",
       " <int> & <dbl> & <dbl>\\\\\n",
       "\\hline\n",
       "\t 5 & 27.22222 & 13.33333\\\\\n",
       "\t 6 & 33.88889 & 18.33333\\\\\n",
       "\t 7 & 33.33333 & 22.77778\\\\\n",
       "\t 8 & 36.11111 & 22.22222\\\\\n",
       "\t 9 & 33.88889 & 17.22222\\\\\n",
       "\\end{tabular}\n"
      ],
      "text/markdown": [
       "\n",
       "A tibble: 5 × 3\n",
       "\n",
       "| Month &lt;int&gt; | max_TempC &lt;dbl&gt; | min_TempC &lt;dbl&gt; |\n",
       "|---|---|---|\n",
       "| 5 | 27.22222 | 13.33333 |\n",
       "| 6 | 33.88889 | 18.33333 |\n",
       "| 7 | 33.33333 | 22.77778 |\n",
       "| 8 | 36.11111 | 22.22222 |\n",
       "| 9 | 33.88889 | 17.22222 |\n",
       "\n"
      ],
      "text/plain": [
       "  Month max_TempC min_TempC\n",
       "1 5     27.22222  13.33333 \n",
       "2 6     33.88889  18.33333 \n",
       "3 7     33.33333  22.77778 \n",
       "4 8     36.11111  22.22222 \n",
       "5 9     33.88889  17.22222 "
      ]
     },
     "metadata": {},
     "output_type": "display_data"
    }
   ],
   "source": [
    "airquality %>%\n",
    "    group_by(Month) %>%\n",
    "    summarize(max_TempC = max(TempC), min_TempC = min(TempC))"
   ]
  },
  {
   "attachments": {},
   "cell_type": "markdown",
   "metadata": {},
   "source": [
    "(x) Obtain the average of the following parameters by month: temperature in celsius, wind, solar radiation and ozone."
   ]
  },
  {
   "cell_type": "code",
   "execution_count": 115,
   "metadata": {
    "vscode": {
     "languageId": "r"
    }
   },
   "outputs": [
    {
     "data": {
      "text/html": [
       "<table class=\"dataframe\">\n",
       "<caption>A tibble: 5 × 5</caption>\n",
       "<thead>\n",
       "\t<tr><th scope=col>Month</th><th scope=col>mean_TempC</th><th scope=col>mean_Wind</th><th scope=col>mean_Solar.R</th><th scope=col>mean_Ozone</th></tr>\n",
       "\t<tr><th scope=col>&lt;int&gt;</th><th scope=col>&lt;dbl&gt;</th><th scope=col>&lt;dbl&gt;</th><th scope=col>&lt;dbl&gt;</th><th scope=col>&lt;dbl&gt;</th></tr>\n",
       "</thead>\n",
       "<tbody>\n",
       "\t<tr><td>5</td><td>18.63799</td><td>11.622581</td><td>      NA</td><td>NA</td></tr>\n",
       "\t<tr><td>6</td><td>26.16667</td><td>10.266667</td><td>190.1667</td><td>NA</td></tr>\n",
       "\t<tr><td>7</td><td>28.83513</td><td> 8.941935</td><td>216.4839</td><td>NA</td></tr>\n",
       "\t<tr><td>8</td><td>28.87097</td><td> 8.793548</td><td>      NA</td><td>NA</td></tr>\n",
       "\t<tr><td>9</td><td>24.94444</td><td>10.180000</td><td>167.4333</td><td>NA</td></tr>\n",
       "</tbody>\n",
       "</table>\n"
      ],
      "text/latex": [
       "A tibble: 5 × 5\n",
       "\\begin{tabular}{lllll}\n",
       " Month & mean\\_TempC & mean\\_Wind & mean\\_Solar.R & mean\\_Ozone\\\\\n",
       " <int> & <dbl> & <dbl> & <dbl> & <dbl>\\\\\n",
       "\\hline\n",
       "\t 5 & 18.63799 & 11.622581 &       NA & NA\\\\\n",
       "\t 6 & 26.16667 & 10.266667 & 190.1667 & NA\\\\\n",
       "\t 7 & 28.83513 &  8.941935 & 216.4839 & NA\\\\\n",
       "\t 8 & 28.87097 &  8.793548 &       NA & NA\\\\\n",
       "\t 9 & 24.94444 & 10.180000 & 167.4333 & NA\\\\\n",
       "\\end{tabular}\n"
      ],
      "text/markdown": [
       "\n",
       "A tibble: 5 × 5\n",
       "\n",
       "| Month &lt;int&gt; | mean_TempC &lt;dbl&gt; | mean_Wind &lt;dbl&gt; | mean_Solar.R &lt;dbl&gt; | mean_Ozone &lt;dbl&gt; |\n",
       "|---|---|---|---|---|\n",
       "| 5 | 18.63799 | 11.622581 |       NA | NA |\n",
       "| 6 | 26.16667 | 10.266667 | 190.1667 | NA |\n",
       "| 7 | 28.83513 |  8.941935 | 216.4839 | NA |\n",
       "| 8 | 28.87097 |  8.793548 |       NA | NA |\n",
       "| 9 | 24.94444 | 10.180000 | 167.4333 | NA |\n",
       "\n"
      ],
      "text/plain": [
       "  Month mean_TempC mean_Wind mean_Solar.R mean_Ozone\n",
       "1 5     18.63799   11.622581       NA     NA        \n",
       "2 6     26.16667   10.266667 190.1667     NA        \n",
       "3 7     28.83513    8.941935 216.4839     NA        \n",
       "4 8     28.87097    8.793548       NA     NA        \n",
       "5 9     24.94444   10.180000 167.4333     NA        "
      ]
     },
     "metadata": {},
     "output_type": "display_data"
    }
   ],
   "source": [
    "airquality %>%\n",
    "    group_by(Month) %>%\n",
    "    summarize(mean_TempC = mean(TempC), mean_Wind = mean(Wind), mean_Solar.R = mean(Solar.R), mean_Ozone = mean(Ozone))"
   ]
  },
  {
   "attachments": {},
   "cell_type": "markdown",
   "metadata": {},
   "source": [
    "(y) What values did you obtain regarding ozone and solar radiation attributes? Why? Make the necessary change so that you get the average of the registered values."
   ]
  },
  {
   "cell_type": "code",
   "execution_count": 116,
   "metadata": {
    "vscode": {
     "languageId": "r"
    }
   },
   "outputs": [
    {
     "data": {
      "text/html": [
       "<table class=\"dataframe\">\n",
       "<caption>A tibble: 5 × 5</caption>\n",
       "<thead>\n",
       "\t<tr><th scope=col>Month</th><th scope=col>mean_TempC</th><th scope=col>mean_Wind</th><th scope=col>mean_Solar.R</th><th scope=col>mean_Ozone</th></tr>\n",
       "\t<tr><th scope=col>&lt;int&gt;</th><th scope=col>&lt;dbl&gt;</th><th scope=col>&lt;dbl&gt;</th><th scope=col>&lt;dbl&gt;</th><th scope=col>&lt;dbl&gt;</th></tr>\n",
       "</thead>\n",
       "<tbody>\n",
       "\t<tr><td>5</td><td>18.63799</td><td>11.622581</td><td>181.2963</td><td>23.61538</td></tr>\n",
       "\t<tr><td>6</td><td>26.16667</td><td>10.266667</td><td>190.1667</td><td>29.44444</td></tr>\n",
       "\t<tr><td>7</td><td>28.83513</td><td> 8.941935</td><td>216.4839</td><td>59.11538</td></tr>\n",
       "\t<tr><td>8</td><td>28.87097</td><td> 8.793548</td><td>171.8571</td><td>59.96154</td></tr>\n",
       "\t<tr><td>9</td><td>24.94444</td><td>10.180000</td><td>167.4333</td><td>31.44828</td></tr>\n",
       "</tbody>\n",
       "</table>\n"
      ],
      "text/latex": [
       "A tibble: 5 × 5\n",
       "\\begin{tabular}{lllll}\n",
       " Month & mean\\_TempC & mean\\_Wind & mean\\_Solar.R & mean\\_Ozone\\\\\n",
       " <int> & <dbl> & <dbl> & <dbl> & <dbl>\\\\\n",
       "\\hline\n",
       "\t 5 & 18.63799 & 11.622581 & 181.2963 & 23.61538\\\\\n",
       "\t 6 & 26.16667 & 10.266667 & 190.1667 & 29.44444\\\\\n",
       "\t 7 & 28.83513 &  8.941935 & 216.4839 & 59.11538\\\\\n",
       "\t 8 & 28.87097 &  8.793548 & 171.8571 & 59.96154\\\\\n",
       "\t 9 & 24.94444 & 10.180000 & 167.4333 & 31.44828\\\\\n",
       "\\end{tabular}\n"
      ],
      "text/markdown": [
       "\n",
       "A tibble: 5 × 5\n",
       "\n",
       "| Month &lt;int&gt; | mean_TempC &lt;dbl&gt; | mean_Wind &lt;dbl&gt; | mean_Solar.R &lt;dbl&gt; | mean_Ozone &lt;dbl&gt; |\n",
       "|---|---|---|---|---|\n",
       "| 5 | 18.63799 | 11.622581 | 181.2963 | 23.61538 |\n",
       "| 6 | 26.16667 | 10.266667 | 190.1667 | 29.44444 |\n",
       "| 7 | 28.83513 |  8.941935 | 216.4839 | 59.11538 |\n",
       "| 8 | 28.87097 |  8.793548 | 171.8571 | 59.96154 |\n",
       "| 9 | 24.94444 | 10.180000 | 167.4333 | 31.44828 |\n",
       "\n"
      ],
      "text/plain": [
       "  Month mean_TempC mean_Wind mean_Solar.R mean_Ozone\n",
       "1 5     18.63799   11.622581 181.2963     23.61538  \n",
       "2 6     26.16667   10.266667 190.1667     29.44444  \n",
       "3 7     28.83513    8.941935 216.4839     59.11538  \n",
       "4 8     28.87097    8.793548 171.8571     59.96154  \n",
       "5 9     24.94444   10.180000 167.4333     31.44828  "
      ]
     },
     "metadata": {},
     "output_type": "display_data"
    }
   ],
   "source": [
    "# I obtained NA Values because one or more items are NA. I sent attribute na.rm=TRUE in function mean\n",
    "airquality %>%\n",
    "    group_by(Month) %>%\n",
    "    summarize(mean_TempC = mean(TempC), mean_Wind = mean(Wind), mean_Solar.R = mean(Solar.R, na.rm=TRUE), mean_Ozone = mean(Ozone, na.rm=TRUE))"
   ]
  }
 ],
 "metadata": {
  "kernelspec": {
   "display_name": "R",
   "language": "R",
   "name": "ir"
  },
  "language_info": {
   "codemirror_mode": "r",
   "file_extension": ".r",
   "mimetype": "text/x-r-source",
   "name": "R",
   "pygments_lexer": "r",
   "version": "4.3.0"
  },
  "orig_nbformat": 4
 },
 "nbformat": 4,
 "nbformat_minor": 2
}
